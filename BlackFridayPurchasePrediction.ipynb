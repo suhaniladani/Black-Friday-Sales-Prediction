{
 "cells": [
  {
   "cell_type": "code",
   "execution_count": 7,
   "metadata": {
    "collapsed": true
   },
   "outputs": [],
   "source": [
    "import pandas as pd\n",
    "from pandas import Series, DataFrame\n",
    "import numpy as np\n",
    "import plotly.tools as tls\n",
    "import plotly.plotly as py\n",
    "import cufflinks as cf\n",
    "# print(cf.__version__)\n",
    "from sklearn import linear_model\n",
    "from sklearn.metrics import mean_squared_error, r2_score\n",
    "from math import sqrt\n",
    "from sklearn.model_selection import train_test_split\n",
    "import matplotlib.pyplot as plt\n",
    "\n",
    "%matplotlib inline\n",
    "\n",
    "# ------------------------------------------------------------------------\n",
    "tls.set_credentials_file(username='VIvidh',api_key='5RTkH4bVaeoz7EkYo2ce')\n",
    "# -------------------------------------------------------------------------"
   ]
  },
  {
   "cell_type": "code",
   "execution_count": 2,
   "metadata": {
    "collapsed": true
   },
   "outputs": [],
   "source": [
    "BlackFridayTrain = pd.read_csv('train.csv')"
   ]
  },
  {
   "cell_type": "code",
   "execution_count": 3,
   "metadata": {
    "collapsed": true
   },
   "outputs": [],
   "source": [
    "BlackFridayTrain['Product_Category_2'].fillna(0, inplace=True)\n",
    "BlackFridayTrain['Product_Category_3'].fillna(0, inplace=True)\n",
    "\n",
    "# BlackFridayTrain['Marital_Status'] = BlackFridayTrain['Marital_Status'].map({0: 'unmarried', 1: 'married'})\n",
    "# BlackFridayTrain['Product_Category_3'].fillna(0, inplace=True)\n",
    "\n",
    "BlackFridayTrain['Product_Category_2'] = BlackFridayTrain['Product_Category_2'].astype(int)\n",
    "BlackFridayTrain['Product_Category_3'] = BlackFridayTrain['Product_Category_3'].astype(int)"
   ]
  },
  {
   "cell_type": "code",
   "execution_count": 4,
   "metadata": {},
   "outputs": [
    {
     "data": {
      "text/html": [
       "<div>\n",
       "<style>\n",
       "    .dataframe thead tr:only-child th {\n",
       "        text-align: right;\n",
       "    }\n",
       "\n",
       "    .dataframe thead th {\n",
       "        text-align: left;\n",
       "    }\n",
       "\n",
       "    .dataframe tbody tr th {\n",
       "        vertical-align: top;\n",
       "    }\n",
       "</style>\n",
       "<table border=\"1\" class=\"dataframe\">\n",
       "  <thead>\n",
       "    <tr style=\"text-align: right;\">\n",
       "      <th></th>\n",
       "      <th>User_ID</th>\n",
       "      <th>Product_ID</th>\n",
       "      <th>Gender</th>\n",
       "      <th>Age</th>\n",
       "      <th>Occupation</th>\n",
       "      <th>City_Category</th>\n",
       "      <th>Stay_In_Current_City_Years</th>\n",
       "      <th>Marital_Status</th>\n",
       "      <th>Product_Category_1</th>\n",
       "      <th>Product_Category_2</th>\n",
       "      <th>Product_Category_3</th>\n",
       "      <th>Purchase</th>\n",
       "    </tr>\n",
       "  </thead>\n",
       "  <tbody>\n",
       "    <tr>\n",
       "      <th>0</th>\n",
       "      <td>1000001</td>\n",
       "      <td>P00069042</td>\n",
       "      <td>F</td>\n",
       "      <td>0-17</td>\n",
       "      <td>10</td>\n",
       "      <td>A</td>\n",
       "      <td>2</td>\n",
       "      <td>0</td>\n",
       "      <td>3</td>\n",
       "      <td>0</td>\n",
       "      <td>0</td>\n",
       "      <td>8370</td>\n",
       "    </tr>\n",
       "    <tr>\n",
       "      <th>1</th>\n",
       "      <td>1000001</td>\n",
       "      <td>P00248942</td>\n",
       "      <td>F</td>\n",
       "      <td>0-17</td>\n",
       "      <td>10</td>\n",
       "      <td>A</td>\n",
       "      <td>2</td>\n",
       "      <td>0</td>\n",
       "      <td>1</td>\n",
       "      <td>6</td>\n",
       "      <td>14</td>\n",
       "      <td>15200</td>\n",
       "    </tr>\n",
       "    <tr>\n",
       "      <th>2</th>\n",
       "      <td>1000001</td>\n",
       "      <td>P00087842</td>\n",
       "      <td>F</td>\n",
       "      <td>0-17</td>\n",
       "      <td>10</td>\n",
       "      <td>A</td>\n",
       "      <td>2</td>\n",
       "      <td>0</td>\n",
       "      <td>12</td>\n",
       "      <td>0</td>\n",
       "      <td>0</td>\n",
       "      <td>1422</td>\n",
       "    </tr>\n",
       "    <tr>\n",
       "      <th>3</th>\n",
       "      <td>1000001</td>\n",
       "      <td>P00085442</td>\n",
       "      <td>F</td>\n",
       "      <td>0-17</td>\n",
       "      <td>10</td>\n",
       "      <td>A</td>\n",
       "      <td>2</td>\n",
       "      <td>0</td>\n",
       "      <td>12</td>\n",
       "      <td>14</td>\n",
       "      <td>0</td>\n",
       "      <td>1057</td>\n",
       "    </tr>\n",
       "    <tr>\n",
       "      <th>4</th>\n",
       "      <td>1000002</td>\n",
       "      <td>P00285442</td>\n",
       "      <td>M</td>\n",
       "      <td>55+</td>\n",
       "      <td>16</td>\n",
       "      <td>C</td>\n",
       "      <td>4+</td>\n",
       "      <td>0</td>\n",
       "      <td>8</td>\n",
       "      <td>0</td>\n",
       "      <td>0</td>\n",
       "      <td>7969</td>\n",
       "    </tr>\n",
       "  </tbody>\n",
       "</table>\n",
       "</div>"
      ],
      "text/plain": [
       "   User_ID Product_ID Gender   Age  Occupation City_Category  \\\n",
       "0  1000001  P00069042      F  0-17          10             A   \n",
       "1  1000001  P00248942      F  0-17          10             A   \n",
       "2  1000001  P00087842      F  0-17          10             A   \n",
       "3  1000001  P00085442      F  0-17          10             A   \n",
       "4  1000002  P00285442      M   55+          16             C   \n",
       "\n",
       "  Stay_In_Current_City_Years  Marital_Status  Product_Category_1  \\\n",
       "0                          2               0                   3   \n",
       "1                          2               0                   1   \n",
       "2                          2               0                  12   \n",
       "3                          2               0                  12   \n",
       "4                         4+               0                   8   \n",
       "\n",
       "   Product_Category_2  Product_Category_3  Purchase  \n",
       "0                   0                   0      8370  \n",
       "1                   6                  14     15200  \n",
       "2                   0                   0      1422  \n",
       "3                  14                   0      1057  \n",
       "4                   0                   0      7969  "
      ]
     },
     "execution_count": 4,
     "metadata": {},
     "output_type": "execute_result"
    }
   ],
   "source": [
    "BlackFridayTrain.head()"
   ]
  },
  {
   "cell_type": "code",
   "execution_count": 5,
   "metadata": {
    "collapsed": true
   },
   "outputs": [],
   "source": [
    "# dummy = pd.get_dummies(BlackFridayTrain['Gender'])\n",
    "# dummy1 = pd.get_dummies(BlackFridayTrain['City_Category'])\n",
    "# dummy2 = pd.get_dummies(BlackFridayTrain['Marital_Status'])\n",
    "# dummy3 = pd.get_dummies(BlackFridayTrain['Occupation'])"
   ]
  },
  {
   "cell_type": "code",
   "execution_count": 6,
   "metadata": {
    "collapsed": true
   },
   "outputs": [],
   "source": [
    "# BlackFridayTrain = BlackFridayTrain.drop(['Gender','City_Category', 'Marital_Status', 'Occupation'], axis=1)"
   ]
  },
  {
   "cell_type": "code",
   "execution_count": 7,
   "metadata": {
    "collapsed": true
   },
   "outputs": [],
   "source": [
    "# BlackFridayTrain = pd.concat([BlackFridayTrain, dummy, dummy1, dummy2, dummy3], axis = 1)"
   ]
  },
  {
   "cell_type": "code",
   "execution_count": 8,
   "metadata": {
    "collapsed": true
   },
   "outputs": [],
   "source": [
    "# BlackFridayTrain['Marital_Status'] = BlackFridayTrain['Marital_Status'].map({'unmarried': 0, 'married': 1})"
   ]
  },
  {
   "cell_type": "code",
   "execution_count": 9,
   "metadata": {
    "scrolled": true
   },
   "outputs": [
    {
     "data": {
      "text/html": [
       "<div>\n",
       "<style>\n",
       "    .dataframe thead tr:only-child th {\n",
       "        text-align: right;\n",
       "    }\n",
       "\n",
       "    .dataframe thead th {\n",
       "        text-align: left;\n",
       "    }\n",
       "\n",
       "    .dataframe tbody tr th {\n",
       "        vertical-align: top;\n",
       "    }\n",
       "</style>\n",
       "<table border=\"1\" class=\"dataframe\">\n",
       "  <thead>\n",
       "    <tr style=\"text-align: right;\">\n",
       "      <th></th>\n",
       "      <th>User_ID</th>\n",
       "      <th>Product_ID</th>\n",
       "      <th>Gender</th>\n",
       "      <th>Age</th>\n",
       "      <th>Occupation</th>\n",
       "      <th>City_Category</th>\n",
       "      <th>Stay_In_Current_City_Years</th>\n",
       "      <th>Marital_Status</th>\n",
       "      <th>Product_Category_1</th>\n",
       "      <th>Product_Category_2</th>\n",
       "      <th>Product_Category_3</th>\n",
       "      <th>Purchase</th>\n",
       "    </tr>\n",
       "  </thead>\n",
       "  <tbody>\n",
       "    <tr>\n",
       "      <th>0</th>\n",
       "      <td>1000001</td>\n",
       "      <td>P00069042</td>\n",
       "      <td>F</td>\n",
       "      <td>0-17</td>\n",
       "      <td>10</td>\n",
       "      <td>A</td>\n",
       "      <td>2</td>\n",
       "      <td>0</td>\n",
       "      <td>3</td>\n",
       "      <td>0</td>\n",
       "      <td>0</td>\n",
       "      <td>8370</td>\n",
       "    </tr>\n",
       "    <tr>\n",
       "      <th>1</th>\n",
       "      <td>1000001</td>\n",
       "      <td>P00248942</td>\n",
       "      <td>F</td>\n",
       "      <td>0-17</td>\n",
       "      <td>10</td>\n",
       "      <td>A</td>\n",
       "      <td>2</td>\n",
       "      <td>0</td>\n",
       "      <td>1</td>\n",
       "      <td>6</td>\n",
       "      <td>14</td>\n",
       "      <td>15200</td>\n",
       "    </tr>\n",
       "    <tr>\n",
       "      <th>2</th>\n",
       "      <td>1000001</td>\n",
       "      <td>P00087842</td>\n",
       "      <td>F</td>\n",
       "      <td>0-17</td>\n",
       "      <td>10</td>\n",
       "      <td>A</td>\n",
       "      <td>2</td>\n",
       "      <td>0</td>\n",
       "      <td>12</td>\n",
       "      <td>0</td>\n",
       "      <td>0</td>\n",
       "      <td>1422</td>\n",
       "    </tr>\n",
       "    <tr>\n",
       "      <th>3</th>\n",
       "      <td>1000001</td>\n",
       "      <td>P00085442</td>\n",
       "      <td>F</td>\n",
       "      <td>0-17</td>\n",
       "      <td>10</td>\n",
       "      <td>A</td>\n",
       "      <td>2</td>\n",
       "      <td>0</td>\n",
       "      <td>12</td>\n",
       "      <td>14</td>\n",
       "      <td>0</td>\n",
       "      <td>1057</td>\n",
       "    </tr>\n",
       "    <tr>\n",
       "      <th>4</th>\n",
       "      <td>1000002</td>\n",
       "      <td>P00285442</td>\n",
       "      <td>M</td>\n",
       "      <td>55+</td>\n",
       "      <td>16</td>\n",
       "      <td>C</td>\n",
       "      <td>4+</td>\n",
       "      <td>0</td>\n",
       "      <td>8</td>\n",
       "      <td>0</td>\n",
       "      <td>0</td>\n",
       "      <td>7969</td>\n",
       "    </tr>\n",
       "  </tbody>\n",
       "</table>\n",
       "</div>"
      ],
      "text/plain": [
       "   User_ID Product_ID Gender   Age  Occupation City_Category  \\\n",
       "0  1000001  P00069042      F  0-17          10             A   \n",
       "1  1000001  P00248942      F  0-17          10             A   \n",
       "2  1000001  P00087842      F  0-17          10             A   \n",
       "3  1000001  P00085442      F  0-17          10             A   \n",
       "4  1000002  P00285442      M   55+          16             C   \n",
       "\n",
       "  Stay_In_Current_City_Years  Marital_Status  Product_Category_1  \\\n",
       "0                          2               0                   3   \n",
       "1                          2               0                   1   \n",
       "2                          2               0                  12   \n",
       "3                          2               0                  12   \n",
       "4                         4+               0                   8   \n",
       "\n",
       "   Product_Category_2  Product_Category_3  Purchase  \n",
       "0                   0                   0      8370  \n",
       "1                   6                  14     15200  \n",
       "2                   0                   0      1422  \n",
       "3                  14                   0      1057  \n",
       "4                   0                   0      7969  "
      ]
     },
     "execution_count": 9,
     "metadata": {},
     "output_type": "execute_result"
    }
   ],
   "source": [
    "BlackFridayTrain.head()"
   ]
  },
  {
   "cell_type": "code",
   "execution_count": 10,
   "metadata": {},
   "outputs": [
    {
     "data": {
      "text/plain": [
       "Index(['User_ID', 'Product_ID', 'Gender', 'Age', 'Occupation', 'City_Category',\n",
       "       'Stay_In_Current_City_Years', 'Marital_Status', 'Product_Category_1',\n",
       "       'Product_Category_2', 'Product_Category_3', 'Purchase'],\n",
       "      dtype='object')"
      ]
     },
     "execution_count": 10,
     "metadata": {},
     "output_type": "execute_result"
    }
   ],
   "source": [
    "BlackFridayTrain.columns"
   ]
  },
  {
   "cell_type": "code",
   "execution_count": 11,
   "metadata": {},
   "outputs": [
    {
     "name": "stdout",
     "output_type": "stream",
     "text": [
      "<class 'pandas.core.frame.DataFrame'>\n",
      "RangeIndex: 550068 entries, 0 to 550067\n",
      "Data columns (total 12 columns):\n",
      "User_ID                       550068 non-null int64\n",
      "Product_ID                    550068 non-null object\n",
      "Gender                        550068 non-null object\n",
      "Age                           550068 non-null object\n",
      "Occupation                    550068 non-null int64\n",
      "City_Category                 550068 non-null object\n",
      "Stay_In_Current_City_Years    550068 non-null object\n",
      "Marital_Status                550068 non-null int64\n",
      "Product_Category_1            550068 non-null int64\n",
      "Product_Category_2            550068 non-null int32\n",
      "Product_Category_3            550068 non-null int32\n",
      "Purchase                      550068 non-null int64\n",
      "dtypes: int32(2), int64(5), object(5)\n",
      "memory usage: 46.2+ MB\n"
     ]
    }
   ],
   "source": [
    "BlackFridayTrain.info()"
   ]
  },
  {
   "cell_type": "code",
   "execution_count": 12,
   "metadata": {},
   "outputs": [
    {
     "data": {
      "text/html": [
       "<div>\n",
       "<style>\n",
       "    .dataframe thead tr:only-child th {\n",
       "        text-align: right;\n",
       "    }\n",
       "\n",
       "    .dataframe thead th {\n",
       "        text-align: left;\n",
       "    }\n",
       "\n",
       "    .dataframe tbody tr th {\n",
       "        vertical-align: top;\n",
       "    }\n",
       "</style>\n",
       "<table border=\"1\" class=\"dataframe\">\n",
       "  <thead>\n",
       "    <tr style=\"text-align: right;\">\n",
       "      <th></th>\n",
       "      <th>User_ID</th>\n",
       "      <th>Occupation</th>\n",
       "      <th>Marital_Status</th>\n",
       "      <th>Product_Category_1</th>\n",
       "      <th>Product_Category_2</th>\n",
       "      <th>Product_Category_3</th>\n",
       "      <th>Purchase</th>\n",
       "    </tr>\n",
       "  </thead>\n",
       "  <tbody>\n",
       "    <tr>\n",
       "      <th>count</th>\n",
       "      <td>5.500680e+05</td>\n",
       "      <td>550068.000000</td>\n",
       "      <td>550068.000000</td>\n",
       "      <td>550068.000000</td>\n",
       "      <td>550068.000000</td>\n",
       "      <td>550068.000000</td>\n",
       "      <td>550068.000000</td>\n",
       "    </tr>\n",
       "    <tr>\n",
       "      <th>mean</th>\n",
       "      <td>1.003029e+06</td>\n",
       "      <td>8.076707</td>\n",
       "      <td>0.409653</td>\n",
       "      <td>5.404270</td>\n",
       "      <td>6.735436</td>\n",
       "      <td>3.841941</td>\n",
       "      <td>9263.968713</td>\n",
       "    </tr>\n",
       "    <tr>\n",
       "      <th>std</th>\n",
       "      <td>1.727592e+03</td>\n",
       "      <td>6.522660</td>\n",
       "      <td>0.491770</td>\n",
       "      <td>3.936211</td>\n",
       "      <td>6.215492</td>\n",
       "      <td>6.250712</td>\n",
       "      <td>5023.065394</td>\n",
       "    </tr>\n",
       "    <tr>\n",
       "      <th>min</th>\n",
       "      <td>1.000001e+06</td>\n",
       "      <td>0.000000</td>\n",
       "      <td>0.000000</td>\n",
       "      <td>1.000000</td>\n",
       "      <td>0.000000</td>\n",
       "      <td>0.000000</td>\n",
       "      <td>12.000000</td>\n",
       "    </tr>\n",
       "    <tr>\n",
       "      <th>25%</th>\n",
       "      <td>1.001516e+06</td>\n",
       "      <td>2.000000</td>\n",
       "      <td>0.000000</td>\n",
       "      <td>1.000000</td>\n",
       "      <td>0.000000</td>\n",
       "      <td>0.000000</td>\n",
       "      <td>5823.000000</td>\n",
       "    </tr>\n",
       "    <tr>\n",
       "      <th>50%</th>\n",
       "      <td>1.003077e+06</td>\n",
       "      <td>7.000000</td>\n",
       "      <td>0.000000</td>\n",
       "      <td>5.000000</td>\n",
       "      <td>5.000000</td>\n",
       "      <td>0.000000</td>\n",
       "      <td>8047.000000</td>\n",
       "    </tr>\n",
       "    <tr>\n",
       "      <th>75%</th>\n",
       "      <td>1.004478e+06</td>\n",
       "      <td>14.000000</td>\n",
       "      <td>1.000000</td>\n",
       "      <td>8.000000</td>\n",
       "      <td>14.000000</td>\n",
       "      <td>8.000000</td>\n",
       "      <td>12054.000000</td>\n",
       "    </tr>\n",
       "    <tr>\n",
       "      <th>max</th>\n",
       "      <td>1.006040e+06</td>\n",
       "      <td>20.000000</td>\n",
       "      <td>1.000000</td>\n",
       "      <td>20.000000</td>\n",
       "      <td>18.000000</td>\n",
       "      <td>18.000000</td>\n",
       "      <td>23961.000000</td>\n",
       "    </tr>\n",
       "  </tbody>\n",
       "</table>\n",
       "</div>"
      ],
      "text/plain": [
       "            User_ID     Occupation  Marital_Status  Product_Category_1  \\\n",
       "count  5.500680e+05  550068.000000   550068.000000       550068.000000   \n",
       "mean   1.003029e+06       8.076707        0.409653            5.404270   \n",
       "std    1.727592e+03       6.522660        0.491770            3.936211   \n",
       "min    1.000001e+06       0.000000        0.000000            1.000000   \n",
       "25%    1.001516e+06       2.000000        0.000000            1.000000   \n",
       "50%    1.003077e+06       7.000000        0.000000            5.000000   \n",
       "75%    1.004478e+06      14.000000        1.000000            8.000000   \n",
       "max    1.006040e+06      20.000000        1.000000           20.000000   \n",
       "\n",
       "       Product_Category_2  Product_Category_3       Purchase  \n",
       "count       550068.000000       550068.000000  550068.000000  \n",
       "mean             6.735436            3.841941    9263.968713  \n",
       "std              6.215492            6.250712    5023.065394  \n",
       "min              0.000000            0.000000      12.000000  \n",
       "25%              0.000000            0.000000    5823.000000  \n",
       "50%              5.000000            0.000000    8047.000000  \n",
       "75%             14.000000            8.000000   12054.000000  \n",
       "max             18.000000           18.000000   23961.000000  "
      ]
     },
     "execution_count": 12,
     "metadata": {},
     "output_type": "execute_result"
    }
   ],
   "source": [
    "BlackFridayTrain.describe()"
   ]
  },
  {
   "cell_type": "code",
   "execution_count": 13,
   "metadata": {},
   "outputs": [
    {
     "data": {
      "text/plain": [
       "User_ID                       0\n",
       "Product_ID                    0\n",
       "Gender                        0\n",
       "Age                           0\n",
       "Occupation                    0\n",
       "City_Category                 0\n",
       "Stay_In_Current_City_Years    0\n",
       "Marital_Status                0\n",
       "Product_Category_1            0\n",
       "Product_Category_2            0\n",
       "Product_Category_3            0\n",
       "Purchase                      0\n",
       "dtype: int64"
      ]
     },
     "execution_count": 13,
     "metadata": {},
     "output_type": "execute_result"
    }
   ],
   "source": [
    "BlackFridayTrain.isnull().sum()"
   ]
  },
  {
   "cell_type": "code",
   "execution_count": 14,
   "metadata": {},
   "outputs": [
    {
     "ename": "PlotlyRequestError",
     "evalue": "No message",
     "output_type": "error",
     "traceback": [
      "\u001b[1;31m---------------------------------------------------------------------------\u001b[0m",
      "\u001b[1;31mgaierror\u001b[0m                                  Traceback (most recent call last)",
      "\u001b[1;32mC:\\ProgramData\\Anaconda3\\lib\\site-packages\\urllib3\\connection.py\u001b[0m in \u001b[0;36m_new_conn\u001b[1;34m(self)\u001b[0m\n\u001b[0;32m    140\u001b[0m             conn = connection.create_connection(\n\u001b[1;32m--> 141\u001b[1;33m                 (self.host, self.port), self.timeout, **extra_kw)\n\u001b[0m\u001b[0;32m    142\u001b[0m \u001b[1;33m\u001b[0m\u001b[0m\n",
      "\u001b[1;32mC:\\ProgramData\\Anaconda3\\lib\\site-packages\\urllib3\\util\\connection.py\u001b[0m in \u001b[0;36mcreate_connection\u001b[1;34m(address, timeout, source_address, socket_options)\u001b[0m\n\u001b[0;32m     59\u001b[0m \u001b[1;33m\u001b[0m\u001b[0m\n\u001b[1;32m---> 60\u001b[1;33m     \u001b[1;32mfor\u001b[0m \u001b[0mres\u001b[0m \u001b[1;32min\u001b[0m \u001b[0msocket\u001b[0m\u001b[1;33m.\u001b[0m\u001b[0mgetaddrinfo\u001b[0m\u001b[1;33m(\u001b[0m\u001b[0mhost\u001b[0m\u001b[1;33m,\u001b[0m \u001b[0mport\u001b[0m\u001b[1;33m,\u001b[0m \u001b[0mfamily\u001b[0m\u001b[1;33m,\u001b[0m \u001b[0msocket\u001b[0m\u001b[1;33m.\u001b[0m\u001b[0mSOCK_STREAM\u001b[0m\u001b[1;33m)\u001b[0m\u001b[1;33m:\u001b[0m\u001b[1;33m\u001b[0m\u001b[0m\n\u001b[0m\u001b[0;32m     61\u001b[0m         \u001b[0maf\u001b[0m\u001b[1;33m,\u001b[0m \u001b[0msocktype\u001b[0m\u001b[1;33m,\u001b[0m \u001b[0mproto\u001b[0m\u001b[1;33m,\u001b[0m \u001b[0mcanonname\u001b[0m\u001b[1;33m,\u001b[0m \u001b[0msa\u001b[0m \u001b[1;33m=\u001b[0m \u001b[0mres\u001b[0m\u001b[1;33m\u001b[0m\u001b[0m\n",
      "\u001b[1;32mC:\\ProgramData\\Anaconda3\\lib\\socket.py\u001b[0m in \u001b[0;36mgetaddrinfo\u001b[1;34m(host, port, family, type, proto, flags)\u001b[0m\n\u001b[0;32m    744\u001b[0m     \u001b[0maddrlist\u001b[0m \u001b[1;33m=\u001b[0m \u001b[1;33m[\u001b[0m\u001b[1;33m]\u001b[0m\u001b[1;33m\u001b[0m\u001b[0m\n\u001b[1;32m--> 745\u001b[1;33m     \u001b[1;32mfor\u001b[0m \u001b[0mres\u001b[0m \u001b[1;32min\u001b[0m \u001b[0m_socket\u001b[0m\u001b[1;33m.\u001b[0m\u001b[0mgetaddrinfo\u001b[0m\u001b[1;33m(\u001b[0m\u001b[0mhost\u001b[0m\u001b[1;33m,\u001b[0m \u001b[0mport\u001b[0m\u001b[1;33m,\u001b[0m \u001b[0mfamily\u001b[0m\u001b[1;33m,\u001b[0m \u001b[0mtype\u001b[0m\u001b[1;33m,\u001b[0m \u001b[0mproto\u001b[0m\u001b[1;33m,\u001b[0m \u001b[0mflags\u001b[0m\u001b[1;33m)\u001b[0m\u001b[1;33m:\u001b[0m\u001b[1;33m\u001b[0m\u001b[0m\n\u001b[0m\u001b[0;32m    746\u001b[0m         \u001b[0maf\u001b[0m\u001b[1;33m,\u001b[0m \u001b[0msocktype\u001b[0m\u001b[1;33m,\u001b[0m \u001b[0mproto\u001b[0m\u001b[1;33m,\u001b[0m \u001b[0mcanonname\u001b[0m\u001b[1;33m,\u001b[0m \u001b[0msa\u001b[0m \u001b[1;33m=\u001b[0m \u001b[0mres\u001b[0m\u001b[1;33m\u001b[0m\u001b[0m\n",
      "\u001b[1;31mgaierror\u001b[0m: [Errno 11001] getaddrinfo failed",
      "\nDuring handling of the above exception, another exception occurred:\n",
      "\u001b[1;31mNewConnectionError\u001b[0m                        Traceback (most recent call last)",
      "\u001b[1;32mC:\\ProgramData\\Anaconda3\\lib\\site-packages\\urllib3\\connectionpool.py\u001b[0m in \u001b[0;36murlopen\u001b[1;34m(self, method, url, body, headers, retries, redirect, assert_same_host, timeout, pool_timeout, release_conn, chunked, body_pos, **response_kw)\u001b[0m\n\u001b[0;32m    600\u001b[0m                                                   \u001b[0mbody\u001b[0m\u001b[1;33m=\u001b[0m\u001b[0mbody\u001b[0m\u001b[1;33m,\u001b[0m \u001b[0mheaders\u001b[0m\u001b[1;33m=\u001b[0m\u001b[0mheaders\u001b[0m\u001b[1;33m,\u001b[0m\u001b[1;33m\u001b[0m\u001b[0m\n\u001b[1;32m--> 601\u001b[1;33m                                                   chunked=chunked)\n\u001b[0m\u001b[0;32m    602\u001b[0m \u001b[1;33m\u001b[0m\u001b[0m\n",
      "\u001b[1;32mC:\\ProgramData\\Anaconda3\\lib\\site-packages\\urllib3\\connectionpool.py\u001b[0m in \u001b[0;36m_make_request\u001b[1;34m(self, conn, method, url, timeout, chunked, **httplib_request_kw)\u001b[0m\n\u001b[0;32m    345\u001b[0m         \u001b[1;32mtry\u001b[0m\u001b[1;33m:\u001b[0m\u001b[1;33m\u001b[0m\u001b[0m\n\u001b[1;32m--> 346\u001b[1;33m             \u001b[0mself\u001b[0m\u001b[1;33m.\u001b[0m\u001b[0m_validate_conn\u001b[0m\u001b[1;33m(\u001b[0m\u001b[0mconn\u001b[0m\u001b[1;33m)\u001b[0m\u001b[1;33m\u001b[0m\u001b[0m\n\u001b[0m\u001b[0;32m    347\u001b[0m         \u001b[1;32mexcept\u001b[0m \u001b[1;33m(\u001b[0m\u001b[0mSocketTimeout\u001b[0m\u001b[1;33m,\u001b[0m \u001b[0mBaseSSLError\u001b[0m\u001b[1;33m)\u001b[0m \u001b[1;32mas\u001b[0m \u001b[0me\u001b[0m\u001b[1;33m:\u001b[0m\u001b[1;33m\u001b[0m\u001b[0m\n",
      "\u001b[1;32mC:\\ProgramData\\Anaconda3\\lib\\site-packages\\urllib3\\connectionpool.py\u001b[0m in \u001b[0;36m_validate_conn\u001b[1;34m(self, conn)\u001b[0m\n\u001b[0;32m    849\u001b[0m         \u001b[1;32mif\u001b[0m \u001b[1;32mnot\u001b[0m \u001b[0mgetattr\u001b[0m\u001b[1;33m(\u001b[0m\u001b[0mconn\u001b[0m\u001b[1;33m,\u001b[0m \u001b[1;34m'sock'\u001b[0m\u001b[1;33m,\u001b[0m \u001b[1;32mNone\u001b[0m\u001b[1;33m)\u001b[0m\u001b[1;33m:\u001b[0m  \u001b[1;31m# AppEngine might not have  `.sock`\u001b[0m\u001b[1;33m\u001b[0m\u001b[0m\n\u001b[1;32m--> 850\u001b[1;33m             \u001b[0mconn\u001b[0m\u001b[1;33m.\u001b[0m\u001b[0mconnect\u001b[0m\u001b[1;33m(\u001b[0m\u001b[1;33m)\u001b[0m\u001b[1;33m\u001b[0m\u001b[0m\n\u001b[0m\u001b[0;32m    851\u001b[0m \u001b[1;33m\u001b[0m\u001b[0m\n",
      "\u001b[1;32mC:\\ProgramData\\Anaconda3\\lib\\site-packages\\urllib3\\connection.py\u001b[0m in \u001b[0;36mconnect\u001b[1;34m(self)\u001b[0m\n\u001b[0;32m    283\u001b[0m         \u001b[1;31m# Add certificate verification\u001b[0m\u001b[1;33m\u001b[0m\u001b[1;33m\u001b[0m\u001b[0m\n\u001b[1;32m--> 284\u001b[1;33m         \u001b[0mconn\u001b[0m \u001b[1;33m=\u001b[0m \u001b[0mself\u001b[0m\u001b[1;33m.\u001b[0m\u001b[0m_new_conn\u001b[0m\u001b[1;33m(\u001b[0m\u001b[1;33m)\u001b[0m\u001b[1;33m\u001b[0m\u001b[0m\n\u001b[0m\u001b[0;32m    285\u001b[0m \u001b[1;33m\u001b[0m\u001b[0m\n",
      "\u001b[1;32mC:\\ProgramData\\Anaconda3\\lib\\site-packages\\urllib3\\connection.py\u001b[0m in \u001b[0;36m_new_conn\u001b[1;34m(self)\u001b[0m\n\u001b[0;32m    149\u001b[0m             raise NewConnectionError(\n\u001b[1;32m--> 150\u001b[1;33m                 self, \"Failed to establish a new connection: %s\" % e)\n\u001b[0m\u001b[0;32m    151\u001b[0m \u001b[1;33m\u001b[0m\u001b[0m\n",
      "\u001b[1;31mNewConnectionError\u001b[0m: <urllib3.connection.VerifiedHTTPSConnection object at 0x000001EBAA2E1320>: Failed to establish a new connection: [Errno 11001] getaddrinfo failed",
      "\nDuring handling of the above exception, another exception occurred:\n",
      "\u001b[1;31mMaxRetryError\u001b[0m                             Traceback (most recent call last)",
      "\u001b[1;32mC:\\ProgramData\\Anaconda3\\lib\\site-packages\\requests\\adapters.py\u001b[0m in \u001b[0;36msend\u001b[1;34m(self, request, stream, timeout, verify, cert, proxies)\u001b[0m\n\u001b[0;32m    439\u001b[0m                     \u001b[0mretries\u001b[0m\u001b[1;33m=\u001b[0m\u001b[0mself\u001b[0m\u001b[1;33m.\u001b[0m\u001b[0mmax_retries\u001b[0m\u001b[1;33m,\u001b[0m\u001b[1;33m\u001b[0m\u001b[0m\n\u001b[1;32m--> 440\u001b[1;33m                     \u001b[0mtimeout\u001b[0m\u001b[1;33m=\u001b[0m\u001b[0mtimeout\u001b[0m\u001b[1;33m\u001b[0m\u001b[0m\n\u001b[0m\u001b[0;32m    441\u001b[0m                 )\n",
      "\u001b[1;32mC:\\ProgramData\\Anaconda3\\lib\\site-packages\\urllib3\\connectionpool.py\u001b[0m in \u001b[0;36murlopen\u001b[1;34m(self, method, url, body, headers, retries, redirect, assert_same_host, timeout, pool_timeout, release_conn, chunked, body_pos, **response_kw)\u001b[0m\n\u001b[0;32m    638\u001b[0m             retries = retries.increment(method, url, error=e, _pool=self,\n\u001b[1;32m--> 639\u001b[1;33m                                         _stacktrace=sys.exc_info()[2])\n\u001b[0m\u001b[0;32m    640\u001b[0m             \u001b[0mretries\u001b[0m\u001b[1;33m.\u001b[0m\u001b[0msleep\u001b[0m\u001b[1;33m(\u001b[0m\u001b[1;33m)\u001b[0m\u001b[1;33m\u001b[0m\u001b[0m\n",
      "\u001b[1;32mC:\\ProgramData\\Anaconda3\\lib\\site-packages\\urllib3\\util\\retry.py\u001b[0m in \u001b[0;36mincrement\u001b[1;34m(self, method, url, response, error, _pool, _stacktrace)\u001b[0m\n\u001b[0;32m    387\u001b[0m         \u001b[1;32mif\u001b[0m \u001b[0mnew_retry\u001b[0m\u001b[1;33m.\u001b[0m\u001b[0mis_exhausted\u001b[0m\u001b[1;33m(\u001b[0m\u001b[1;33m)\u001b[0m\u001b[1;33m:\u001b[0m\u001b[1;33m\u001b[0m\u001b[0m\n\u001b[1;32m--> 388\u001b[1;33m             \u001b[1;32mraise\u001b[0m \u001b[0mMaxRetryError\u001b[0m\u001b[1;33m(\u001b[0m\u001b[0m_pool\u001b[0m\u001b[1;33m,\u001b[0m \u001b[0murl\u001b[0m\u001b[1;33m,\u001b[0m \u001b[0merror\u001b[0m \u001b[1;32mor\u001b[0m \u001b[0mResponseError\u001b[0m\u001b[1;33m(\u001b[0m\u001b[0mcause\u001b[0m\u001b[1;33m)\u001b[0m\u001b[1;33m)\u001b[0m\u001b[1;33m\u001b[0m\u001b[0m\n\u001b[0m\u001b[0;32m    389\u001b[0m \u001b[1;33m\u001b[0m\u001b[0m\n",
      "\u001b[1;31mMaxRetryError\u001b[0m: HTTPSConnectionPool(host='plot.ly', port=443): Max retries exceeded with url: /clientresp (Caused by NewConnectionError('<urllib3.connection.VerifiedHTTPSConnection object at 0x000001EBAA2E1320>: Failed to establish a new connection: [Errno 11001] getaddrinfo failed',))",
      "\nDuring handling of the above exception, another exception occurred:\n",
      "\u001b[1;31mConnectionError\u001b[0m                           Traceback (most recent call last)",
      "\u001b[1;32mC:\\ProgramData\\Anaconda3\\lib\\site-packages\\plotly\\api\\v1\\utils.py\u001b[0m in \u001b[0;36mrequest\u001b[1;34m(method, url, **kwargs)\u001b[0m\n\u001b[0;32m     81\u001b[0m     \u001b[1;32mtry\u001b[0m\u001b[1;33m:\u001b[0m\u001b[1;33m\u001b[0m\u001b[0m\n\u001b[1;32m---> 82\u001b[1;33m         \u001b[0mresponse\u001b[0m \u001b[1;33m=\u001b[0m \u001b[0mrequests\u001b[0m\u001b[1;33m.\u001b[0m\u001b[0mrequest\u001b[0m\u001b[1;33m(\u001b[0m\u001b[0mmethod\u001b[0m\u001b[1;33m,\u001b[0m \u001b[0murl\u001b[0m\u001b[1;33m,\u001b[0m \u001b[1;33m**\u001b[0m\u001b[0mkwargs\u001b[0m\u001b[1;33m)\u001b[0m\u001b[1;33m\u001b[0m\u001b[0m\n\u001b[0m\u001b[0;32m     83\u001b[0m     \u001b[1;32mexcept\u001b[0m \u001b[0mRequestException\u001b[0m \u001b[1;32mas\u001b[0m \u001b[0me\u001b[0m\u001b[1;33m:\u001b[0m\u001b[1;33m\u001b[0m\u001b[0m\n",
      "\u001b[1;32mC:\\ProgramData\\Anaconda3\\lib\\site-packages\\requests\\api.py\u001b[0m in \u001b[0;36mrequest\u001b[1;34m(method, url, **kwargs)\u001b[0m\n\u001b[0;32m     57\u001b[0m     \u001b[1;32mwith\u001b[0m \u001b[0msessions\u001b[0m\u001b[1;33m.\u001b[0m\u001b[0mSession\u001b[0m\u001b[1;33m(\u001b[0m\u001b[1;33m)\u001b[0m \u001b[1;32mas\u001b[0m \u001b[0msession\u001b[0m\u001b[1;33m:\u001b[0m\u001b[1;33m\u001b[0m\u001b[0m\n\u001b[1;32m---> 58\u001b[1;33m         \u001b[1;32mreturn\u001b[0m \u001b[0msession\u001b[0m\u001b[1;33m.\u001b[0m\u001b[0mrequest\u001b[0m\u001b[1;33m(\u001b[0m\u001b[0mmethod\u001b[0m\u001b[1;33m=\u001b[0m\u001b[0mmethod\u001b[0m\u001b[1;33m,\u001b[0m \u001b[0murl\u001b[0m\u001b[1;33m=\u001b[0m\u001b[0murl\u001b[0m\u001b[1;33m,\u001b[0m \u001b[1;33m**\u001b[0m\u001b[0mkwargs\u001b[0m\u001b[1;33m)\u001b[0m\u001b[1;33m\u001b[0m\u001b[0m\n\u001b[0m\u001b[0;32m     59\u001b[0m \u001b[1;33m\u001b[0m\u001b[0m\n",
      "\u001b[1;32mC:\\ProgramData\\Anaconda3\\lib\\site-packages\\requests\\sessions.py\u001b[0m in \u001b[0;36mrequest\u001b[1;34m(self, method, url, params, data, headers, cookies, files, auth, timeout, allow_redirects, proxies, hooks, stream, verify, cert, json)\u001b[0m\n\u001b[0;32m    507\u001b[0m         \u001b[0msend_kwargs\u001b[0m\u001b[1;33m.\u001b[0m\u001b[0mupdate\u001b[0m\u001b[1;33m(\u001b[0m\u001b[0msettings\u001b[0m\u001b[1;33m)\u001b[0m\u001b[1;33m\u001b[0m\u001b[0m\n\u001b[1;32m--> 508\u001b[1;33m         \u001b[0mresp\u001b[0m \u001b[1;33m=\u001b[0m \u001b[0mself\u001b[0m\u001b[1;33m.\u001b[0m\u001b[0msend\u001b[0m\u001b[1;33m(\u001b[0m\u001b[0mprep\u001b[0m\u001b[1;33m,\u001b[0m \u001b[1;33m**\u001b[0m\u001b[0msend_kwargs\u001b[0m\u001b[1;33m)\u001b[0m\u001b[1;33m\u001b[0m\u001b[0m\n\u001b[0m\u001b[0;32m    509\u001b[0m \u001b[1;33m\u001b[0m\u001b[0m\n",
      "\u001b[1;32mC:\\ProgramData\\Anaconda3\\lib\\site-packages\\requests\\sessions.py\u001b[0m in \u001b[0;36msend\u001b[1;34m(self, request, **kwargs)\u001b[0m\n\u001b[0;32m    617\u001b[0m         \u001b[1;31m# Send the request\u001b[0m\u001b[1;33m\u001b[0m\u001b[1;33m\u001b[0m\u001b[0m\n\u001b[1;32m--> 618\u001b[1;33m         \u001b[0mr\u001b[0m \u001b[1;33m=\u001b[0m \u001b[0madapter\u001b[0m\u001b[1;33m.\u001b[0m\u001b[0msend\u001b[0m\u001b[1;33m(\u001b[0m\u001b[0mrequest\u001b[0m\u001b[1;33m,\u001b[0m \u001b[1;33m**\u001b[0m\u001b[0mkwargs\u001b[0m\u001b[1;33m)\u001b[0m\u001b[1;33m\u001b[0m\u001b[0m\n\u001b[0m\u001b[0;32m    619\u001b[0m \u001b[1;33m\u001b[0m\u001b[0m\n",
      "\u001b[1;32mC:\\ProgramData\\Anaconda3\\lib\\site-packages\\requests\\adapters.py\u001b[0m in \u001b[0;36msend\u001b[1;34m(self, request, stream, timeout, verify, cert, proxies)\u001b[0m\n\u001b[0;32m    507\u001b[0m \u001b[1;33m\u001b[0m\u001b[0m\n\u001b[1;32m--> 508\u001b[1;33m             \u001b[1;32mraise\u001b[0m \u001b[0mConnectionError\u001b[0m\u001b[1;33m(\u001b[0m\u001b[0me\u001b[0m\u001b[1;33m,\u001b[0m \u001b[0mrequest\u001b[0m\u001b[1;33m=\u001b[0m\u001b[0mrequest\u001b[0m\u001b[1;33m)\u001b[0m\u001b[1;33m\u001b[0m\u001b[0m\n\u001b[0m\u001b[0;32m    509\u001b[0m \u001b[1;33m\u001b[0m\u001b[0m\n",
      "\u001b[1;31mConnectionError\u001b[0m: HTTPSConnectionPool(host='plot.ly', port=443): Max retries exceeded with url: /clientresp (Caused by NewConnectionError('<urllib3.connection.VerifiedHTTPSConnection object at 0x000001EBAA2E1320>: Failed to establish a new connection: [Errno 11001] getaddrinfo failed',))",
      "\nDuring handling of the above exception, another exception occurred:\n",
      "\u001b[1;31mPlotlyRequestError\u001b[0m                        Traceback (most recent call last)",
      "\u001b[1;32m<ipython-input-14-6bc8f5b074e0>\u001b[0m in \u001b[0;36m<module>\u001b[1;34m()\u001b[0m\n\u001b[1;32m----> 1\u001b[1;33m \u001b[0mBlackFridayTrain\u001b[0m\u001b[1;33m.\u001b[0m\u001b[0mgroupby\u001b[0m\u001b[1;33m(\u001b[0m\u001b[1;33m[\u001b[0m\u001b[1;34m'Gender'\u001b[0m\u001b[1;33m]\u001b[0m\u001b[1;33m)\u001b[0m\u001b[1;33m[\u001b[0m\u001b[1;34m'Purchase'\u001b[0m\u001b[1;33m]\u001b[0m\u001b[1;33m.\u001b[0m\u001b[0msum\u001b[0m\u001b[1;33m(\u001b[0m\u001b[1;33m)\u001b[0m\u001b[1;33m.\u001b[0m\u001b[0miplot\u001b[0m\u001b[1;33m(\u001b[0m\u001b[0mkind\u001b[0m\u001b[1;33m=\u001b[0m\u001b[1;34m'bar'\u001b[0m\u001b[1;33m,\u001b[0m \u001b[0myTitle\u001b[0m\u001b[1;33m=\u001b[0m\u001b[1;34m'Total Purchase Amount'\u001b[0m\u001b[1;33m,\u001b[0m \u001b[0mtitle\u001b[0m\u001b[1;33m=\u001b[0m\u001b[1;34m'Total Purchase by Gender'\u001b[0m\u001b[1;33m)\u001b[0m\u001b[1;33m\u001b[0m\u001b[0m\n\u001b[0m",
      "\u001b[1;32mC:\\ProgramData\\Anaconda3\\lib\\site-packages\\cufflinks\\plotlytools.py\u001b[0m in \u001b[0;36m_iplot\u001b[1;34m(self, kind, data, layout, filename, sharing, title, xTitle, yTitle, zTitle, theme, colors, colorscale, fill, width, dash, mode, interpolation, symbol, size, barmode, sortbars, bargap, bargroupgap, bins, histnorm, histfunc, orientation, boxpoints, annotations, keys, bestfit, bestfit_colors, mean, mean_colors, categories, x, y, z, text, gridcolor, zerolinecolor, margin, labels, values, secondary_y, secondary_y_title, subplots, shape, error_x, error_y, error_type, locations, lon, lat, asFrame, asDates, asFigure, asImage, dimensions, asPlot, asUrl, online, **kwargs)\u001b[0m\n\u001b[0;32m   1198\u001b[0m \t\treturn iplot(figure,validate=validate,sharing=sharing,filename=filename,\n\u001b[0;32m   1199\u001b[0m                          \u001b[0monline\u001b[0m\u001b[1;33m=\u001b[0m\u001b[0monline\u001b[0m\u001b[1;33m,\u001b[0m\u001b[0masImage\u001b[0m\u001b[1;33m=\u001b[0m\u001b[0masImage\u001b[0m\u001b[1;33m,\u001b[0m\u001b[0masUrl\u001b[0m\u001b[1;33m=\u001b[0m\u001b[0masUrl\u001b[0m\u001b[1;33m,\u001b[0m\u001b[0masPlot\u001b[0m\u001b[1;33m=\u001b[0m\u001b[0masPlot\u001b[0m\u001b[1;33m,\u001b[0m\u001b[1;33m\u001b[0m\u001b[0m\n\u001b[1;32m-> 1200\u001b[1;33m \t\t\t dimensions=dimensions,display_image=kwargs.get('display_image',True))\n\u001b[0m\u001b[0;32m   1201\u001b[0m \u001b[1;33m\u001b[0m\u001b[0m\n\u001b[0;32m   1202\u001b[0m \u001b[1;33m\u001b[0m\u001b[0m\n",
      "\u001b[1;32mC:\\ProgramData\\Anaconda3\\lib\\site-packages\\cufflinks\\plotlytools.py\u001b[0m in \u001b[0;36miplot\u001b[1;34m(figure, validate, sharing, filename, online, asImage, asUrl, asPlot, dimensions, display_image, **kwargs)\u001b[0m\n\u001b[0;32m   1443\u001b[0m         \u001b[1;32melse\u001b[0m\u001b[1;33m:\u001b[0m\u001b[1;33m\u001b[0m\u001b[0m\n\u001b[0;32m   1444\u001b[0m \t\treturn py.iplot(figure,validate=validate,sharing=sharing,\n\u001b[1;32m-> 1445\u001b[1;33m \t\t\t\t\t\tfilename=filename)\n\u001b[0m\u001b[0;32m   1446\u001b[0m \u001b[1;33m\u001b[0m\u001b[0m\n\u001b[0;32m   1447\u001b[0m \u001b[1;33m\u001b[0m\u001b[0m\n",
      "\u001b[1;32mC:\\ProgramData\\Anaconda3\\lib\\site-packages\\plotly\\plotly\\plotly.py\u001b[0m in \u001b[0;36miplot\u001b[1;34m(figure_or_data, **plot_options)\u001b[0m\n\u001b[0;32m    140\u001b[0m     \u001b[1;32mif\u001b[0m \u001b[1;34m'auto_open'\u001b[0m \u001b[1;32mnot\u001b[0m \u001b[1;32min\u001b[0m \u001b[0mplot_options\u001b[0m\u001b[1;33m:\u001b[0m\u001b[1;33m\u001b[0m\u001b[0m\n\u001b[0;32m    141\u001b[0m         \u001b[0mplot_options\u001b[0m\u001b[1;33m[\u001b[0m\u001b[1;34m'auto_open'\u001b[0m\u001b[1;33m]\u001b[0m \u001b[1;33m=\u001b[0m \u001b[1;32mFalse\u001b[0m\u001b[1;33m\u001b[0m\u001b[0m\n\u001b[1;32m--> 142\u001b[1;33m     \u001b[0murl\u001b[0m \u001b[1;33m=\u001b[0m \u001b[0mplot\u001b[0m\u001b[1;33m(\u001b[0m\u001b[0mfigure_or_data\u001b[0m\u001b[1;33m,\u001b[0m \u001b[1;33m**\u001b[0m\u001b[0mplot_options\u001b[0m\u001b[1;33m)\u001b[0m\u001b[1;33m\u001b[0m\u001b[0m\n\u001b[0m\u001b[0;32m    143\u001b[0m \u001b[1;33m\u001b[0m\u001b[0m\n\u001b[0;32m    144\u001b[0m     \u001b[1;32mif\u001b[0m \u001b[0misinstance\u001b[0m\u001b[1;33m(\u001b[0m\u001b[0mfigure_or_data\u001b[0m\u001b[1;33m,\u001b[0m \u001b[0mdict\u001b[0m\u001b[1;33m)\u001b[0m\u001b[1;33m:\u001b[0m\u001b[1;33m\u001b[0m\u001b[0m\n",
      "\u001b[1;32mC:\\ProgramData\\Anaconda3\\lib\\site-packages\\plotly\\plotly\\plotly.py\u001b[0m in \u001b[0;36mplot\u001b[1;34m(figure_or_data, validate, **plot_options)\u001b[0m\n\u001b[0;32m    237\u001b[0m     \u001b[0mdata\u001b[0m \u001b[1;33m=\u001b[0m \u001b[0mfig\u001b[0m\u001b[1;33m.\u001b[0m\u001b[0mget\u001b[0m\u001b[1;33m(\u001b[0m\u001b[1;34m'data'\u001b[0m\u001b[1;33m,\u001b[0m \u001b[1;33m[\u001b[0m\u001b[1;33m]\u001b[0m\u001b[1;33m)\u001b[0m\u001b[1;33m\u001b[0m\u001b[0m\n\u001b[0;32m    238\u001b[0m     \u001b[0mplot_options\u001b[0m\u001b[1;33m[\u001b[0m\u001b[1;34m'layout'\u001b[0m\u001b[1;33m]\u001b[0m \u001b[1;33m=\u001b[0m \u001b[0mfig\u001b[0m\u001b[1;33m.\u001b[0m\u001b[0mget\u001b[0m\u001b[1;33m(\u001b[0m\u001b[1;34m'layout'\u001b[0m\u001b[1;33m,\u001b[0m \u001b[1;33m{\u001b[0m\u001b[1;33m}\u001b[0m\u001b[1;33m)\u001b[0m\u001b[1;33m\u001b[0m\u001b[0m\n\u001b[1;32m--> 239\u001b[1;33m     \u001b[0mresponse\u001b[0m \u001b[1;33m=\u001b[0m \u001b[0mv1\u001b[0m\u001b[1;33m.\u001b[0m\u001b[0mclientresp\u001b[0m\u001b[1;33m(\u001b[0m\u001b[0mdata\u001b[0m\u001b[1;33m,\u001b[0m \u001b[1;33m**\u001b[0m\u001b[0mplot_options\u001b[0m\u001b[1;33m)\u001b[0m\u001b[1;33m\u001b[0m\u001b[0m\n\u001b[0m\u001b[0;32m    240\u001b[0m \u001b[1;33m\u001b[0m\u001b[0m\n\u001b[0;32m    241\u001b[0m     \u001b[1;31m# Check if the url needs a secret key\u001b[0m\u001b[1;33m\u001b[0m\u001b[1;33m\u001b[0m\u001b[0m\n",
      "\u001b[1;32mC:\\ProgramData\\Anaconda3\\lib\\site-packages\\plotly\\api\\v1\\clientresp.py\u001b[0m in \u001b[0;36mclientresp\u001b[1;34m(data, **kwargs)\u001b[0m\n\u001b[0;32m     33\u001b[0m \u001b[1;33m\u001b[0m\u001b[0m\n\u001b[0;32m     34\u001b[0m     \u001b[0murl\u001b[0m \u001b[1;33m=\u001b[0m \u001b[1;34m'{plotly_domain}/clientresp'\u001b[0m\u001b[1;33m.\u001b[0m\u001b[0mformat\u001b[0m\u001b[1;33m(\u001b[0m\u001b[1;33m**\u001b[0m\u001b[0mcfg\u001b[0m\u001b[1;33m)\u001b[0m\u001b[1;33m\u001b[0m\u001b[0m\n\u001b[1;32m---> 35\u001b[1;33m     \u001b[0mresponse\u001b[0m \u001b[1;33m=\u001b[0m \u001b[0mrequest\u001b[0m\u001b[1;33m(\u001b[0m\u001b[1;34m'post'\u001b[0m\u001b[1;33m,\u001b[0m \u001b[0murl\u001b[0m\u001b[1;33m,\u001b[0m \u001b[0mdata\u001b[0m\u001b[1;33m=\u001b[0m\u001b[0mpayload\u001b[0m\u001b[1;33m)\u001b[0m\u001b[1;33m\u001b[0m\u001b[0m\n\u001b[0m\u001b[0;32m     36\u001b[0m \u001b[1;33m\u001b[0m\u001b[0m\n\u001b[0;32m     37\u001b[0m     \u001b[1;31m# Old functionality, just keeping it around.\u001b[0m\u001b[1;33m\u001b[0m\u001b[1;33m\u001b[0m\u001b[0m\n",
      "\u001b[1;32mC:\\ProgramData\\Anaconda3\\lib\\site-packages\\retrying.py\u001b[0m in \u001b[0;36mwrapped_f\u001b[1;34m(*args, **kw)\u001b[0m\n\u001b[0;32m     47\u001b[0m             \u001b[1;33m@\u001b[0m\u001b[0msix\u001b[0m\u001b[1;33m.\u001b[0m\u001b[0mwraps\u001b[0m\u001b[1;33m(\u001b[0m\u001b[0mf\u001b[0m\u001b[1;33m)\u001b[0m\u001b[1;33m\u001b[0m\u001b[0m\n\u001b[0;32m     48\u001b[0m             \u001b[1;32mdef\u001b[0m \u001b[0mwrapped_f\u001b[0m\u001b[1;33m(\u001b[0m\u001b[1;33m*\u001b[0m\u001b[0margs\u001b[0m\u001b[1;33m,\u001b[0m \u001b[1;33m**\u001b[0m\u001b[0mkw\u001b[0m\u001b[1;33m)\u001b[0m\u001b[1;33m:\u001b[0m\u001b[1;33m\u001b[0m\u001b[0m\n\u001b[1;32m---> 49\u001b[1;33m                 \u001b[1;32mreturn\u001b[0m \u001b[0mRetrying\u001b[0m\u001b[1;33m(\u001b[0m\u001b[1;33m*\u001b[0m\u001b[0mdargs\u001b[0m\u001b[1;33m,\u001b[0m \u001b[1;33m**\u001b[0m\u001b[0mdkw\u001b[0m\u001b[1;33m)\u001b[0m\u001b[1;33m.\u001b[0m\u001b[0mcall\u001b[0m\u001b[1;33m(\u001b[0m\u001b[0mf\u001b[0m\u001b[1;33m,\u001b[0m \u001b[1;33m*\u001b[0m\u001b[0margs\u001b[0m\u001b[1;33m,\u001b[0m \u001b[1;33m**\u001b[0m\u001b[0mkw\u001b[0m\u001b[1;33m)\u001b[0m\u001b[1;33m\u001b[0m\u001b[0m\n\u001b[0m\u001b[0;32m     50\u001b[0m \u001b[1;33m\u001b[0m\u001b[0m\n\u001b[0;32m     51\u001b[0m             \u001b[1;32mreturn\u001b[0m \u001b[0mwrapped_f\u001b[0m\u001b[1;33m\u001b[0m\u001b[0m\n",
      "\u001b[1;32mC:\\ProgramData\\Anaconda3\\lib\\site-packages\\retrying.py\u001b[0m in \u001b[0;36mcall\u001b[1;34m(self, fn, *args, **kwargs)\u001b[0m\n\u001b[0;32m    204\u001b[0m \u001b[1;33m\u001b[0m\u001b[0m\n\u001b[0;32m    205\u001b[0m             \u001b[1;32mif\u001b[0m \u001b[1;32mnot\u001b[0m \u001b[0mself\u001b[0m\u001b[1;33m.\u001b[0m\u001b[0mshould_reject\u001b[0m\u001b[1;33m(\u001b[0m\u001b[0mattempt\u001b[0m\u001b[1;33m)\u001b[0m\u001b[1;33m:\u001b[0m\u001b[1;33m\u001b[0m\u001b[0m\n\u001b[1;32m--> 206\u001b[1;33m                 \u001b[1;32mreturn\u001b[0m \u001b[0mattempt\u001b[0m\u001b[1;33m.\u001b[0m\u001b[0mget\u001b[0m\u001b[1;33m(\u001b[0m\u001b[0mself\u001b[0m\u001b[1;33m.\u001b[0m\u001b[0m_wrap_exception\u001b[0m\u001b[1;33m)\u001b[0m\u001b[1;33m\u001b[0m\u001b[0m\n\u001b[0m\u001b[0;32m    207\u001b[0m \u001b[1;33m\u001b[0m\u001b[0m\n\u001b[0;32m    208\u001b[0m             \u001b[0mdelay_since_first_attempt_ms\u001b[0m \u001b[1;33m=\u001b[0m \u001b[0mint\u001b[0m\u001b[1;33m(\u001b[0m\u001b[0mround\u001b[0m\u001b[1;33m(\u001b[0m\u001b[0mtime\u001b[0m\u001b[1;33m.\u001b[0m\u001b[0mtime\u001b[0m\u001b[1;33m(\u001b[0m\u001b[1;33m)\u001b[0m \u001b[1;33m*\u001b[0m \u001b[1;36m1000\u001b[0m\u001b[1;33m)\u001b[0m\u001b[1;33m)\u001b[0m \u001b[1;33m-\u001b[0m \u001b[0mstart_time\u001b[0m\u001b[1;33m\u001b[0m\u001b[0m\n",
      "\u001b[1;32mC:\\ProgramData\\Anaconda3\\lib\\site-packages\\retrying.py\u001b[0m in \u001b[0;36mget\u001b[1;34m(self, wrap_exception)\u001b[0m\n\u001b[0;32m    245\u001b[0m                 \u001b[1;32mraise\u001b[0m \u001b[0mRetryError\u001b[0m\u001b[1;33m(\u001b[0m\u001b[0mself\u001b[0m\u001b[1;33m)\u001b[0m\u001b[1;33m\u001b[0m\u001b[0m\n\u001b[0;32m    246\u001b[0m             \u001b[1;32melse\u001b[0m\u001b[1;33m:\u001b[0m\u001b[1;33m\u001b[0m\u001b[0m\n\u001b[1;32m--> 247\u001b[1;33m                 \u001b[0msix\u001b[0m\u001b[1;33m.\u001b[0m\u001b[0mreraise\u001b[0m\u001b[1;33m(\u001b[0m\u001b[0mself\u001b[0m\u001b[1;33m.\u001b[0m\u001b[0mvalue\u001b[0m\u001b[1;33m[\u001b[0m\u001b[1;36m0\u001b[0m\u001b[1;33m]\u001b[0m\u001b[1;33m,\u001b[0m \u001b[0mself\u001b[0m\u001b[1;33m.\u001b[0m\u001b[0mvalue\u001b[0m\u001b[1;33m[\u001b[0m\u001b[1;36m1\u001b[0m\u001b[1;33m]\u001b[0m\u001b[1;33m,\u001b[0m \u001b[0mself\u001b[0m\u001b[1;33m.\u001b[0m\u001b[0mvalue\u001b[0m\u001b[1;33m[\u001b[0m\u001b[1;36m2\u001b[0m\u001b[1;33m]\u001b[0m\u001b[1;33m)\u001b[0m\u001b[1;33m\u001b[0m\u001b[0m\n\u001b[0m\u001b[0;32m    248\u001b[0m         \u001b[1;32melse\u001b[0m\u001b[1;33m:\u001b[0m\u001b[1;33m\u001b[0m\u001b[0m\n\u001b[0;32m    249\u001b[0m             \u001b[1;32mreturn\u001b[0m \u001b[0mself\u001b[0m\u001b[1;33m.\u001b[0m\u001b[0mvalue\u001b[0m\u001b[1;33m\u001b[0m\u001b[0m\n",
      "\u001b[1;32mC:\\ProgramData\\Anaconda3\\lib\\site-packages\\six.py\u001b[0m in \u001b[0;36mreraise\u001b[1;34m(tp, value, tb)\u001b[0m\n\u001b[0;32m    691\u001b[0m             \u001b[1;32mif\u001b[0m \u001b[0mvalue\u001b[0m\u001b[1;33m.\u001b[0m\u001b[0m__traceback__\u001b[0m \u001b[1;32mis\u001b[0m \u001b[1;32mnot\u001b[0m \u001b[0mtb\u001b[0m\u001b[1;33m:\u001b[0m\u001b[1;33m\u001b[0m\u001b[0m\n\u001b[0;32m    692\u001b[0m                 \u001b[1;32mraise\u001b[0m \u001b[0mvalue\u001b[0m\u001b[1;33m.\u001b[0m\u001b[0mwith_traceback\u001b[0m\u001b[1;33m(\u001b[0m\u001b[0mtb\u001b[0m\u001b[1;33m)\u001b[0m\u001b[1;33m\u001b[0m\u001b[0m\n\u001b[1;32m--> 693\u001b[1;33m             \u001b[1;32mraise\u001b[0m \u001b[0mvalue\u001b[0m\u001b[1;33m\u001b[0m\u001b[0m\n\u001b[0m\u001b[0;32m    694\u001b[0m         \u001b[1;32mfinally\u001b[0m\u001b[1;33m:\u001b[0m\u001b[1;33m\u001b[0m\u001b[0m\n\u001b[0;32m    695\u001b[0m             \u001b[0mvalue\u001b[0m \u001b[1;33m=\u001b[0m \u001b[1;32mNone\u001b[0m\u001b[1;33m\u001b[0m\u001b[0m\n",
      "\u001b[1;32mC:\\ProgramData\\Anaconda3\\lib\\site-packages\\retrying.py\u001b[0m in \u001b[0;36mcall\u001b[1;34m(self, fn, *args, **kwargs)\u001b[0m\n\u001b[0;32m    198\u001b[0m         \u001b[1;32mwhile\u001b[0m \u001b[1;32mTrue\u001b[0m\u001b[1;33m:\u001b[0m\u001b[1;33m\u001b[0m\u001b[0m\n\u001b[0;32m    199\u001b[0m             \u001b[1;32mtry\u001b[0m\u001b[1;33m:\u001b[0m\u001b[1;33m\u001b[0m\u001b[0m\n\u001b[1;32m--> 200\u001b[1;33m                 \u001b[0mattempt\u001b[0m \u001b[1;33m=\u001b[0m \u001b[0mAttempt\u001b[0m\u001b[1;33m(\u001b[0m\u001b[0mfn\u001b[0m\u001b[1;33m(\u001b[0m\u001b[1;33m*\u001b[0m\u001b[0margs\u001b[0m\u001b[1;33m,\u001b[0m \u001b[1;33m**\u001b[0m\u001b[0mkwargs\u001b[0m\u001b[1;33m)\u001b[0m\u001b[1;33m,\u001b[0m \u001b[0mattempt_number\u001b[0m\u001b[1;33m,\u001b[0m \u001b[1;32mFalse\u001b[0m\u001b[1;33m)\u001b[0m\u001b[1;33m\u001b[0m\u001b[0m\n\u001b[0m\u001b[0;32m    201\u001b[0m             \u001b[1;32mexcept\u001b[0m\u001b[1;33m:\u001b[0m\u001b[1;33m\u001b[0m\u001b[0m\n\u001b[0;32m    202\u001b[0m                 \u001b[0mtb\u001b[0m \u001b[1;33m=\u001b[0m \u001b[0msys\u001b[0m\u001b[1;33m.\u001b[0m\u001b[0mexc_info\u001b[0m\u001b[1;33m(\u001b[0m\u001b[1;33m)\u001b[0m\u001b[1;33m\u001b[0m\u001b[0m\n",
      "\u001b[1;32mC:\\ProgramData\\Anaconda3\\lib\\site-packages\\plotly\\api\\v1\\utils.py\u001b[0m in \u001b[0;36mrequest\u001b[1;34m(method, url, **kwargs)\u001b[0m\n\u001b[0;32m     87\u001b[0m         \u001b[0mstatus_code\u001b[0m \u001b[1;33m=\u001b[0m \u001b[0mresponse\u001b[0m\u001b[1;33m.\u001b[0m\u001b[0mstatus_code\u001b[0m \u001b[1;32mif\u001b[0m \u001b[0mresponse\u001b[0m \u001b[1;32melse\u001b[0m \u001b[1;32mNone\u001b[0m\u001b[1;33m\u001b[0m\u001b[0m\n\u001b[0;32m     88\u001b[0m         \u001b[0mcontent\u001b[0m \u001b[1;33m=\u001b[0m \u001b[0mresponse\u001b[0m\u001b[1;33m.\u001b[0m\u001b[0mcontent\u001b[0m \u001b[1;32mif\u001b[0m \u001b[0mresponse\u001b[0m \u001b[1;32melse\u001b[0m \u001b[1;34m'No content'\u001b[0m\u001b[1;33m\u001b[0m\u001b[0m\n\u001b[1;32m---> 89\u001b[1;33m         \u001b[1;32mraise\u001b[0m \u001b[0mexceptions\u001b[0m\u001b[1;33m.\u001b[0m\u001b[0mPlotlyRequestError\u001b[0m\u001b[1;33m(\u001b[0m\u001b[0mmessage\u001b[0m\u001b[1;33m,\u001b[0m \u001b[0mstatus_code\u001b[0m\u001b[1;33m,\u001b[0m \u001b[0mcontent\u001b[0m\u001b[1;33m)\u001b[0m\u001b[1;33m\u001b[0m\u001b[0m\n\u001b[0m\u001b[0;32m     90\u001b[0m     \u001b[0mvalidate_response\u001b[0m\u001b[1;33m(\u001b[0m\u001b[0mresponse\u001b[0m\u001b[1;33m)\u001b[0m\u001b[1;33m\u001b[0m\u001b[0m\n\u001b[0;32m     91\u001b[0m     \u001b[1;32mreturn\u001b[0m \u001b[0mresponse\u001b[0m\u001b[1;33m\u001b[0m\u001b[0m\n",
      "\u001b[1;31mPlotlyRequestError\u001b[0m: No message"
     ]
    }
   ],
   "source": [
    "BlackFridayTrain.groupby(['Gender'])['Purchase'].sum().iplot(kind='bar', yTitle='Total Purchase Amount', title='Total Purchase by Gender')"
   ]
  },
  {
   "cell_type": "code",
   "execution_count": null,
   "metadata": {
    "collapsed": true
   },
   "outputs": [],
   "source": [
    "BlackFridayTrain.groupby(['Age'])['Purchase'].sum().iplot(kind='bar', title=\"Age Distribution of the data\")"
   ]
  },
  {
   "cell_type": "code",
   "execution_count": null,
   "metadata": {
    "collapsed": true
   },
   "outputs": [],
   "source": [
    "BlackFridayTrain.groupby(['Occupation'])['Purchase'].sum().iplot(kind='bar', title=\"Occupation Distribution of the data\")"
   ]
  },
  {
   "cell_type": "code",
   "execution_count": null,
   "metadata": {
    "collapsed": true
   },
   "outputs": [],
   "source": [
    "BlackFridayTrain.groupby('City_Category')['Purchase'].sum().iplot(kind='bar', title=\"City Category Distribution of the data\")"
   ]
  },
  {
   "cell_type": "code",
   "execution_count": null,
   "metadata": {
    "collapsed": true
   },
   "outputs": [],
   "source": [
    "BlackFridayTrain.groupby('Stay_In_Current_City_Years')['Purchase'].sum().iplot(kind='bar', title=\"Stay Duration Distribution of the data\")"
   ]
  },
  {
   "cell_type": "code",
   "execution_count": null,
   "metadata": {
    "collapsed": true,
    "scrolled": true
   },
   "outputs": [],
   "source": [
    "BlackFridayTrain.groupby('Marital_Status')['Purchase'].sum().iplot(kind='bar', title=\"Marital Status Distribution of the data\")"
   ]
  },
  {
   "cell_type": "code",
   "execution_count": 15,
   "metadata": {
    "collapsed": true
   },
   "outputs": [],
   "source": [
    "BlackFridayTrainNew = BlackFridayTrain.copy(deep=True)\n",
    "\n",
    "BlackFridayTrainNew.loc[BlackFridayTrainNew['Gender'] == 'F', 'Gender'] = 0\n",
    "BlackFridayTrainNew.loc[BlackFridayTrainNew['Gender'] == 'M', 'Gender'] = 1\n",
    "\n",
    "BlackFridayTrainNew.loc[BlackFridayTrainNew['Age'] == '0-17', 'Age'] = 0\n",
    "BlackFridayTrainNew.loc[BlackFridayTrainNew['Age'] == '18-25', 'Age'] = 1\n",
    "BlackFridayTrainNew.loc[BlackFridayTrainNew['Age'] == '26-35', 'Age'] = 2\n",
    "BlackFridayTrainNew.loc[BlackFridayTrainNew['Age'] == '36-45', 'Age'] = 3\n",
    "BlackFridayTrainNew.loc[BlackFridayTrainNew['Age'] == '46-50', 'Age'] = 4\n",
    "BlackFridayTrainNew.loc[BlackFridayTrainNew['Age'] == '51-55', 'Age'] = 5\n",
    "BlackFridayTrainNew.loc[BlackFridayTrainNew['Age'] == '55+', 'Age'] = 6\n",
    "\n",
    "BlackFridayTrainNew.loc[BlackFridayTrainNew['Stay_In_Current_City_Years'] == '4+', 'Stay_In_Current_City_Years'] = 4\n",
    "\n",
    "BlackFridayTrainNew.loc[BlackFridayTrainNew['City_Category'] == 'A', 'City_Category'] = 0\n",
    "BlackFridayTrainNew.loc[BlackFridayTrainNew['City_Category'] == 'B', 'City_Category'] = 1\n",
    "BlackFridayTrainNew.loc[BlackFridayTrainNew['City_Category'] == 'C', 'City_Category'] = 2\n",
    "\n",
    "\n",
    "BlackFridayTrainNew['Gender'] = BlackFridayTrainNew['Gender'].astype(int)\n",
    "BlackFridayTrainNew['Age'] = BlackFridayTrainNew['Age'].astype(int)\n",
    "BlackFridayTrainNew['City_Category'] = BlackFridayTrainNew['City_Category'].astype(int)\n",
    "BlackFridayTrainNew['Stay_In_Current_City_Years'] = BlackFridayTrainNew['Stay_In_Current_City_Years'].astype(int)"
   ]
  },
  {
   "cell_type": "code",
   "execution_count": 16,
   "metadata": {},
   "outputs": [
    {
     "data": {
      "text/html": [
       "<div>\n",
       "<style>\n",
       "    .dataframe thead tr:only-child th {\n",
       "        text-align: right;\n",
       "    }\n",
       "\n",
       "    .dataframe thead th {\n",
       "        text-align: left;\n",
       "    }\n",
       "\n",
       "    .dataframe tbody tr th {\n",
       "        vertical-align: top;\n",
       "    }\n",
       "</style>\n",
       "<table border=\"1\" class=\"dataframe\">\n",
       "  <thead>\n",
       "    <tr style=\"text-align: right;\">\n",
       "      <th></th>\n",
       "      <th>User_ID</th>\n",
       "      <th>Product_ID</th>\n",
       "      <th>Gender</th>\n",
       "      <th>Age</th>\n",
       "      <th>Occupation</th>\n",
       "      <th>City_Category</th>\n",
       "      <th>Stay_In_Current_City_Years</th>\n",
       "      <th>Marital_Status</th>\n",
       "      <th>Product_Category_1</th>\n",
       "      <th>Product_Category_2</th>\n",
       "      <th>Product_Category_3</th>\n",
       "      <th>Purchase</th>\n",
       "    </tr>\n",
       "  </thead>\n",
       "  <tbody>\n",
       "    <tr>\n",
       "      <th>0</th>\n",
       "      <td>1000001</td>\n",
       "      <td>P00069042</td>\n",
       "      <td>0</td>\n",
       "      <td>0</td>\n",
       "      <td>10</td>\n",
       "      <td>0</td>\n",
       "      <td>2</td>\n",
       "      <td>0</td>\n",
       "      <td>3</td>\n",
       "      <td>0</td>\n",
       "      <td>0</td>\n",
       "      <td>8370</td>\n",
       "    </tr>\n",
       "    <tr>\n",
       "      <th>1</th>\n",
       "      <td>1000001</td>\n",
       "      <td>P00248942</td>\n",
       "      <td>0</td>\n",
       "      <td>0</td>\n",
       "      <td>10</td>\n",
       "      <td>0</td>\n",
       "      <td>2</td>\n",
       "      <td>0</td>\n",
       "      <td>1</td>\n",
       "      <td>6</td>\n",
       "      <td>14</td>\n",
       "      <td>15200</td>\n",
       "    </tr>\n",
       "    <tr>\n",
       "      <th>2</th>\n",
       "      <td>1000001</td>\n",
       "      <td>P00087842</td>\n",
       "      <td>0</td>\n",
       "      <td>0</td>\n",
       "      <td>10</td>\n",
       "      <td>0</td>\n",
       "      <td>2</td>\n",
       "      <td>0</td>\n",
       "      <td>12</td>\n",
       "      <td>0</td>\n",
       "      <td>0</td>\n",
       "      <td>1422</td>\n",
       "    </tr>\n",
       "    <tr>\n",
       "      <th>3</th>\n",
       "      <td>1000001</td>\n",
       "      <td>P00085442</td>\n",
       "      <td>0</td>\n",
       "      <td>0</td>\n",
       "      <td>10</td>\n",
       "      <td>0</td>\n",
       "      <td>2</td>\n",
       "      <td>0</td>\n",
       "      <td>12</td>\n",
       "      <td>14</td>\n",
       "      <td>0</td>\n",
       "      <td>1057</td>\n",
       "    </tr>\n",
       "    <tr>\n",
       "      <th>4</th>\n",
       "      <td>1000002</td>\n",
       "      <td>P00285442</td>\n",
       "      <td>1</td>\n",
       "      <td>6</td>\n",
       "      <td>16</td>\n",
       "      <td>2</td>\n",
       "      <td>4</td>\n",
       "      <td>0</td>\n",
       "      <td>8</td>\n",
       "      <td>0</td>\n",
       "      <td>0</td>\n",
       "      <td>7969</td>\n",
       "    </tr>\n",
       "  </tbody>\n",
       "</table>\n",
       "</div>"
      ],
      "text/plain": [
       "   User_ID Product_ID  Gender  Age  Occupation  City_Category  \\\n",
       "0  1000001  P00069042       0    0          10              0   \n",
       "1  1000001  P00248942       0    0          10              0   \n",
       "2  1000001  P00087842       0    0          10              0   \n",
       "3  1000001  P00085442       0    0          10              0   \n",
       "4  1000002  P00285442       1    6          16              2   \n",
       "\n",
       "   Stay_In_Current_City_Years  Marital_Status  Product_Category_1  \\\n",
       "0                           2               0                   3   \n",
       "1                           2               0                   1   \n",
       "2                           2               0                  12   \n",
       "3                           2               0                  12   \n",
       "4                           4               0                   8   \n",
       "\n",
       "   Product_Category_2  Product_Category_3  Purchase  \n",
       "0                   0                   0      8370  \n",
       "1                   6                  14     15200  \n",
       "2                   0                   0      1422  \n",
       "3                  14                   0      1057  \n",
       "4                   0                   0      7969  "
      ]
     },
     "execution_count": 16,
     "metadata": {},
     "output_type": "execute_result"
    }
   ],
   "source": [
    "BlackFridayTrainNew.head()"
   ]
  },
  {
   "cell_type": "code",
   "execution_count": 17,
   "metadata": {},
   "outputs": [
    {
     "data": {
      "text/plain": [
       "User_ID                       0\n",
       "Product_ID                    0\n",
       "Gender                        0\n",
       "Age                           0\n",
       "Occupation                    0\n",
       "City_Category                 0\n",
       "Stay_In_Current_City_Years    0\n",
       "Marital_Status                0\n",
       "Product_Category_1            0\n",
       "Product_Category_2            0\n",
       "Product_Category_3            0\n",
       "Purchase                      0\n",
       "dtype: int64"
      ]
     },
     "execution_count": 17,
     "metadata": {},
     "output_type": "execute_result"
    }
   ],
   "source": [
    "BlackFridayTrainNew.isnull().sum()"
   ]
  },
  {
   "cell_type": "code",
   "execution_count": 18,
   "metadata": {},
   "outputs": [
    {
     "data": {
      "text/html": [
       "<div>\n",
       "<style>\n",
       "    .dataframe thead tr:only-child th {\n",
       "        text-align: right;\n",
       "    }\n",
       "\n",
       "    .dataframe thead th {\n",
       "        text-align: left;\n",
       "    }\n",
       "\n",
       "    .dataframe tbody tr th {\n",
       "        vertical-align: top;\n",
       "    }\n",
       "</style>\n",
       "<table border=\"1\" class=\"dataframe\">\n",
       "  <thead>\n",
       "    <tr style=\"text-align: right;\">\n",
       "      <th></th>\n",
       "      <th>User_ID</th>\n",
       "      <th>Product_ID</th>\n",
       "      <th>Gender</th>\n",
       "      <th>Age</th>\n",
       "      <th>Occupation</th>\n",
       "      <th>City_Category</th>\n",
       "      <th>Stay_In_Current_City_Years</th>\n",
       "      <th>Marital_Status</th>\n",
       "      <th>Product_Category_1</th>\n",
       "      <th>Product_Category_2</th>\n",
       "      <th>Product_Category_3</th>\n",
       "      <th>Purchase</th>\n",
       "    </tr>\n",
       "  </thead>\n",
       "  <tbody>\n",
       "    <tr>\n",
       "      <th>0</th>\n",
       "      <td>1000001</td>\n",
       "      <td>P00069042</td>\n",
       "      <td>0</td>\n",
       "      <td>0</td>\n",
       "      <td>10</td>\n",
       "      <td>0</td>\n",
       "      <td>2</td>\n",
       "      <td>0</td>\n",
       "      <td>3</td>\n",
       "      <td>0</td>\n",
       "      <td>0</td>\n",
       "      <td>8370</td>\n",
       "    </tr>\n",
       "    <tr>\n",
       "      <th>1</th>\n",
       "      <td>1000001</td>\n",
       "      <td>P00248942</td>\n",
       "      <td>0</td>\n",
       "      <td>0</td>\n",
       "      <td>10</td>\n",
       "      <td>0</td>\n",
       "      <td>2</td>\n",
       "      <td>0</td>\n",
       "      <td>1</td>\n",
       "      <td>6</td>\n",
       "      <td>14</td>\n",
       "      <td>15200</td>\n",
       "    </tr>\n",
       "    <tr>\n",
       "      <th>2</th>\n",
       "      <td>1000001</td>\n",
       "      <td>P00087842</td>\n",
       "      <td>0</td>\n",
       "      <td>0</td>\n",
       "      <td>10</td>\n",
       "      <td>0</td>\n",
       "      <td>2</td>\n",
       "      <td>0</td>\n",
       "      <td>12</td>\n",
       "      <td>0</td>\n",
       "      <td>0</td>\n",
       "      <td>1422</td>\n",
       "    </tr>\n",
       "    <tr>\n",
       "      <th>3</th>\n",
       "      <td>1000001</td>\n",
       "      <td>P00085442</td>\n",
       "      <td>0</td>\n",
       "      <td>0</td>\n",
       "      <td>10</td>\n",
       "      <td>0</td>\n",
       "      <td>2</td>\n",
       "      <td>0</td>\n",
       "      <td>12</td>\n",
       "      <td>14</td>\n",
       "      <td>0</td>\n",
       "      <td>1057</td>\n",
       "    </tr>\n",
       "    <tr>\n",
       "      <th>4</th>\n",
       "      <td>1000002</td>\n",
       "      <td>P00285442</td>\n",
       "      <td>1</td>\n",
       "      <td>6</td>\n",
       "      <td>16</td>\n",
       "      <td>2</td>\n",
       "      <td>4</td>\n",
       "      <td>0</td>\n",
       "      <td>8</td>\n",
       "      <td>0</td>\n",
       "      <td>0</td>\n",
       "      <td>7969</td>\n",
       "    </tr>\n",
       "  </tbody>\n",
       "</table>\n",
       "</div>"
      ],
      "text/plain": [
       "   User_ID Product_ID  Gender  Age  Occupation  City_Category  \\\n",
       "0  1000001  P00069042       0    0          10              0   \n",
       "1  1000001  P00248942       0    0          10              0   \n",
       "2  1000001  P00087842       0    0          10              0   \n",
       "3  1000001  P00085442       0    0          10              0   \n",
       "4  1000002  P00285442       1    6          16              2   \n",
       "\n",
       "   Stay_In_Current_City_Years  Marital_Status  Product_Category_1  \\\n",
       "0                           2               0                   3   \n",
       "1                           2               0                   1   \n",
       "2                           2               0                  12   \n",
       "3                           2               0                  12   \n",
       "4                           4               0                   8   \n",
       "\n",
       "   Product_Category_2  Product_Category_3  Purchase  \n",
       "0                   0                   0      8370  \n",
       "1                   6                  14     15200  \n",
       "2                   0                   0      1422  \n",
       "3                  14                   0      1057  \n",
       "4                   0                   0      7969  "
      ]
     },
     "execution_count": 18,
     "metadata": {},
     "output_type": "execute_result"
    }
   ],
   "source": [
    "BlackFridayTrainNew.head()"
   ]
  },
  {
   "cell_type": "code",
   "execution_count": 19,
   "metadata": {
    "collapsed": true
   },
   "outputs": [],
   "source": [
    "ageVsGender = BlackFridayTrainNew.groupby(['Age', 'Gender'])['Purchase'].sum().unstack()"
   ]
  },
  {
   "cell_type": "code",
   "execution_count": 20,
   "metadata": {},
   "outputs": [
    {
     "data": {
      "text/html": [
       "<div>\n",
       "<style>\n",
       "    .dataframe thead tr:only-child th {\n",
       "        text-align: right;\n",
       "    }\n",
       "\n",
       "    .dataframe thead th {\n",
       "        text-align: left;\n",
       "    }\n",
       "\n",
       "    .dataframe tbody tr th {\n",
       "        vertical-align: top;\n",
       "    }\n",
       "</style>\n",
       "<table border=\"1\" class=\"dataframe\">\n",
       "  <thead>\n",
       "    <tr style=\"text-align: right;\">\n",
       "      <th>Gender</th>\n",
       "      <th>0</th>\n",
       "      <th>1</th>\n",
       "    </tr>\n",
       "    <tr>\n",
       "      <th>Age</th>\n",
       "      <th></th>\n",
       "      <th></th>\n",
       "    </tr>\n",
       "  </thead>\n",
       "  <tbody>\n",
       "    <tr>\n",
       "      <th>0</th>\n",
       "      <td>42385978</td>\n",
       "      <td>92527205</td>\n",
       "    </tr>\n",
       "    <tr>\n",
       "      <th>1</th>\n",
       "      <td>205475842</td>\n",
       "      <td>708372833</td>\n",
       "    </tr>\n",
       "    <tr>\n",
       "      <th>2</th>\n",
       "      <td>442976233</td>\n",
       "      <td>1588794345</td>\n",
       "    </tr>\n",
       "    <tr>\n",
       "      <th>3</th>\n",
       "      <td>243438963</td>\n",
       "      <td>783130921</td>\n",
       "    </tr>\n",
       "    <tr>\n",
       "      <th>4</th>\n",
       "      <td>116706864</td>\n",
       "      <td>304136539</td>\n",
       "    </tr>\n",
       "    <tr>\n",
       "      <th>5</th>\n",
       "      <td>89465997</td>\n",
       "      <td>277633647</td>\n",
       "    </tr>\n",
       "    <tr>\n",
       "      <th>6</th>\n",
       "      <td>45782765</td>\n",
       "      <td>154984610</td>\n",
       "    </tr>\n",
       "  </tbody>\n",
       "</table>\n",
       "</div>"
      ],
      "text/plain": [
       "Gender          0           1\n",
       "Age                          \n",
       "0        42385978    92527205\n",
       "1       205475842   708372833\n",
       "2       442976233  1588794345\n",
       "3       243438963   783130921\n",
       "4       116706864   304136539\n",
       "5        89465997   277633647\n",
       "6        45782765   154984610"
      ]
     },
     "execution_count": 20,
     "metadata": {},
     "output_type": "execute_result"
    }
   ],
   "source": [
    "ageVsGender"
   ]
  },
  {
   "cell_type": "code",
   "execution_count": 21,
   "metadata": {
    "scrolled": true
   },
   "outputs": [
    {
     "ename": "PlotlyRequestError",
     "evalue": "Hi there, you've reached the threshold of 100 combined image exports and chart saves per 24h period. If you need to raise your daily limit, please consider upgrading to a paid plan\n(see: https://plot.ly/products/cloud ).",
     "output_type": "error",
     "traceback": [
      "\u001b[1;31m---------------------------------------------------------------------------\u001b[0m",
      "\u001b[1;31mPlotlyRequestError\u001b[0m                        Traceback (most recent call last)",
      "\u001b[1;32m<ipython-input-21-faab3b5a5369>\u001b[0m in \u001b[0;36m<module>\u001b[1;34m()\u001b[0m\n\u001b[1;32m----> 1\u001b[1;33m \u001b[0mageVsGender\u001b[0m\u001b[1;33m.\u001b[0m\u001b[0miplot\u001b[0m\u001b[1;33m(\u001b[0m\u001b[0mkind\u001b[0m\u001b[1;33m=\u001b[0m\u001b[1;34m'bar'\u001b[0m\u001b[1;33m,\u001b[0m \u001b[0mtitle\u001b[0m\u001b[1;33m=\u001b[0m\u001b[1;34m\"Gender Distribution across various Age Groups\"\u001b[0m\u001b[1;33m)\u001b[0m\u001b[1;33m\u001b[0m\u001b[0m\n\u001b[0m",
      "\u001b[1;32mC:\\ProgramData\\Anaconda3\\lib\\site-packages\\cufflinks\\plotlytools.py\u001b[0m in \u001b[0;36m_iplot\u001b[1;34m(self, kind, data, layout, filename, sharing, title, xTitle, yTitle, zTitle, theme, colors, colorscale, fill, width, dash, mode, interpolation, symbol, size, barmode, sortbars, bargap, bargroupgap, bins, histnorm, histfunc, orientation, boxpoints, annotations, keys, bestfit, bestfit_colors, mean, mean_colors, categories, x, y, z, text, gridcolor, zerolinecolor, margin, labels, values, secondary_y, secondary_y_title, subplots, shape, error_x, error_y, error_type, locations, lon, lat, asFrame, asDates, asFigure, asImage, dimensions, asPlot, asUrl, online, **kwargs)\u001b[0m\n\u001b[0;32m   1198\u001b[0m \t\treturn iplot(figure,validate=validate,sharing=sharing,filename=filename,\n\u001b[0;32m   1199\u001b[0m                          \u001b[0monline\u001b[0m\u001b[1;33m=\u001b[0m\u001b[0monline\u001b[0m\u001b[1;33m,\u001b[0m\u001b[0masImage\u001b[0m\u001b[1;33m=\u001b[0m\u001b[0masImage\u001b[0m\u001b[1;33m,\u001b[0m\u001b[0masUrl\u001b[0m\u001b[1;33m=\u001b[0m\u001b[0masUrl\u001b[0m\u001b[1;33m,\u001b[0m\u001b[0masPlot\u001b[0m\u001b[1;33m=\u001b[0m\u001b[0masPlot\u001b[0m\u001b[1;33m,\u001b[0m\u001b[1;33m\u001b[0m\u001b[0m\n\u001b[1;32m-> 1200\u001b[1;33m \t\t\t dimensions=dimensions,display_image=kwargs.get('display_image',True))\n\u001b[0m\u001b[0;32m   1201\u001b[0m \u001b[1;33m\u001b[0m\u001b[0m\n\u001b[0;32m   1202\u001b[0m \u001b[1;33m\u001b[0m\u001b[0m\n",
      "\u001b[1;32mC:\\ProgramData\\Anaconda3\\lib\\site-packages\\cufflinks\\plotlytools.py\u001b[0m in \u001b[0;36miplot\u001b[1;34m(figure, validate, sharing, filename, online, asImage, asUrl, asPlot, dimensions, display_image, **kwargs)\u001b[0m\n\u001b[0;32m   1443\u001b[0m         \u001b[1;32melse\u001b[0m\u001b[1;33m:\u001b[0m\u001b[1;33m\u001b[0m\u001b[0m\n\u001b[0;32m   1444\u001b[0m \t\treturn py.iplot(figure,validate=validate,sharing=sharing,\n\u001b[1;32m-> 1445\u001b[1;33m \t\t\t\t\t\tfilename=filename)\n\u001b[0m\u001b[0;32m   1446\u001b[0m \u001b[1;33m\u001b[0m\u001b[0m\n\u001b[0;32m   1447\u001b[0m \u001b[1;33m\u001b[0m\u001b[0m\n",
      "\u001b[1;32mC:\\ProgramData\\Anaconda3\\lib\\site-packages\\plotly\\plotly\\plotly.py\u001b[0m in \u001b[0;36miplot\u001b[1;34m(figure_or_data, **plot_options)\u001b[0m\n\u001b[0;32m    140\u001b[0m     \u001b[1;32mif\u001b[0m \u001b[1;34m'auto_open'\u001b[0m \u001b[1;32mnot\u001b[0m \u001b[1;32min\u001b[0m \u001b[0mplot_options\u001b[0m\u001b[1;33m:\u001b[0m\u001b[1;33m\u001b[0m\u001b[0m\n\u001b[0;32m    141\u001b[0m         \u001b[0mplot_options\u001b[0m\u001b[1;33m[\u001b[0m\u001b[1;34m'auto_open'\u001b[0m\u001b[1;33m]\u001b[0m \u001b[1;33m=\u001b[0m \u001b[1;32mFalse\u001b[0m\u001b[1;33m\u001b[0m\u001b[0m\n\u001b[1;32m--> 142\u001b[1;33m     \u001b[0murl\u001b[0m \u001b[1;33m=\u001b[0m \u001b[0mplot\u001b[0m\u001b[1;33m(\u001b[0m\u001b[0mfigure_or_data\u001b[0m\u001b[1;33m,\u001b[0m \u001b[1;33m**\u001b[0m\u001b[0mplot_options\u001b[0m\u001b[1;33m)\u001b[0m\u001b[1;33m\u001b[0m\u001b[0m\n\u001b[0m\u001b[0;32m    143\u001b[0m \u001b[1;33m\u001b[0m\u001b[0m\n\u001b[0;32m    144\u001b[0m     \u001b[1;32mif\u001b[0m \u001b[0misinstance\u001b[0m\u001b[1;33m(\u001b[0m\u001b[0mfigure_or_data\u001b[0m\u001b[1;33m,\u001b[0m \u001b[0mdict\u001b[0m\u001b[1;33m)\u001b[0m\u001b[1;33m:\u001b[0m\u001b[1;33m\u001b[0m\u001b[0m\n",
      "\u001b[1;32mC:\\ProgramData\\Anaconda3\\lib\\site-packages\\plotly\\plotly\\plotly.py\u001b[0m in \u001b[0;36mplot\u001b[1;34m(figure_or_data, validate, **plot_options)\u001b[0m\n\u001b[0;32m    237\u001b[0m     \u001b[0mdata\u001b[0m \u001b[1;33m=\u001b[0m \u001b[0mfig\u001b[0m\u001b[1;33m.\u001b[0m\u001b[0mget\u001b[0m\u001b[1;33m(\u001b[0m\u001b[1;34m'data'\u001b[0m\u001b[1;33m,\u001b[0m \u001b[1;33m[\u001b[0m\u001b[1;33m]\u001b[0m\u001b[1;33m)\u001b[0m\u001b[1;33m\u001b[0m\u001b[0m\n\u001b[0;32m    238\u001b[0m     \u001b[0mplot_options\u001b[0m\u001b[1;33m[\u001b[0m\u001b[1;34m'layout'\u001b[0m\u001b[1;33m]\u001b[0m \u001b[1;33m=\u001b[0m \u001b[0mfig\u001b[0m\u001b[1;33m.\u001b[0m\u001b[0mget\u001b[0m\u001b[1;33m(\u001b[0m\u001b[1;34m'layout'\u001b[0m\u001b[1;33m,\u001b[0m \u001b[1;33m{\u001b[0m\u001b[1;33m}\u001b[0m\u001b[1;33m)\u001b[0m\u001b[1;33m\u001b[0m\u001b[0m\n\u001b[1;32m--> 239\u001b[1;33m     \u001b[0mresponse\u001b[0m \u001b[1;33m=\u001b[0m \u001b[0mv1\u001b[0m\u001b[1;33m.\u001b[0m\u001b[0mclientresp\u001b[0m\u001b[1;33m(\u001b[0m\u001b[0mdata\u001b[0m\u001b[1;33m,\u001b[0m \u001b[1;33m**\u001b[0m\u001b[0mplot_options\u001b[0m\u001b[1;33m)\u001b[0m\u001b[1;33m\u001b[0m\u001b[0m\n\u001b[0m\u001b[0;32m    240\u001b[0m \u001b[1;33m\u001b[0m\u001b[0m\n\u001b[0;32m    241\u001b[0m     \u001b[1;31m# Check if the url needs a secret key\u001b[0m\u001b[1;33m\u001b[0m\u001b[1;33m\u001b[0m\u001b[0m\n",
      "\u001b[1;32mC:\\ProgramData\\Anaconda3\\lib\\site-packages\\plotly\\api\\v1\\clientresp.py\u001b[0m in \u001b[0;36mclientresp\u001b[1;34m(data, **kwargs)\u001b[0m\n\u001b[0;32m     33\u001b[0m \u001b[1;33m\u001b[0m\u001b[0m\n\u001b[0;32m     34\u001b[0m     \u001b[0murl\u001b[0m \u001b[1;33m=\u001b[0m \u001b[1;34m'{plotly_domain}/clientresp'\u001b[0m\u001b[1;33m.\u001b[0m\u001b[0mformat\u001b[0m\u001b[1;33m(\u001b[0m\u001b[1;33m**\u001b[0m\u001b[0mcfg\u001b[0m\u001b[1;33m)\u001b[0m\u001b[1;33m\u001b[0m\u001b[0m\n\u001b[1;32m---> 35\u001b[1;33m     \u001b[0mresponse\u001b[0m \u001b[1;33m=\u001b[0m \u001b[0mrequest\u001b[0m\u001b[1;33m(\u001b[0m\u001b[1;34m'post'\u001b[0m\u001b[1;33m,\u001b[0m \u001b[0murl\u001b[0m\u001b[1;33m,\u001b[0m \u001b[0mdata\u001b[0m\u001b[1;33m=\u001b[0m\u001b[0mpayload\u001b[0m\u001b[1;33m)\u001b[0m\u001b[1;33m\u001b[0m\u001b[0m\n\u001b[0m\u001b[0;32m     36\u001b[0m \u001b[1;33m\u001b[0m\u001b[0m\n\u001b[0;32m     37\u001b[0m     \u001b[1;31m# Old functionality, just keeping it around.\u001b[0m\u001b[1;33m\u001b[0m\u001b[1;33m\u001b[0m\u001b[0m\n",
      "\u001b[1;32mC:\\ProgramData\\Anaconda3\\lib\\site-packages\\retrying.py\u001b[0m in \u001b[0;36mwrapped_f\u001b[1;34m(*args, **kw)\u001b[0m\n\u001b[0;32m     47\u001b[0m             \u001b[1;33m@\u001b[0m\u001b[0msix\u001b[0m\u001b[1;33m.\u001b[0m\u001b[0mwraps\u001b[0m\u001b[1;33m(\u001b[0m\u001b[0mf\u001b[0m\u001b[1;33m)\u001b[0m\u001b[1;33m\u001b[0m\u001b[0m\n\u001b[0;32m     48\u001b[0m             \u001b[1;32mdef\u001b[0m \u001b[0mwrapped_f\u001b[0m\u001b[1;33m(\u001b[0m\u001b[1;33m*\u001b[0m\u001b[0margs\u001b[0m\u001b[1;33m,\u001b[0m \u001b[1;33m**\u001b[0m\u001b[0mkw\u001b[0m\u001b[1;33m)\u001b[0m\u001b[1;33m:\u001b[0m\u001b[1;33m\u001b[0m\u001b[0m\n\u001b[1;32m---> 49\u001b[1;33m                 \u001b[1;32mreturn\u001b[0m \u001b[0mRetrying\u001b[0m\u001b[1;33m(\u001b[0m\u001b[1;33m*\u001b[0m\u001b[0mdargs\u001b[0m\u001b[1;33m,\u001b[0m \u001b[1;33m**\u001b[0m\u001b[0mdkw\u001b[0m\u001b[1;33m)\u001b[0m\u001b[1;33m.\u001b[0m\u001b[0mcall\u001b[0m\u001b[1;33m(\u001b[0m\u001b[0mf\u001b[0m\u001b[1;33m,\u001b[0m \u001b[1;33m*\u001b[0m\u001b[0margs\u001b[0m\u001b[1;33m,\u001b[0m \u001b[1;33m**\u001b[0m\u001b[0mkw\u001b[0m\u001b[1;33m)\u001b[0m\u001b[1;33m\u001b[0m\u001b[0m\n\u001b[0m\u001b[0;32m     50\u001b[0m \u001b[1;33m\u001b[0m\u001b[0m\n\u001b[0;32m     51\u001b[0m             \u001b[1;32mreturn\u001b[0m \u001b[0mwrapped_f\u001b[0m\u001b[1;33m\u001b[0m\u001b[0m\n",
      "\u001b[1;32mC:\\ProgramData\\Anaconda3\\lib\\site-packages\\retrying.py\u001b[0m in \u001b[0;36mcall\u001b[1;34m(self, fn, *args, **kwargs)\u001b[0m\n\u001b[0;32m    204\u001b[0m \u001b[1;33m\u001b[0m\u001b[0m\n\u001b[0;32m    205\u001b[0m             \u001b[1;32mif\u001b[0m \u001b[1;32mnot\u001b[0m \u001b[0mself\u001b[0m\u001b[1;33m.\u001b[0m\u001b[0mshould_reject\u001b[0m\u001b[1;33m(\u001b[0m\u001b[0mattempt\u001b[0m\u001b[1;33m)\u001b[0m\u001b[1;33m:\u001b[0m\u001b[1;33m\u001b[0m\u001b[0m\n\u001b[1;32m--> 206\u001b[1;33m                 \u001b[1;32mreturn\u001b[0m \u001b[0mattempt\u001b[0m\u001b[1;33m.\u001b[0m\u001b[0mget\u001b[0m\u001b[1;33m(\u001b[0m\u001b[0mself\u001b[0m\u001b[1;33m.\u001b[0m\u001b[0m_wrap_exception\u001b[0m\u001b[1;33m)\u001b[0m\u001b[1;33m\u001b[0m\u001b[0m\n\u001b[0m\u001b[0;32m    207\u001b[0m \u001b[1;33m\u001b[0m\u001b[0m\n\u001b[0;32m    208\u001b[0m             \u001b[0mdelay_since_first_attempt_ms\u001b[0m \u001b[1;33m=\u001b[0m \u001b[0mint\u001b[0m\u001b[1;33m(\u001b[0m\u001b[0mround\u001b[0m\u001b[1;33m(\u001b[0m\u001b[0mtime\u001b[0m\u001b[1;33m.\u001b[0m\u001b[0mtime\u001b[0m\u001b[1;33m(\u001b[0m\u001b[1;33m)\u001b[0m \u001b[1;33m*\u001b[0m \u001b[1;36m1000\u001b[0m\u001b[1;33m)\u001b[0m\u001b[1;33m)\u001b[0m \u001b[1;33m-\u001b[0m \u001b[0mstart_time\u001b[0m\u001b[1;33m\u001b[0m\u001b[0m\n",
      "\u001b[1;32mC:\\ProgramData\\Anaconda3\\lib\\site-packages\\retrying.py\u001b[0m in \u001b[0;36mget\u001b[1;34m(self, wrap_exception)\u001b[0m\n\u001b[0;32m    245\u001b[0m                 \u001b[1;32mraise\u001b[0m \u001b[0mRetryError\u001b[0m\u001b[1;33m(\u001b[0m\u001b[0mself\u001b[0m\u001b[1;33m)\u001b[0m\u001b[1;33m\u001b[0m\u001b[0m\n\u001b[0;32m    246\u001b[0m             \u001b[1;32melse\u001b[0m\u001b[1;33m:\u001b[0m\u001b[1;33m\u001b[0m\u001b[0m\n\u001b[1;32m--> 247\u001b[1;33m                 \u001b[0msix\u001b[0m\u001b[1;33m.\u001b[0m\u001b[0mreraise\u001b[0m\u001b[1;33m(\u001b[0m\u001b[0mself\u001b[0m\u001b[1;33m.\u001b[0m\u001b[0mvalue\u001b[0m\u001b[1;33m[\u001b[0m\u001b[1;36m0\u001b[0m\u001b[1;33m]\u001b[0m\u001b[1;33m,\u001b[0m \u001b[0mself\u001b[0m\u001b[1;33m.\u001b[0m\u001b[0mvalue\u001b[0m\u001b[1;33m[\u001b[0m\u001b[1;36m1\u001b[0m\u001b[1;33m]\u001b[0m\u001b[1;33m,\u001b[0m \u001b[0mself\u001b[0m\u001b[1;33m.\u001b[0m\u001b[0mvalue\u001b[0m\u001b[1;33m[\u001b[0m\u001b[1;36m2\u001b[0m\u001b[1;33m]\u001b[0m\u001b[1;33m)\u001b[0m\u001b[1;33m\u001b[0m\u001b[0m\n\u001b[0m\u001b[0;32m    248\u001b[0m         \u001b[1;32melse\u001b[0m\u001b[1;33m:\u001b[0m\u001b[1;33m\u001b[0m\u001b[0m\n\u001b[0;32m    249\u001b[0m             \u001b[1;32mreturn\u001b[0m \u001b[0mself\u001b[0m\u001b[1;33m.\u001b[0m\u001b[0mvalue\u001b[0m\u001b[1;33m\u001b[0m\u001b[0m\n",
      "\u001b[1;32mC:\\ProgramData\\Anaconda3\\lib\\site-packages\\six.py\u001b[0m in \u001b[0;36mreraise\u001b[1;34m(tp, value, tb)\u001b[0m\n\u001b[0;32m    691\u001b[0m             \u001b[1;32mif\u001b[0m \u001b[0mvalue\u001b[0m\u001b[1;33m.\u001b[0m\u001b[0m__traceback__\u001b[0m \u001b[1;32mis\u001b[0m \u001b[1;32mnot\u001b[0m \u001b[0mtb\u001b[0m\u001b[1;33m:\u001b[0m\u001b[1;33m\u001b[0m\u001b[0m\n\u001b[0;32m    692\u001b[0m                 \u001b[1;32mraise\u001b[0m \u001b[0mvalue\u001b[0m\u001b[1;33m.\u001b[0m\u001b[0mwith_traceback\u001b[0m\u001b[1;33m(\u001b[0m\u001b[0mtb\u001b[0m\u001b[1;33m)\u001b[0m\u001b[1;33m\u001b[0m\u001b[0m\n\u001b[1;32m--> 693\u001b[1;33m             \u001b[1;32mraise\u001b[0m \u001b[0mvalue\u001b[0m\u001b[1;33m\u001b[0m\u001b[0m\n\u001b[0m\u001b[0;32m    694\u001b[0m         \u001b[1;32mfinally\u001b[0m\u001b[1;33m:\u001b[0m\u001b[1;33m\u001b[0m\u001b[0m\n\u001b[0;32m    695\u001b[0m             \u001b[0mvalue\u001b[0m \u001b[1;33m=\u001b[0m \u001b[1;32mNone\u001b[0m\u001b[1;33m\u001b[0m\u001b[0m\n",
      "\u001b[1;32mC:\\ProgramData\\Anaconda3\\lib\\site-packages\\retrying.py\u001b[0m in \u001b[0;36mcall\u001b[1;34m(self, fn, *args, **kwargs)\u001b[0m\n\u001b[0;32m    198\u001b[0m         \u001b[1;32mwhile\u001b[0m \u001b[1;32mTrue\u001b[0m\u001b[1;33m:\u001b[0m\u001b[1;33m\u001b[0m\u001b[0m\n\u001b[0;32m    199\u001b[0m             \u001b[1;32mtry\u001b[0m\u001b[1;33m:\u001b[0m\u001b[1;33m\u001b[0m\u001b[0m\n\u001b[1;32m--> 200\u001b[1;33m                 \u001b[0mattempt\u001b[0m \u001b[1;33m=\u001b[0m \u001b[0mAttempt\u001b[0m\u001b[1;33m(\u001b[0m\u001b[0mfn\u001b[0m\u001b[1;33m(\u001b[0m\u001b[1;33m*\u001b[0m\u001b[0margs\u001b[0m\u001b[1;33m,\u001b[0m \u001b[1;33m**\u001b[0m\u001b[0mkwargs\u001b[0m\u001b[1;33m)\u001b[0m\u001b[1;33m,\u001b[0m \u001b[0mattempt_number\u001b[0m\u001b[1;33m,\u001b[0m \u001b[1;32mFalse\u001b[0m\u001b[1;33m)\u001b[0m\u001b[1;33m\u001b[0m\u001b[0m\n\u001b[0m\u001b[0;32m    201\u001b[0m             \u001b[1;32mexcept\u001b[0m\u001b[1;33m:\u001b[0m\u001b[1;33m\u001b[0m\u001b[0m\n\u001b[0;32m    202\u001b[0m                 \u001b[0mtb\u001b[0m \u001b[1;33m=\u001b[0m \u001b[0msys\u001b[0m\u001b[1;33m.\u001b[0m\u001b[0mexc_info\u001b[0m\u001b[1;33m(\u001b[0m\u001b[1;33m)\u001b[0m\u001b[1;33m\u001b[0m\u001b[0m\n",
      "\u001b[1;32mC:\\ProgramData\\Anaconda3\\lib\\site-packages\\plotly\\api\\v1\\utils.py\u001b[0m in \u001b[0;36mrequest\u001b[1;34m(method, url, **kwargs)\u001b[0m\n\u001b[0;32m     88\u001b[0m         \u001b[0mcontent\u001b[0m \u001b[1;33m=\u001b[0m \u001b[0mresponse\u001b[0m\u001b[1;33m.\u001b[0m\u001b[0mcontent\u001b[0m \u001b[1;32mif\u001b[0m \u001b[0mresponse\u001b[0m \u001b[1;32melse\u001b[0m \u001b[1;34m'No content'\u001b[0m\u001b[1;33m\u001b[0m\u001b[0m\n\u001b[0;32m     89\u001b[0m         \u001b[1;32mraise\u001b[0m \u001b[0mexceptions\u001b[0m\u001b[1;33m.\u001b[0m\u001b[0mPlotlyRequestError\u001b[0m\u001b[1;33m(\u001b[0m\u001b[0mmessage\u001b[0m\u001b[1;33m,\u001b[0m \u001b[0mstatus_code\u001b[0m\u001b[1;33m,\u001b[0m \u001b[0mcontent\u001b[0m\u001b[1;33m)\u001b[0m\u001b[1;33m\u001b[0m\u001b[0m\n\u001b[1;32m---> 90\u001b[1;33m     \u001b[0mvalidate_response\u001b[0m\u001b[1;33m(\u001b[0m\u001b[0mresponse\u001b[0m\u001b[1;33m)\u001b[0m\u001b[1;33m\u001b[0m\u001b[0m\n\u001b[0m\u001b[0;32m     91\u001b[0m     \u001b[1;32mreturn\u001b[0m \u001b[0mresponse\u001b[0m\u001b[1;33m\u001b[0m\u001b[0m\n",
      "\u001b[1;32mC:\\ProgramData\\Anaconda3\\lib\\site-packages\\plotly\\api\\v1\\utils.py\u001b[0m in \u001b[0;36mvalidate_response\u001b[1;34m(response)\u001b[0m\n\u001b[0;32m     38\u001b[0m         \u001b[0mmessage\u001b[0m \u001b[1;33m=\u001b[0m \u001b[0mcontent\u001b[0m \u001b[1;32mif\u001b[0m \u001b[0mcontent\u001b[0m \u001b[1;32melse\u001b[0m \u001b[1;34m'No Content'\u001b[0m\u001b[1;33m\u001b[0m\u001b[0m\n\u001b[0;32m     39\u001b[0m \u001b[1;33m\u001b[0m\u001b[0m\n\u001b[1;32m---> 40\u001b[1;33m     \u001b[1;32mraise\u001b[0m \u001b[0mexceptions\u001b[0m\u001b[1;33m.\u001b[0m\u001b[0mPlotlyRequestError\u001b[0m\u001b[1;33m(\u001b[0m\u001b[0mmessage\u001b[0m\u001b[1;33m,\u001b[0m \u001b[0mstatus_code\u001b[0m\u001b[1;33m,\u001b[0m \u001b[0mcontent\u001b[0m\u001b[1;33m)\u001b[0m\u001b[1;33m\u001b[0m\u001b[0m\n\u001b[0m\u001b[0;32m     41\u001b[0m \u001b[1;33m\u001b[0m\u001b[0m\n\u001b[0;32m     42\u001b[0m \u001b[1;33m\u001b[0m\u001b[0m\n",
      "\u001b[1;31mPlotlyRequestError\u001b[0m: Hi there, you've reached the threshold of 100 combined image exports and chart saves per 24h period. If you need to raise your daily limit, please consider upgrading to a paid plan\n(see: https://plot.ly/products/cloud )."
     ]
    }
   ],
   "source": [
    "ageVsGender.iplot(kind='bar', title=\"Gender Distribution across various Age Groups\")"
   ]
  },
  {
   "cell_type": "code",
   "execution_count": 23,
   "metadata": {
    "collapsed": true
   },
   "outputs": [],
   "source": [
    "conditions = [\n",
    "    (BlackFridayTrainNew['Product_Category_1'] != 0) & (BlackFridayTrainNew['Product_Category_2'] == 0) & (BlackFridayTrainNew['Product_Category_3'] == 0),\n",
    "    (BlackFridayTrainNew['Product_Category_1'] != 0) & (BlackFridayTrainNew['Product_Category_2'] != 0) & (BlackFridayTrainNew['Product_Category_3'] == 0),\n",
    "    (BlackFridayTrainNew['Product_Category_1'] != 0) & (BlackFridayTrainNew['Product_Category_2'] != 0) & (BlackFridayTrainNew['Product_Category_3'] != 0)]\n",
    "choices = [1, 2, 3]\n",
    "BlackFridayTrainNew['Category_Count'] = np.select(conditions, choices, default=0)"
   ]
  },
  {
   "cell_type": "code",
   "execution_count": 24,
   "metadata": {},
   "outputs": [
    {
     "data": {
      "text/html": [
       "<div>\n",
       "<style>\n",
       "    .dataframe thead tr:only-child th {\n",
       "        text-align: right;\n",
       "    }\n",
       "\n",
       "    .dataframe thead th {\n",
       "        text-align: left;\n",
       "    }\n",
       "\n",
       "    .dataframe tbody tr th {\n",
       "        vertical-align: top;\n",
       "    }\n",
       "</style>\n",
       "<table border=\"1\" class=\"dataframe\">\n",
       "  <thead>\n",
       "    <tr style=\"text-align: right;\">\n",
       "      <th></th>\n",
       "      <th>Product_ID</th>\n",
       "      <th>Product_Score</th>\n",
       "      <th>Frequency</th>\n",
       "    </tr>\n",
       "  </thead>\n",
       "  <tbody>\n",
       "    <tr>\n",
       "      <th>0</th>\n",
       "      <td>P00000142</td>\n",
       "      <td>0.0</td>\n",
       "      <td>1152</td>\n",
       "    </tr>\n",
       "    <tr>\n",
       "      <th>1</th>\n",
       "      <td>P00000242</td>\n",
       "      <td>0.0</td>\n",
       "      <td>376</td>\n",
       "    </tr>\n",
       "    <tr>\n",
       "      <th>2</th>\n",
       "      <td>P00000342</td>\n",
       "      <td>0.0</td>\n",
       "      <td>244</td>\n",
       "    </tr>\n",
       "    <tr>\n",
       "      <th>3</th>\n",
       "      <td>P00000442</td>\n",
       "      <td>0.0</td>\n",
       "      <td>92</td>\n",
       "    </tr>\n",
       "    <tr>\n",
       "      <th>4</th>\n",
       "      <td>P00000542</td>\n",
       "      <td>0.0</td>\n",
       "      <td>149</td>\n",
       "    </tr>\n",
       "  </tbody>\n",
       "</table>\n",
       "</div>"
      ],
      "text/plain": [
       "  Product_ID  Product_Score  Frequency\n",
       "0  P00000142            0.0       1152\n",
       "1  P00000242            0.0        376\n",
       "2  P00000342            0.0        244\n",
       "3  P00000442            0.0         92\n",
       "4  P00000542            0.0        149"
      ]
     },
     "execution_count": 24,
     "metadata": {},
     "output_type": "execute_result"
    }
   ],
   "source": [
    "BlackFridayTrainNew['Product_Score'] = 0.0\n",
    "required_product_data = BlackFridayTrainNew[['Product_ID', 'Product_Score']]\n",
    "\n",
    "required_product_data['Frequency'] = 1\n",
    "\n",
    "grouped_product_data = required_product_data.groupby(['Product_ID']).sum()\n",
    "grouped_product_data = grouped_product_data.reset_index()\n",
    "\n",
    "grouped_product_data.head()"
   ]
  },
  {
   "cell_type": "code",
   "execution_count": 25,
   "metadata": {
    "collapsed": true
   },
   "outputs": [],
   "source": [
    "max_frequency = grouped_product_data['Frequency'].max()\n",
    "\n",
    "final_product_data = grouped_product_data[['Product_ID', 'Product_Score', 'Frequency']]\n",
    "\n",
    "for index, row in final_product_data.iterrows():\n",
    "    product_score = (float(row['Frequency']) / float(max_frequency))\n",
    "    final_product_data.set_value(index, 'Product_Score', product_score)"
   ]
  },
  {
   "cell_type": "code",
   "execution_count": 26,
   "metadata": {},
   "outputs": [
    {
     "data": {
      "text/html": [
       "<div>\n",
       "<style>\n",
       "    .dataframe thead tr:only-child th {\n",
       "        text-align: right;\n",
       "    }\n",
       "\n",
       "    .dataframe thead th {\n",
       "        text-align: left;\n",
       "    }\n",
       "\n",
       "    .dataframe tbody tr th {\n",
       "        vertical-align: top;\n",
       "    }\n",
       "</style>\n",
       "<table border=\"1\" class=\"dataframe\">\n",
       "  <thead>\n",
       "    <tr style=\"text-align: right;\">\n",
       "      <th></th>\n",
       "      <th>Product_ID</th>\n",
       "      <th>Product_Score</th>\n",
       "      <th>Frequency</th>\n",
       "    </tr>\n",
       "  </thead>\n",
       "  <tbody>\n",
       "    <tr>\n",
       "      <th>0</th>\n",
       "      <td>P00000142</td>\n",
       "      <td>0.612766</td>\n",
       "      <td>1152</td>\n",
       "    </tr>\n",
       "    <tr>\n",
       "      <th>1</th>\n",
       "      <td>P00000242</td>\n",
       "      <td>0.200000</td>\n",
       "      <td>376</td>\n",
       "    </tr>\n",
       "    <tr>\n",
       "      <th>2</th>\n",
       "      <td>P00000342</td>\n",
       "      <td>0.129787</td>\n",
       "      <td>244</td>\n",
       "    </tr>\n",
       "    <tr>\n",
       "      <th>3</th>\n",
       "      <td>P00000442</td>\n",
       "      <td>0.048936</td>\n",
       "      <td>92</td>\n",
       "    </tr>\n",
       "    <tr>\n",
       "      <th>4</th>\n",
       "      <td>P00000542</td>\n",
       "      <td>0.079255</td>\n",
       "      <td>149</td>\n",
       "    </tr>\n",
       "  </tbody>\n",
       "</table>\n",
       "</div>"
      ],
      "text/plain": [
       "  Product_ID  Product_Score  Frequency\n",
       "0  P00000142       0.612766       1152\n",
       "1  P00000242       0.200000        376\n",
       "2  P00000342       0.129787        244\n",
       "3  P00000442       0.048936         92\n",
       "4  P00000542       0.079255        149"
      ]
     },
     "execution_count": 26,
     "metadata": {},
     "output_type": "execute_result"
    }
   ],
   "source": [
    "final_product_data.head()"
   ]
  },
  {
   "cell_type": "code",
   "execution_count": 27,
   "metadata": {},
   "outputs": [
    {
     "data": {
      "text/html": [
       "<div>\n",
       "<style>\n",
       "    .dataframe thead tr:only-child th {\n",
       "        text-align: right;\n",
       "    }\n",
       "\n",
       "    .dataframe thead th {\n",
       "        text-align: left;\n",
       "    }\n",
       "\n",
       "    .dataframe tbody tr th {\n",
       "        vertical-align: top;\n",
       "    }\n",
       "</style>\n",
       "<table border=\"1\" class=\"dataframe\">\n",
       "  <thead>\n",
       "    <tr style=\"text-align: right;\">\n",
       "      <th></th>\n",
       "      <th>User_ID</th>\n",
       "      <th>Product_ID</th>\n",
       "      <th>Gender</th>\n",
       "      <th>Age</th>\n",
       "      <th>Occupation</th>\n",
       "      <th>City_Category</th>\n",
       "      <th>Stay_In_Current_City_Years</th>\n",
       "      <th>Marital_Status</th>\n",
       "      <th>Product_Category_1</th>\n",
       "      <th>Product_Category_2</th>\n",
       "      <th>Product_Category_3</th>\n",
       "      <th>Purchase</th>\n",
       "      <th>Category_Count</th>\n",
       "      <th>Product_Score</th>\n",
       "    </tr>\n",
       "  </thead>\n",
       "  <tbody>\n",
       "    <tr>\n",
       "      <th>0</th>\n",
       "      <td>1000001</td>\n",
       "      <td>P00069042</td>\n",
       "      <td>0</td>\n",
       "      <td>0</td>\n",
       "      <td>10</td>\n",
       "      <td>0</td>\n",
       "      <td>2</td>\n",
       "      <td>0</td>\n",
       "      <td>3</td>\n",
       "      <td>0</td>\n",
       "      <td>0</td>\n",
       "      <td>8370</td>\n",
       "      <td>1</td>\n",
       "      <td>0.0</td>\n",
       "    </tr>\n",
       "    <tr>\n",
       "      <th>1</th>\n",
       "      <td>1000001</td>\n",
       "      <td>P00248942</td>\n",
       "      <td>0</td>\n",
       "      <td>0</td>\n",
       "      <td>10</td>\n",
       "      <td>0</td>\n",
       "      <td>2</td>\n",
       "      <td>0</td>\n",
       "      <td>1</td>\n",
       "      <td>6</td>\n",
       "      <td>14</td>\n",
       "      <td>15200</td>\n",
       "      <td>3</td>\n",
       "      <td>0.0</td>\n",
       "    </tr>\n",
       "    <tr>\n",
       "      <th>2</th>\n",
       "      <td>1000001</td>\n",
       "      <td>P00087842</td>\n",
       "      <td>0</td>\n",
       "      <td>0</td>\n",
       "      <td>10</td>\n",
       "      <td>0</td>\n",
       "      <td>2</td>\n",
       "      <td>0</td>\n",
       "      <td>12</td>\n",
       "      <td>0</td>\n",
       "      <td>0</td>\n",
       "      <td>1422</td>\n",
       "      <td>1</td>\n",
       "      <td>0.0</td>\n",
       "    </tr>\n",
       "    <tr>\n",
       "      <th>3</th>\n",
       "      <td>1000001</td>\n",
       "      <td>P00085442</td>\n",
       "      <td>0</td>\n",
       "      <td>0</td>\n",
       "      <td>10</td>\n",
       "      <td>0</td>\n",
       "      <td>2</td>\n",
       "      <td>0</td>\n",
       "      <td>12</td>\n",
       "      <td>14</td>\n",
       "      <td>0</td>\n",
       "      <td>1057</td>\n",
       "      <td>2</td>\n",
       "      <td>0.0</td>\n",
       "    </tr>\n",
       "    <tr>\n",
       "      <th>4</th>\n",
       "      <td>1000002</td>\n",
       "      <td>P00285442</td>\n",
       "      <td>1</td>\n",
       "      <td>6</td>\n",
       "      <td>16</td>\n",
       "      <td>2</td>\n",
       "      <td>4</td>\n",
       "      <td>0</td>\n",
       "      <td>8</td>\n",
       "      <td>0</td>\n",
       "      <td>0</td>\n",
       "      <td>7969</td>\n",
       "      <td>1</td>\n",
       "      <td>0.0</td>\n",
       "    </tr>\n",
       "  </tbody>\n",
       "</table>\n",
       "</div>"
      ],
      "text/plain": [
       "   User_ID Product_ID  Gender  Age  Occupation  City_Category  \\\n",
       "0  1000001  P00069042       0    0          10              0   \n",
       "1  1000001  P00248942       0    0          10              0   \n",
       "2  1000001  P00087842       0    0          10              0   \n",
       "3  1000001  P00085442       0    0          10              0   \n",
       "4  1000002  P00285442       1    6          16              2   \n",
       "\n",
       "   Stay_In_Current_City_Years  Marital_Status  Product_Category_1  \\\n",
       "0                           2               0                   3   \n",
       "1                           2               0                   1   \n",
       "2                           2               0                  12   \n",
       "3                           2               0                  12   \n",
       "4                           4               0                   8   \n",
       "\n",
       "   Product_Category_2  Product_Category_3  Purchase  Category_Count  \\\n",
       "0                   0                   0      8370               1   \n",
       "1                   6                  14     15200               3   \n",
       "2                   0                   0      1422               1   \n",
       "3                  14                   0      1057               2   \n",
       "4                   0                   0      7969               1   \n",
       "\n",
       "   Product_Score  \n",
       "0            0.0  \n",
       "1            0.0  \n",
       "2            0.0  \n",
       "3            0.0  \n",
       "4            0.0  "
      ]
     },
     "execution_count": 27,
     "metadata": {},
     "output_type": "execute_result"
    }
   ],
   "source": [
    "BlackFridayTrainNew.head()"
   ]
  },
  {
   "cell_type": "code",
   "execution_count": 28,
   "metadata": {
    "collapsed": true
   },
   "outputs": [],
   "source": [
    "for index, row in BlackFridayTrainNew.iterrows():\n",
    "    p_score = final_product_data.loc[final_product_data.Product_ID == row['Product_ID'], 'Product_Score'].values[0]\n",
    "    BlackFridayTrainNew.set_value(index, 'Product_Score', p_score)"
   ]
  },
  {
   "cell_type": "code",
   "execution_count": 29,
   "metadata": {},
   "outputs": [
    {
     "data": {
      "text/html": [
       "<div>\n",
       "<style>\n",
       "    .dataframe thead tr:only-child th {\n",
       "        text-align: right;\n",
       "    }\n",
       "\n",
       "    .dataframe thead th {\n",
       "        text-align: left;\n",
       "    }\n",
       "\n",
       "    .dataframe tbody tr th {\n",
       "        vertical-align: top;\n",
       "    }\n",
       "</style>\n",
       "<table border=\"1\" class=\"dataframe\">\n",
       "  <thead>\n",
       "    <tr style=\"text-align: right;\">\n",
       "      <th></th>\n",
       "      <th>User_ID</th>\n",
       "      <th>User_Score</th>\n",
       "      <th>Frequency</th>\n",
       "    </tr>\n",
       "  </thead>\n",
       "  <tbody>\n",
       "    <tr>\n",
       "      <th>0</th>\n",
       "      <td>1000001</td>\n",
       "      <td>0.0</td>\n",
       "      <td>35</td>\n",
       "    </tr>\n",
       "    <tr>\n",
       "      <th>1</th>\n",
       "      <td>1000002</td>\n",
       "      <td>0.0</td>\n",
       "      <td>77</td>\n",
       "    </tr>\n",
       "    <tr>\n",
       "      <th>2</th>\n",
       "      <td>1000003</td>\n",
       "      <td>0.0</td>\n",
       "      <td>29</td>\n",
       "    </tr>\n",
       "    <tr>\n",
       "      <th>3</th>\n",
       "      <td>1000004</td>\n",
       "      <td>0.0</td>\n",
       "      <td>14</td>\n",
       "    </tr>\n",
       "    <tr>\n",
       "      <th>4</th>\n",
       "      <td>1000005</td>\n",
       "      <td>0.0</td>\n",
       "      <td>106</td>\n",
       "    </tr>\n",
       "  </tbody>\n",
       "</table>\n",
       "</div>"
      ],
      "text/plain": [
       "   User_ID  User_Score  Frequency\n",
       "0  1000001         0.0         35\n",
       "1  1000002         0.0         77\n",
       "2  1000003         0.0         29\n",
       "3  1000004         0.0         14\n",
       "4  1000005         0.0        106"
      ]
     },
     "execution_count": 29,
     "metadata": {},
     "output_type": "execute_result"
    }
   ],
   "source": [
    "BlackFridayTrainNew['User_Score'] = 0.0\n",
    "required_user_data = BlackFridayTrainNew[['User_ID', 'User_Score']]\n",
    "\n",
    "required_user_data['Frequency'] = 1\n",
    "\n",
    "grouped_user_data = required_user_data.groupby(['User_ID']).sum()\n",
    "grouped_user_data = grouped_user_data.reset_index()\n",
    "\n",
    "grouped_user_data.head()"
   ]
  },
  {
   "cell_type": "code",
   "execution_count": 30,
   "metadata": {
    "collapsed": true
   },
   "outputs": [],
   "source": [
    "max_frequency = grouped_user_data['Frequency'].max()\n",
    "\n",
    "final_user_data = grouped_user_data[['User_ID', 'User_Score', 'Frequency']]\n",
    "\n",
    "for index, row in final_user_data.iterrows():\n",
    "    product_score = (float(row['Frequency']) / float(max_frequency))\n",
    "    final_user_data.set_value(index, 'User_Score', product_score)"
   ]
  },
  {
   "cell_type": "code",
   "execution_count": 31,
   "metadata": {
    "collapsed": true
   },
   "outputs": [],
   "source": [
    "for index, row in BlackFridayTrainNew.iterrows():\n",
    "    p_score = final_user_data.loc[final_user_data.User_ID == row['User_ID'], 'User_Score'].values[0]\n",
    "    BlackFridayTrainNew.set_value(index, 'User_Score', p_score)"
   ]
  },
  {
   "cell_type": "code",
   "execution_count": 50,
   "metadata": {
    "scrolled": false
   },
   "outputs": [
    {
     "data": {
      "text/html": [
       "<div>\n",
       "<style>\n",
       "    .dataframe thead tr:only-child th {\n",
       "        text-align: right;\n",
       "    }\n",
       "\n",
       "    .dataframe thead th {\n",
       "        text-align: left;\n",
       "    }\n",
       "\n",
       "    .dataframe tbody tr th {\n",
       "        vertical-align: top;\n",
       "    }\n",
       "</style>\n",
       "<table border=\"1\" class=\"dataframe\">\n",
       "  <thead>\n",
       "    <tr style=\"text-align: right;\">\n",
       "      <th></th>\n",
       "      <th>User_ID</th>\n",
       "      <th>Product_ID</th>\n",
       "      <th>Gender</th>\n",
       "      <th>Age</th>\n",
       "      <th>Occupation</th>\n",
       "      <th>City_Category</th>\n",
       "      <th>Stay_In_Current_City_Years</th>\n",
       "      <th>Marital_Status</th>\n",
       "      <th>Product_Category_1</th>\n",
       "      <th>Product_Category_2</th>\n",
       "      <th>Product_Category_3</th>\n",
       "      <th>Purchase</th>\n",
       "      <th>Category_Count</th>\n",
       "      <th>Product_Score</th>\n",
       "      <th>User_Score</th>\n",
       "    </tr>\n",
       "  </thead>\n",
       "  <tbody>\n",
       "    <tr>\n",
       "      <th>0</th>\n",
       "      <td>1000001</td>\n",
       "      <td>P00069042</td>\n",
       "      <td>0</td>\n",
       "      <td>0</td>\n",
       "      <td>10</td>\n",
       "      <td>0</td>\n",
       "      <td>2</td>\n",
       "      <td>0</td>\n",
       "      <td>3</td>\n",
       "      <td>0</td>\n",
       "      <td>0</td>\n",
       "      <td>8370</td>\n",
       "      <td>1</td>\n",
       "      <td>0.120745</td>\n",
       "      <td>0.034113</td>\n",
       "    </tr>\n",
       "    <tr>\n",
       "      <th>1</th>\n",
       "      <td>1000001</td>\n",
       "      <td>P00248942</td>\n",
       "      <td>0</td>\n",
       "      <td>0</td>\n",
       "      <td>10</td>\n",
       "      <td>0</td>\n",
       "      <td>2</td>\n",
       "      <td>0</td>\n",
       "      <td>1</td>\n",
       "      <td>6</td>\n",
       "      <td>14</td>\n",
       "      <td>15200</td>\n",
       "      <td>3</td>\n",
       "      <td>0.309043</td>\n",
       "      <td>0.034113</td>\n",
       "    </tr>\n",
       "    <tr>\n",
       "      <th>2</th>\n",
       "      <td>1000001</td>\n",
       "      <td>P00087842</td>\n",
       "      <td>0</td>\n",
       "      <td>0</td>\n",
       "      <td>10</td>\n",
       "      <td>0</td>\n",
       "      <td>2</td>\n",
       "      <td>0</td>\n",
       "      <td>12</td>\n",
       "      <td>0</td>\n",
       "      <td>0</td>\n",
       "      <td>1422</td>\n",
       "      <td>1</td>\n",
       "      <td>0.054255</td>\n",
       "      <td>0.034113</td>\n",
       "    </tr>\n",
       "    <tr>\n",
       "      <th>3</th>\n",
       "      <td>1000001</td>\n",
       "      <td>P00085442</td>\n",
       "      <td>0</td>\n",
       "      <td>0</td>\n",
       "      <td>10</td>\n",
       "      <td>0</td>\n",
       "      <td>2</td>\n",
       "      <td>0</td>\n",
       "      <td>12</td>\n",
       "      <td>14</td>\n",
       "      <td>0</td>\n",
       "      <td>1057</td>\n",
       "      <td>2</td>\n",
       "      <td>0.181383</td>\n",
       "      <td>0.034113</td>\n",
       "    </tr>\n",
       "    <tr>\n",
       "      <th>4</th>\n",
       "      <td>1000002</td>\n",
       "      <td>P00285442</td>\n",
       "      <td>1</td>\n",
       "      <td>6</td>\n",
       "      <td>16</td>\n",
       "      <td>2</td>\n",
       "      <td>4</td>\n",
       "      <td>0</td>\n",
       "      <td>8</td>\n",
       "      <td>0</td>\n",
       "      <td>0</td>\n",
       "      <td>7969</td>\n",
       "      <td>1</td>\n",
       "      <td>0.107979</td>\n",
       "      <td>0.075049</td>\n",
       "    </tr>\n",
       "  </tbody>\n",
       "</table>\n",
       "</div>"
      ],
      "text/plain": [
       "   User_ID Product_ID  Gender  Age  Occupation  City_Category  \\\n",
       "0  1000001  P00069042       0    0          10              0   \n",
       "1  1000001  P00248942       0    0          10              0   \n",
       "2  1000001  P00087842       0    0          10              0   \n",
       "3  1000001  P00085442       0    0          10              0   \n",
       "4  1000002  P00285442       1    6          16              2   \n",
       "\n",
       "   Stay_In_Current_City_Years  Marital_Status  Product_Category_1  \\\n",
       "0                           2               0                   3   \n",
       "1                           2               0                   1   \n",
       "2                           2               0                  12   \n",
       "3                           2               0                  12   \n",
       "4                           4               0                   8   \n",
       "\n",
       "   Product_Category_2  Product_Category_3  Purchase  Category_Count  \\\n",
       "0                   0                   0      8370               1   \n",
       "1                   6                  14     15200               3   \n",
       "2                   0                   0      1422               1   \n",
       "3                  14                   0      1057               2   \n",
       "4                   0                   0      7969               1   \n",
       "\n",
       "   Product_Score  User_Score  \n",
       "0       0.120745    0.034113  \n",
       "1       0.309043    0.034113  \n",
       "2       0.054255    0.034113  \n",
       "3       0.181383    0.034113  \n",
       "4       0.107979    0.075049  "
      ]
     },
     "execution_count": 50,
     "metadata": {},
     "output_type": "execute_result"
    }
   ],
   "source": [
    "BlackFridayTrainNew.head()"
   ]
  },
  {
   "cell_type": "code",
   "execution_count": 53,
   "metadata": {
    "scrolled": true
   },
   "outputs": [
    {
     "data": {
      "text/plain": [
       "['User_ID',\n",
       " 'Product_ID',\n",
       " 'Gender',\n",
       " 'Age',\n",
       " 'Occupation',\n",
       " 'City_Category',\n",
       " 'Stay_In_Current_City_Years',\n",
       " 'Marital_Status',\n",
       " 'Product_Category_1',\n",
       " 'Product_Category_2',\n",
       " 'Product_Category_3',\n",
       " 'Category_Count',\n",
       " 'Product_Score',\n",
       " 'User_Score',\n",
       " 'Purchase']"
      ]
     },
     "execution_count": 53,
     "metadata": {},
     "output_type": "execute_result"
    }
   ],
   "source": [
    "cols = list(BlackFridayTrainNew)\n",
    "# move the column to head of list using index, pop and insert\n",
    "cols.insert(14, cols.pop(cols.index('Purchase')))\n",
    "cols"
   ]
  },
  {
   "cell_type": "code",
   "execution_count": 57,
   "metadata": {},
   "outputs": [
    {
     "data": {
      "text/html": [
       "<div>\n",
       "<style>\n",
       "    .dataframe thead tr:only-child th {\n",
       "        text-align: right;\n",
       "    }\n",
       "\n",
       "    .dataframe thead th {\n",
       "        text-align: left;\n",
       "    }\n",
       "\n",
       "    .dataframe tbody tr th {\n",
       "        vertical-align: top;\n",
       "    }\n",
       "</style>\n",
       "<table border=\"1\" class=\"dataframe\">\n",
       "  <thead>\n",
       "    <tr style=\"text-align: right;\">\n",
       "      <th></th>\n",
       "      <th>User_ID</th>\n",
       "      <th>Product_ID</th>\n",
       "      <th>Gender</th>\n",
       "      <th>Age</th>\n",
       "      <th>Occupation</th>\n",
       "      <th>City_Category</th>\n",
       "      <th>Stay_In_Current_City_Years</th>\n",
       "      <th>Marital_Status</th>\n",
       "      <th>Product_Category_1</th>\n",
       "      <th>Product_Category_2</th>\n",
       "      <th>Product_Category_3</th>\n",
       "      <th>Category_Count</th>\n",
       "      <th>Product_Score</th>\n",
       "      <th>User_Score</th>\n",
       "      <th>Purchase</th>\n",
       "    </tr>\n",
       "  </thead>\n",
       "  <tbody>\n",
       "    <tr>\n",
       "      <th>0</th>\n",
       "      <td>1000001</td>\n",
       "      <td>P00069042</td>\n",
       "      <td>0</td>\n",
       "      <td>0</td>\n",
       "      <td>10</td>\n",
       "      <td>0</td>\n",
       "      <td>2</td>\n",
       "      <td>0</td>\n",
       "      <td>3</td>\n",
       "      <td>0</td>\n",
       "      <td>0</td>\n",
       "      <td>1</td>\n",
       "      <td>0.120745</td>\n",
       "      <td>0.034113</td>\n",
       "      <td>8370</td>\n",
       "    </tr>\n",
       "    <tr>\n",
       "      <th>1</th>\n",
       "      <td>1000001</td>\n",
       "      <td>P00248942</td>\n",
       "      <td>0</td>\n",
       "      <td>0</td>\n",
       "      <td>10</td>\n",
       "      <td>0</td>\n",
       "      <td>2</td>\n",
       "      <td>0</td>\n",
       "      <td>1</td>\n",
       "      <td>6</td>\n",
       "      <td>14</td>\n",
       "      <td>3</td>\n",
       "      <td>0.309043</td>\n",
       "      <td>0.034113</td>\n",
       "      <td>15200</td>\n",
       "    </tr>\n",
       "    <tr>\n",
       "      <th>2</th>\n",
       "      <td>1000001</td>\n",
       "      <td>P00087842</td>\n",
       "      <td>0</td>\n",
       "      <td>0</td>\n",
       "      <td>10</td>\n",
       "      <td>0</td>\n",
       "      <td>2</td>\n",
       "      <td>0</td>\n",
       "      <td>12</td>\n",
       "      <td>0</td>\n",
       "      <td>0</td>\n",
       "      <td>1</td>\n",
       "      <td>0.054255</td>\n",
       "      <td>0.034113</td>\n",
       "      <td>1422</td>\n",
       "    </tr>\n",
       "    <tr>\n",
       "      <th>3</th>\n",
       "      <td>1000001</td>\n",
       "      <td>P00085442</td>\n",
       "      <td>0</td>\n",
       "      <td>0</td>\n",
       "      <td>10</td>\n",
       "      <td>0</td>\n",
       "      <td>2</td>\n",
       "      <td>0</td>\n",
       "      <td>12</td>\n",
       "      <td>14</td>\n",
       "      <td>0</td>\n",
       "      <td>2</td>\n",
       "      <td>0.181383</td>\n",
       "      <td>0.034113</td>\n",
       "      <td>1057</td>\n",
       "    </tr>\n",
       "    <tr>\n",
       "      <th>4</th>\n",
       "      <td>1000002</td>\n",
       "      <td>P00285442</td>\n",
       "      <td>1</td>\n",
       "      <td>6</td>\n",
       "      <td>16</td>\n",
       "      <td>2</td>\n",
       "      <td>4</td>\n",
       "      <td>0</td>\n",
       "      <td>8</td>\n",
       "      <td>0</td>\n",
       "      <td>0</td>\n",
       "      <td>1</td>\n",
       "      <td>0.107979</td>\n",
       "      <td>0.075049</td>\n",
       "      <td>7969</td>\n",
       "    </tr>\n",
       "  </tbody>\n",
       "</table>\n",
       "</div>"
      ],
      "text/plain": [
       "   User_ID Product_ID  Gender  Age  Occupation  City_Category  \\\n",
       "0  1000001  P00069042       0    0          10              0   \n",
       "1  1000001  P00248942       0    0          10              0   \n",
       "2  1000001  P00087842       0    0          10              0   \n",
       "3  1000001  P00085442       0    0          10              0   \n",
       "4  1000002  P00285442       1    6          16              2   \n",
       "\n",
       "   Stay_In_Current_City_Years  Marital_Status  Product_Category_1  \\\n",
       "0                           2               0                   3   \n",
       "1                           2               0                   1   \n",
       "2                           2               0                  12   \n",
       "3                           2               0                  12   \n",
       "4                           4               0                   8   \n",
       "\n",
       "   Product_Category_2  Product_Category_3  Category_Count  Product_Score  \\\n",
       "0                   0                   0               1       0.120745   \n",
       "1                   6                  14               3       0.309043   \n",
       "2                   0                   0               1       0.054255   \n",
       "3                  14                   0               2       0.181383   \n",
       "4                   0                   0               1       0.107979   \n",
       "\n",
       "   User_Score  Purchase  \n",
       "0    0.034113      8370  \n",
       "1    0.034113     15200  \n",
       "2    0.034113      1422  \n",
       "3    0.034113      1057  \n",
       "4    0.075049      7969  "
      ]
     },
     "execution_count": 57,
     "metadata": {},
     "output_type": "execute_result"
    }
   ],
   "source": [
    "# use loc to reorder\n",
    "BlackFridayTrainNew = BlackFridayTrainNew.loc[:, cols]\n",
    "BlackFridayTrainNew.head()"
   ]
  },
  {
   "cell_type": "code",
   "execution_count": 8,
   "metadata": {},
   "outputs": [
    {
     "ename": "NameError",
     "evalue": "name 'BlackFridayTrainNew' is not defined",
     "output_type": "error",
     "traceback": [
      "\u001b[1;31m---------------------------------------------------------------------------\u001b[0m",
      "\u001b[1;31mNameError\u001b[0m                                 Traceback (most recent call last)",
      "\u001b[1;32m<ipython-input-8-3facb5d0589c>\u001b[0m in \u001b[0;36m<module>\u001b[1;34m()\u001b[0m\n\u001b[1;32m----> 1\u001b[1;33m \u001b[0mBlackFridayTrainNew\u001b[0m\u001b[1;33m.\u001b[0m\u001b[0mto_csv\u001b[0m\u001b[1;33m(\u001b[0m\u001b[1;34m'BlackFridayTrainNew.csv'\u001b[0m\u001b[1;33m)\u001b[0m\u001b[1;33m\u001b[0m\u001b[0m\n\u001b[0m",
      "\u001b[1;31mNameError\u001b[0m: name 'BlackFridayTrainNew' is not defined"
     ]
    }
   ],
   "source": [
    "BlackFridayTrainNew.to_csv('BlackFridayTrainNew.csv')"
   ]
  },
  {
   "cell_type": "code",
   "execution_count": null,
   "metadata": {
    "collapsed": true,
    "scrolled": true
   },
   "outputs": [],
   "source": [
    "BlackFridayTrainNew.corr()"
   ]
  },
  {
   "cell_type": "code",
   "execution_count": 5,
   "metadata": {},
   "outputs": [
    {
     "ename": "NameError",
     "evalue": "name 'BlackFridayTrainNew' is not defined",
     "output_type": "error",
     "traceback": [
      "\u001b[1;31m---------------------------------------------------------------------------\u001b[0m",
      "\u001b[1;31mNameError\u001b[0m                                 Traceback (most recent call last)",
      "\u001b[1;32m<ipython-input-5-ba9e228483f4>\u001b[0m in \u001b[0;36m<module>\u001b[1;34m()\u001b[0m\n\u001b[0;32m      1\u001b[0m \u001b[1;32mimport\u001b[0m \u001b[0mseaborn\u001b[0m \u001b[1;32mas\u001b[0m \u001b[0msb\u001b[0m\u001b[1;33m\u001b[0m\u001b[0m\n\u001b[1;32m----> 2\u001b[1;33m \u001b[0mC_mat\u001b[0m \u001b[1;33m=\u001b[0m \u001b[0mBlackFridayTrainNew\u001b[0m\u001b[1;33m.\u001b[0m\u001b[0mcorr\u001b[0m\u001b[1;33m(\u001b[0m\u001b[1;33m)\u001b[0m\u001b[1;33m\u001b[0m\u001b[0m\n\u001b[0m\u001b[0;32m      3\u001b[0m \u001b[0mfig\u001b[0m \u001b[1;33m=\u001b[0m \u001b[0mplt\u001b[0m\u001b[1;33m.\u001b[0m\u001b[0mfigure\u001b[0m\u001b[1;33m(\u001b[0m\u001b[0mfigsize\u001b[0m \u001b[1;33m=\u001b[0m \u001b[1;33m(\u001b[0m\u001b[1;36m15\u001b[0m\u001b[1;33m,\u001b[0m\u001b[1;36m15\u001b[0m\u001b[1;33m)\u001b[0m\u001b[1;33m)\u001b[0m\u001b[1;33m\u001b[0m\u001b[0m\n\u001b[0;32m      4\u001b[0m \u001b[1;33m\u001b[0m\u001b[0m\n\u001b[0;32m      5\u001b[0m \u001b[0msb\u001b[0m\u001b[1;33m.\u001b[0m\u001b[0mheatmap\u001b[0m\u001b[1;33m(\u001b[0m\u001b[0mC_mat\u001b[0m\u001b[1;33m,\u001b[0m \u001b[0mvmax\u001b[0m \u001b[1;33m=\u001b[0m \u001b[1;36m.8\u001b[0m\u001b[1;33m,\u001b[0m \u001b[0msquare\u001b[0m \u001b[1;33m=\u001b[0m \u001b[1;32mTrue\u001b[0m\u001b[1;33m)\u001b[0m\u001b[1;33m\u001b[0m\u001b[0m\n",
      "\u001b[1;31mNameError\u001b[0m: name 'BlackFridayTrainNew' is not defined"
     ]
    }
   ],
   "source": [
    "import seaborn as sb\n",
    "C_mat = BlackFridayTrainNew.corr()\n",
    "fig = plt.figure(figsize = (15,15))\n",
    "\n",
    "sb.heatmap(C_mat, vmax = .8, square = True)\n",
    "plt.show()"
   ]
  },
  {
   "cell_type": "code",
   "execution_count": 9,
   "metadata": {},
   "outputs": [],
   "source": [
    "BlackFridayTrainNew = pd.read_csv('BlackFridayTrainNew.csv')"
   ]
  },
  {
   "cell_type": "code",
   "execution_count": 10,
   "metadata": {},
   "outputs": [],
   "source": [
    "X = BlackFridayTrainNew.drop(['Purchase','Product_ID'], axis=1)\n",
    "y = BlackFridayTrainNew['Purchase']"
   ]
  },
  {
   "cell_type": "code",
   "execution_count": 11,
   "metadata": {
    "scrolled": true
   },
   "outputs": [
    {
     "data": {
      "text/html": [
       "<div>\n",
       "<style>\n",
       "    .dataframe thead tr:only-child th {\n",
       "        text-align: right;\n",
       "    }\n",
       "\n",
       "    .dataframe thead th {\n",
       "        text-align: left;\n",
       "    }\n",
       "\n",
       "    .dataframe tbody tr th {\n",
       "        vertical-align: top;\n",
       "    }\n",
       "</style>\n",
       "<table border=\"1\" class=\"dataframe\">\n",
       "  <thead>\n",
       "    <tr style=\"text-align: right;\">\n",
       "      <th></th>\n",
       "      <th>Unnamed: 0</th>\n",
       "      <th>User_ID</th>\n",
       "      <th>Gender</th>\n",
       "      <th>Age</th>\n",
       "      <th>Occupation</th>\n",
       "      <th>City_Category</th>\n",
       "      <th>Stay_In_Current_City_Years</th>\n",
       "      <th>Marital_Status</th>\n",
       "      <th>Product_Category_1</th>\n",
       "      <th>Product_Category_2</th>\n",
       "      <th>Product_Category_3</th>\n",
       "      <th>Category_Count</th>\n",
       "      <th>Product_Score</th>\n",
       "      <th>User_Score</th>\n",
       "    </tr>\n",
       "  </thead>\n",
       "  <tbody>\n",
       "    <tr>\n",
       "      <th>0</th>\n",
       "      <td>0</td>\n",
       "      <td>1000001</td>\n",
       "      <td>0</td>\n",
       "      <td>0</td>\n",
       "      <td>10</td>\n",
       "      <td>0</td>\n",
       "      <td>2</td>\n",
       "      <td>0</td>\n",
       "      <td>3</td>\n",
       "      <td>0</td>\n",
       "      <td>0</td>\n",
       "      <td>1</td>\n",
       "      <td>0.120745</td>\n",
       "      <td>0.034113</td>\n",
       "    </tr>\n",
       "    <tr>\n",
       "      <th>1</th>\n",
       "      <td>1</td>\n",
       "      <td>1000001</td>\n",
       "      <td>0</td>\n",
       "      <td>0</td>\n",
       "      <td>10</td>\n",
       "      <td>0</td>\n",
       "      <td>2</td>\n",
       "      <td>0</td>\n",
       "      <td>1</td>\n",
       "      <td>6</td>\n",
       "      <td>14</td>\n",
       "      <td>3</td>\n",
       "      <td>0.309043</td>\n",
       "      <td>0.034113</td>\n",
       "    </tr>\n",
       "    <tr>\n",
       "      <th>2</th>\n",
       "      <td>2</td>\n",
       "      <td>1000001</td>\n",
       "      <td>0</td>\n",
       "      <td>0</td>\n",
       "      <td>10</td>\n",
       "      <td>0</td>\n",
       "      <td>2</td>\n",
       "      <td>0</td>\n",
       "      <td>12</td>\n",
       "      <td>0</td>\n",
       "      <td>0</td>\n",
       "      <td>1</td>\n",
       "      <td>0.054255</td>\n",
       "      <td>0.034113</td>\n",
       "    </tr>\n",
       "    <tr>\n",
       "      <th>3</th>\n",
       "      <td>3</td>\n",
       "      <td>1000001</td>\n",
       "      <td>0</td>\n",
       "      <td>0</td>\n",
       "      <td>10</td>\n",
       "      <td>0</td>\n",
       "      <td>2</td>\n",
       "      <td>0</td>\n",
       "      <td>12</td>\n",
       "      <td>14</td>\n",
       "      <td>0</td>\n",
       "      <td>2</td>\n",
       "      <td>0.181383</td>\n",
       "      <td>0.034113</td>\n",
       "    </tr>\n",
       "    <tr>\n",
       "      <th>4</th>\n",
       "      <td>4</td>\n",
       "      <td>1000002</td>\n",
       "      <td>1</td>\n",
       "      <td>6</td>\n",
       "      <td>16</td>\n",
       "      <td>2</td>\n",
       "      <td>4</td>\n",
       "      <td>0</td>\n",
       "      <td>8</td>\n",
       "      <td>0</td>\n",
       "      <td>0</td>\n",
       "      <td>1</td>\n",
       "      <td>0.107979</td>\n",
       "      <td>0.075049</td>\n",
       "    </tr>\n",
       "  </tbody>\n",
       "</table>\n",
       "</div>"
      ],
      "text/plain": [
       "   Unnamed: 0  User_ID  Gender  Age  Occupation  City_Category  \\\n",
       "0           0  1000001       0    0          10              0   \n",
       "1           1  1000001       0    0          10              0   \n",
       "2           2  1000001       0    0          10              0   \n",
       "3           3  1000001       0    0          10              0   \n",
       "4           4  1000002       1    6          16              2   \n",
       "\n",
       "   Stay_In_Current_City_Years  Marital_Status  Product_Category_1  \\\n",
       "0                           2               0                   3   \n",
       "1                           2               0                   1   \n",
       "2                           2               0                  12   \n",
       "3                           2               0                  12   \n",
       "4                           4               0                   8   \n",
       "\n",
       "   Product_Category_2  Product_Category_3  Category_Count  Product_Score  \\\n",
       "0                   0                   0               1       0.120745   \n",
       "1                   6                  14               3       0.309043   \n",
       "2                   0                   0               1       0.054255   \n",
       "3                  14                   0               2       0.181383   \n",
       "4                   0                   0               1       0.107979   \n",
       "\n",
       "   User_Score  \n",
       "0    0.034113  \n",
       "1    0.034113  \n",
       "2    0.034113  \n",
       "3    0.034113  \n",
       "4    0.075049  "
      ]
     },
     "execution_count": 11,
     "metadata": {},
     "output_type": "execute_result"
    }
   ],
   "source": [
    "X.head()"
   ]
  },
  {
   "cell_type": "code",
   "execution_count": null,
   "metadata": {
    "collapsed": true
   },
   "outputs": [],
   "source": [
    "X.shape"
   ]
  },
  {
   "cell_type": "code",
   "execution_count": 12,
   "metadata": {
    "scrolled": true
   },
   "outputs": [
    {
     "data": {
      "text/plain": [
       "0     8370\n",
       "1    15200\n",
       "2     1422\n",
       "3     1057\n",
       "4     7969\n",
       "Name: Purchase, dtype: int64"
      ]
     },
     "execution_count": 12,
     "metadata": {},
     "output_type": "execute_result"
    }
   ],
   "source": [
    "y.head()"
   ]
  },
  {
   "cell_type": "markdown",
   "metadata": {},
   "source": [
    "### Testing on Model on Actual Data"
   ]
  },
  {
   "cell_type": "code",
   "execution_count": 34,
   "metadata": {
    "collapsed": true
   },
   "outputs": [],
   "source": [
    "BlackFridayTest = pd.read_csv('test.csv')"
   ]
  },
  {
   "cell_type": "code",
   "execution_count": 35,
   "metadata": {},
   "outputs": [
    {
     "data": {
      "text/html": [
       "<div>\n",
       "<style>\n",
       "    .dataframe thead tr:only-child th {\n",
       "        text-align: right;\n",
       "    }\n",
       "\n",
       "    .dataframe thead th {\n",
       "        text-align: left;\n",
       "    }\n",
       "\n",
       "    .dataframe tbody tr th {\n",
       "        vertical-align: top;\n",
       "    }\n",
       "</style>\n",
       "<table border=\"1\" class=\"dataframe\">\n",
       "  <thead>\n",
       "    <tr style=\"text-align: right;\">\n",
       "      <th></th>\n",
       "      <th>User_ID</th>\n",
       "      <th>Product_ID</th>\n",
       "      <th>Gender</th>\n",
       "      <th>Age</th>\n",
       "      <th>Occupation</th>\n",
       "      <th>City_Category</th>\n",
       "      <th>Stay_In_Current_City_Years</th>\n",
       "      <th>Marital_Status</th>\n",
       "      <th>Product_Category_1</th>\n",
       "      <th>Product_Category_2</th>\n",
       "      <th>Product_Category_3</th>\n",
       "    </tr>\n",
       "  </thead>\n",
       "  <tbody>\n",
       "    <tr>\n",
       "      <th>0</th>\n",
       "      <td>1000004</td>\n",
       "      <td>P00128942</td>\n",
       "      <td>M</td>\n",
       "      <td>46-50</td>\n",
       "      <td>7</td>\n",
       "      <td>B</td>\n",
       "      <td>2</td>\n",
       "      <td>1</td>\n",
       "      <td>1</td>\n",
       "      <td>11.0</td>\n",
       "      <td>NaN</td>\n",
       "    </tr>\n",
       "    <tr>\n",
       "      <th>1</th>\n",
       "      <td>1000009</td>\n",
       "      <td>P00113442</td>\n",
       "      <td>M</td>\n",
       "      <td>26-35</td>\n",
       "      <td>17</td>\n",
       "      <td>C</td>\n",
       "      <td>0</td>\n",
       "      <td>0</td>\n",
       "      <td>3</td>\n",
       "      <td>5.0</td>\n",
       "      <td>NaN</td>\n",
       "    </tr>\n",
       "    <tr>\n",
       "      <th>2</th>\n",
       "      <td>1000010</td>\n",
       "      <td>P00288442</td>\n",
       "      <td>F</td>\n",
       "      <td>36-45</td>\n",
       "      <td>1</td>\n",
       "      <td>B</td>\n",
       "      <td>4+</td>\n",
       "      <td>1</td>\n",
       "      <td>5</td>\n",
       "      <td>14.0</td>\n",
       "      <td>NaN</td>\n",
       "    </tr>\n",
       "    <tr>\n",
       "      <th>3</th>\n",
       "      <td>1000010</td>\n",
       "      <td>P00145342</td>\n",
       "      <td>F</td>\n",
       "      <td>36-45</td>\n",
       "      <td>1</td>\n",
       "      <td>B</td>\n",
       "      <td>4+</td>\n",
       "      <td>1</td>\n",
       "      <td>4</td>\n",
       "      <td>9.0</td>\n",
       "      <td>NaN</td>\n",
       "    </tr>\n",
       "    <tr>\n",
       "      <th>4</th>\n",
       "      <td>1000011</td>\n",
       "      <td>P00053842</td>\n",
       "      <td>F</td>\n",
       "      <td>26-35</td>\n",
       "      <td>1</td>\n",
       "      <td>C</td>\n",
       "      <td>1</td>\n",
       "      <td>0</td>\n",
       "      <td>4</td>\n",
       "      <td>5.0</td>\n",
       "      <td>12.0</td>\n",
       "    </tr>\n",
       "  </tbody>\n",
       "</table>\n",
       "</div>"
      ],
      "text/plain": [
       "   User_ID Product_ID Gender    Age  Occupation City_Category  \\\n",
       "0  1000004  P00128942      M  46-50           7             B   \n",
       "1  1000009  P00113442      M  26-35          17             C   \n",
       "2  1000010  P00288442      F  36-45           1             B   \n",
       "3  1000010  P00145342      F  36-45           1             B   \n",
       "4  1000011  P00053842      F  26-35           1             C   \n",
       "\n",
       "  Stay_In_Current_City_Years  Marital_Status  Product_Category_1  \\\n",
       "0                          2               1                   1   \n",
       "1                          0               0                   3   \n",
       "2                         4+               1                   5   \n",
       "3                         4+               1                   4   \n",
       "4                          1               0                   4   \n",
       "\n",
       "   Product_Category_2  Product_Category_3  \n",
       "0                11.0                 NaN  \n",
       "1                 5.0                 NaN  \n",
       "2                14.0                 NaN  \n",
       "3                 9.0                 NaN  \n",
       "4                 5.0                12.0  "
      ]
     },
     "execution_count": 35,
     "metadata": {},
     "output_type": "execute_result"
    }
   ],
   "source": [
    "BlackFridayTest.head()"
   ]
  },
  {
   "cell_type": "code",
   "execution_count": 36,
   "metadata": {
    "collapsed": true
   },
   "outputs": [],
   "source": [
    "BlackFridayTest['Product_Category_2'].fillna(0, inplace=True)\n",
    "BlackFridayTest['Product_Category_3'].fillna(0, inplace=True)\n",
    "\n",
    "BlackFridayTest['Product_Category_2'] = BlackFridayTest['Product_Category_2'].astype(int)\n",
    "BlackFridayTest['Product_Category_3'] = BlackFridayTest['Product_Category_3'].astype(int)"
   ]
  },
  {
   "cell_type": "code",
   "execution_count": 37,
   "metadata": {
    "collapsed": true
   },
   "outputs": [],
   "source": [
    "# BlackFridayTest['Marital_Status'] = BlackFridayTest['Marital_Status'].map({0: 'unmarried', 1: 'married'})"
   ]
  },
  {
   "cell_type": "code",
   "execution_count": 38,
   "metadata": {
    "collapsed": true
   },
   "outputs": [],
   "source": [
    "# dummy = pd.get_dummies(BlackFridayTest['Gender'])\n",
    "# dummy1 = pd.get_dummies(BlackFridayTest['City_Category'])\n",
    "# dummy2 = pd.get_dummies(BlackFridayTest['Marital_Status'])\n",
    "# dummy3 = pd.get_dummies(BlackFridayTest['Occupation'])"
   ]
  },
  {
   "cell_type": "code",
   "execution_count": 39,
   "metadata": {
    "collapsed": true
   },
   "outputs": [],
   "source": [
    "# BlackFridayTest = pd.concat([BlackFridayTest, dummy, dummy1, dummy2, dummy3], axis = 1)"
   ]
  },
  {
   "cell_type": "code",
   "execution_count": 40,
   "metadata": {
    "collapsed": true
   },
   "outputs": [],
   "source": [
    "# BlackFridayTest['Marital_Status'] = BlackFridayTest['Marital_Status'].map({'unmarried': 0, 'married': 1})"
   ]
  },
  {
   "cell_type": "code",
   "execution_count": 41,
   "metadata": {
    "collapsed": true
   },
   "outputs": [],
   "source": [
    "BlackFridayTestNew = BlackFridayTest.copy(deep=True)\n",
    "\n",
    "BlackFridayTestNew.loc[BlackFridayTestNew['Gender'] == 'F', 'Gender'] = 0\n",
    "BlackFridayTestNew.loc[BlackFridayTestNew['Gender'] == 'M', 'Gender'] = 1\n",
    "\n",
    "BlackFridayTestNew.loc[BlackFridayTestNew['Age'] == '0-17', 'Age'] = 0\n",
    "BlackFridayTestNew.loc[BlackFridayTestNew['Age'] == '18-25', 'Age'] = 1\n",
    "BlackFridayTestNew.loc[BlackFridayTestNew['Age'] == '26-35', 'Age'] = 2\n",
    "BlackFridayTestNew.loc[BlackFridayTestNew['Age'] == '36-45', 'Age'] = 3\n",
    "BlackFridayTestNew.loc[BlackFridayTestNew['Age'] == '46-50', 'Age'] = 4\n",
    "BlackFridayTestNew.loc[BlackFridayTestNew['Age'] == '51-55', 'Age'] = 5\n",
    "BlackFridayTestNew.loc[BlackFridayTestNew['Age'] == '55+', 'Age'] = 6\n",
    "\n",
    "BlackFridayTestNew.loc[BlackFridayTestNew['Stay_In_Current_City_Years'] == '4+', 'Stay_In_Current_City_Years'] = 4\n",
    "\n",
    "BlackFridayTestNew.loc[BlackFridayTestNew['City_Category'] == 'A', 'City_Category'] = 0\n",
    "BlackFridayTestNew.loc[BlackFridayTestNew['City_Category'] == 'B', 'City_Category'] = 1\n",
    "BlackFridayTestNew.loc[BlackFridayTestNew['City_Category'] == 'C', 'City_Category'] = 2\n",
    "\n",
    "BlackFridayTestNew['Gender'] = BlackFridayTestNew['Gender'].astype(int)\n",
    "BlackFridayTestNew['Age'] = BlackFridayTestNew['Age'].astype(int)\n",
    "BlackFridayTestNew['City_Category'] = BlackFridayTestNew['City_Category'].astype(int)\n",
    "BlackFridayTestNew['Stay_In_Current_City_Years'] = BlackFridayTestNew['Stay_In_Current_City_Years'].astype(int)\n",
    "\n",
    "conditions = [\n",
    "    (BlackFridayTestNew['Product_Category_1'] != 0) & (BlackFridayTestNew['Product_Category_2'] == 0) & (BlackFridayTestNew['Product_Category_3'] == 0),\n",
    "    (BlackFridayTestNew['Product_Category_1'] != 0) & (BlackFridayTestNew['Product_Category_2'] != 0) & (BlackFridayTestNew['Product_Category_3'] == 0),\n",
    "    (BlackFridayTestNew['Product_Category_1'] != 0) & (BlackFridayTestNew['Product_Category_2'] != 0) & (BlackFridayTestNew['Product_Category_3'] != 0)]\n",
    "choices = [1, 2, 3]\n",
    "BlackFridayTestNew['Category_Count'] = np.select(conditions, choices, default=0)"
   ]
  },
  {
   "cell_type": "code",
   "execution_count": 42,
   "metadata": {},
   "outputs": [
    {
     "data": {
      "text/html": [
       "<div>\n",
       "<style>\n",
       "    .dataframe thead tr:only-child th {\n",
       "        text-align: right;\n",
       "    }\n",
       "\n",
       "    .dataframe thead th {\n",
       "        text-align: left;\n",
       "    }\n",
       "\n",
       "    .dataframe tbody tr th {\n",
       "        vertical-align: top;\n",
       "    }\n",
       "</style>\n",
       "<table border=\"1\" class=\"dataframe\">\n",
       "  <thead>\n",
       "    <tr style=\"text-align: right;\">\n",
       "      <th></th>\n",
       "      <th>Product_ID</th>\n",
       "      <th>Product_Score</th>\n",
       "      <th>Frequency</th>\n",
       "    </tr>\n",
       "  </thead>\n",
       "  <tbody>\n",
       "    <tr>\n",
       "      <th>0</th>\n",
       "      <td>P00000142</td>\n",
       "      <td>0.0</td>\n",
       "      <td>484</td>\n",
       "    </tr>\n",
       "    <tr>\n",
       "      <th>1</th>\n",
       "      <td>P00000242</td>\n",
       "      <td>0.0</td>\n",
       "      <td>170</td>\n",
       "    </tr>\n",
       "    <tr>\n",
       "      <th>2</th>\n",
       "      <td>P00000342</td>\n",
       "      <td>0.0</td>\n",
       "      <td>105</td>\n",
       "    </tr>\n",
       "    <tr>\n",
       "      <th>3</th>\n",
       "      <td>P00000442</td>\n",
       "      <td>0.0</td>\n",
       "      <td>34</td>\n",
       "    </tr>\n",
       "    <tr>\n",
       "      <th>4</th>\n",
       "      <td>P00000542</td>\n",
       "      <td>0.0</td>\n",
       "      <td>80</td>\n",
       "    </tr>\n",
       "  </tbody>\n",
       "</table>\n",
       "</div>"
      ],
      "text/plain": [
       "  Product_ID  Product_Score  Frequency\n",
       "0  P00000142            0.0        484\n",
       "1  P00000242            0.0        170\n",
       "2  P00000342            0.0        105\n",
       "3  P00000442            0.0         34\n",
       "4  P00000542            0.0         80"
      ]
     },
     "execution_count": 42,
     "metadata": {},
     "output_type": "execute_result"
    }
   ],
   "source": [
    "BlackFridayTestNew['Product_Score'] = 0.0\n",
    "required_product_data = BlackFridayTestNew[['Product_ID', 'Product_Score']]\n",
    "\n",
    "required_product_data['Frequency'] = 1\n",
    "\n",
    "grouped_product_data = required_product_data.groupby(['Product_ID']).sum()\n",
    "grouped_product_data = grouped_product_data.reset_index()\n",
    "\n",
    "grouped_product_data.head()"
   ]
  },
  {
   "cell_type": "code",
   "execution_count": 43,
   "metadata": {
    "collapsed": true
   },
   "outputs": [],
   "source": [
    "max_frequency = grouped_product_data['Frequency'].max()\n",
    "\n",
    "final_product_data = grouped_product_data[['Product_ID', 'Product_Score', 'Frequency']]\n",
    "\n",
    "for index, row in final_product_data.iterrows():\n",
    "    product_score = (float(row['Frequency']) / float(max_frequency))\n",
    "    final_product_data.set_value(index, 'Product_Score', product_score)"
   ]
  },
  {
   "cell_type": "code",
   "execution_count": 44,
   "metadata": {
    "collapsed": true
   },
   "outputs": [],
   "source": [
    "for index, row in BlackFridayTestNew.iterrows():\n",
    "    p_score = final_product_data.loc[final_product_data.Product_ID == row['Product_ID'], 'Product_Score'].values[0]\n",
    "    BlackFridayTestNew.set_value(index, 'Product_Score', p_score)"
   ]
  },
  {
   "cell_type": "code",
   "execution_count": 45,
   "metadata": {},
   "outputs": [
    {
     "data": {
      "text/html": [
       "<div>\n",
       "<style>\n",
       "    .dataframe thead tr:only-child th {\n",
       "        text-align: right;\n",
       "    }\n",
       "\n",
       "    .dataframe thead th {\n",
       "        text-align: left;\n",
       "    }\n",
       "\n",
       "    .dataframe tbody tr th {\n",
       "        vertical-align: top;\n",
       "    }\n",
       "</style>\n",
       "<table border=\"1\" class=\"dataframe\">\n",
       "  <thead>\n",
       "    <tr style=\"text-align: right;\">\n",
       "      <th></th>\n",
       "      <th>User_ID</th>\n",
       "      <th>User_Score</th>\n",
       "      <th>Frequency</th>\n",
       "    </tr>\n",
       "  </thead>\n",
       "  <tbody>\n",
       "    <tr>\n",
       "      <th>0</th>\n",
       "      <td>1000001</td>\n",
       "      <td>0.0</td>\n",
       "      <td>12</td>\n",
       "    </tr>\n",
       "    <tr>\n",
       "      <th>1</th>\n",
       "      <td>1000002</td>\n",
       "      <td>0.0</td>\n",
       "      <td>30</td>\n",
       "    </tr>\n",
       "    <tr>\n",
       "      <th>2</th>\n",
       "      <td>1000003</td>\n",
       "      <td>0.0</td>\n",
       "      <td>12</td>\n",
       "    </tr>\n",
       "    <tr>\n",
       "      <th>3</th>\n",
       "      <td>1000004</td>\n",
       "      <td>0.0</td>\n",
       "      <td>1</td>\n",
       "    </tr>\n",
       "    <tr>\n",
       "      <th>4</th>\n",
       "      <td>1000005</td>\n",
       "      <td>0.0</td>\n",
       "      <td>45</td>\n",
       "    </tr>\n",
       "  </tbody>\n",
       "</table>\n",
       "</div>"
      ],
      "text/plain": [
       "   User_ID  User_Score  Frequency\n",
       "0  1000001         0.0         12\n",
       "1  1000002         0.0         30\n",
       "2  1000003         0.0         12\n",
       "3  1000004         0.0          1\n",
       "4  1000005         0.0         45"
      ]
     },
     "execution_count": 45,
     "metadata": {},
     "output_type": "execute_result"
    }
   ],
   "source": [
    "BlackFridayTestNew['User_Score'] = 0.0\n",
    "required_user_data = BlackFridayTestNew[['User_ID', 'User_Score']]\n",
    "\n",
    "required_user_data['Frequency'] = 1\n",
    "\n",
    "grouped_user_data = required_user_data.groupby(['User_ID']).sum()\n",
    "grouped_user_data = grouped_user_data.reset_index()\n",
    "\n",
    "grouped_user_data.head()"
   ]
  },
  {
   "cell_type": "code",
   "execution_count": 46,
   "metadata": {
    "collapsed": true
   },
   "outputs": [],
   "source": [
    "max_frequency = grouped_user_data['Frequency'].max()\n",
    "\n",
    "final_user_data = grouped_user_data[['User_ID', 'User_Score', 'Frequency']]\n",
    "\n",
    "for index, row in final_user_data.iterrows():\n",
    "    product_score = (float(row['Frequency']) / float(max_frequency))\n",
    "    final_user_data.set_value(index, 'User_Score', product_score)"
   ]
  },
  {
   "cell_type": "code",
   "execution_count": 47,
   "metadata": {
    "collapsed": true
   },
   "outputs": [],
   "source": [
    "for index, row in BlackFridayTestNew.iterrows():\n",
    "    p_score = final_user_data.loc[final_user_data.User_ID == row['User_ID'], 'User_Score'].values[0]\n",
    "    BlackFridayTestNew.set_value(index, 'User_Score', p_score)"
   ]
  },
  {
   "cell_type": "code",
   "execution_count": 48,
   "metadata": {
    "scrolled": true
   },
   "outputs": [
    {
     "data": {
      "text/html": [
       "<div>\n",
       "<style>\n",
       "    .dataframe thead tr:only-child th {\n",
       "        text-align: right;\n",
       "    }\n",
       "\n",
       "    .dataframe thead th {\n",
       "        text-align: left;\n",
       "    }\n",
       "\n",
       "    .dataframe tbody tr th {\n",
       "        vertical-align: top;\n",
       "    }\n",
       "</style>\n",
       "<table border=\"1\" class=\"dataframe\">\n",
       "  <thead>\n",
       "    <tr style=\"text-align: right;\">\n",
       "      <th></th>\n",
       "      <th>User_ID</th>\n",
       "      <th>Product_ID</th>\n",
       "      <th>Gender</th>\n",
       "      <th>Age</th>\n",
       "      <th>Occupation</th>\n",
       "      <th>City_Category</th>\n",
       "      <th>Stay_In_Current_City_Years</th>\n",
       "      <th>Marital_Status</th>\n",
       "      <th>Product_Category_1</th>\n",
       "      <th>Product_Category_2</th>\n",
       "      <th>Product_Category_3</th>\n",
       "      <th>Category_Count</th>\n",
       "      <th>Product_Score</th>\n",
       "      <th>User_Score</th>\n",
       "    </tr>\n",
       "  </thead>\n",
       "  <tbody>\n",
       "    <tr>\n",
       "      <th>0</th>\n",
       "      <td>1000004</td>\n",
       "      <td>P00128942</td>\n",
       "      <td>1</td>\n",
       "      <td>4</td>\n",
       "      <td>7</td>\n",
       "      <td>1</td>\n",
       "      <td>2</td>\n",
       "      <td>1</td>\n",
       "      <td>1</td>\n",
       "      <td>11</td>\n",
       "      <td>0</td>\n",
       "      <td>2</td>\n",
       "      <td>0.478890</td>\n",
       "      <td>0.002262</td>\n",
       "    </tr>\n",
       "    <tr>\n",
       "      <th>1</th>\n",
       "      <td>1000009</td>\n",
       "      <td>P00113442</td>\n",
       "      <td>1</td>\n",
       "      <td>2</td>\n",
       "      <td>17</td>\n",
       "      <td>2</td>\n",
       "      <td>0</td>\n",
       "      <td>0</td>\n",
       "      <td>3</td>\n",
       "      <td>5</td>\n",
       "      <td>0</td>\n",
       "      <td>2</td>\n",
       "      <td>0.141134</td>\n",
       "      <td>0.061086</td>\n",
       "    </tr>\n",
       "    <tr>\n",
       "      <th>2</th>\n",
       "      <td>1000010</td>\n",
       "      <td>P00288442</td>\n",
       "      <td>0</td>\n",
       "      <td>3</td>\n",
       "      <td>1</td>\n",
       "      <td>1</td>\n",
       "      <td>4</td>\n",
       "      <td>1</td>\n",
       "      <td>5</td>\n",
       "      <td>14</td>\n",
       "      <td>0</td>\n",
       "      <td>2</td>\n",
       "      <td>0.090470</td>\n",
       "      <td>0.228507</td>\n",
       "    </tr>\n",
       "    <tr>\n",
       "      <th>3</th>\n",
       "      <td>1000010</td>\n",
       "      <td>P00145342</td>\n",
       "      <td>0</td>\n",
       "      <td>3</td>\n",
       "      <td>1</td>\n",
       "      <td>1</td>\n",
       "      <td>4</td>\n",
       "      <td>1</td>\n",
       "      <td>4</td>\n",
       "      <td>9</td>\n",
       "      <td>0</td>\n",
       "      <td>2</td>\n",
       "      <td>0.009650</td>\n",
       "      <td>0.228507</td>\n",
       "    </tr>\n",
       "    <tr>\n",
       "      <th>4</th>\n",
       "      <td>1000011</td>\n",
       "      <td>P00053842</td>\n",
       "      <td>0</td>\n",
       "      <td>2</td>\n",
       "      <td>1</td>\n",
       "      <td>2</td>\n",
       "      <td>1</td>\n",
       "      <td>0</td>\n",
       "      <td>4</td>\n",
       "      <td>5</td>\n",
       "      <td>12</td>\n",
       "      <td>3</td>\n",
       "      <td>0.258142</td>\n",
       "      <td>0.090498</td>\n",
       "    </tr>\n",
       "  </tbody>\n",
       "</table>\n",
       "</div>"
      ],
      "text/plain": [
       "   User_ID Product_ID  Gender  Age  Occupation  City_Category  \\\n",
       "0  1000004  P00128942       1    4           7              1   \n",
       "1  1000009  P00113442       1    2          17              2   \n",
       "2  1000010  P00288442       0    3           1              1   \n",
       "3  1000010  P00145342       0    3           1              1   \n",
       "4  1000011  P00053842       0    2           1              2   \n",
       "\n",
       "   Stay_In_Current_City_Years  Marital_Status  Product_Category_1  \\\n",
       "0                           2               1                   1   \n",
       "1                           0               0                   3   \n",
       "2                           4               1                   5   \n",
       "3                           4               1                   4   \n",
       "4                           1               0                   4   \n",
       "\n",
       "   Product_Category_2  Product_Category_3  Category_Count  Product_Score  \\\n",
       "0                  11                   0               2       0.478890   \n",
       "1                   5                   0               2       0.141134   \n",
       "2                  14                   0               2       0.090470   \n",
       "3                   9                   0               2       0.009650   \n",
       "4                   5                  12               3       0.258142   \n",
       "\n",
       "   User_Score  \n",
       "0    0.002262  \n",
       "1    0.061086  \n",
       "2    0.228507  \n",
       "3    0.228507  \n",
       "4    0.090498  "
      ]
     },
     "execution_count": 48,
     "metadata": {},
     "output_type": "execute_result"
    }
   ],
   "source": [
    "BlackFridayTestNew.head()"
   ]
  },
  {
   "cell_type": "code",
   "execution_count": 14,
   "metadata": {},
   "outputs": [
    {
     "ename": "NameError",
     "evalue": "name 'BlackFridayTestNew' is not defined",
     "output_type": "error",
     "traceback": [
      "\u001b[1;31m---------------------------------------------------------------------------\u001b[0m",
      "\u001b[1;31mNameError\u001b[0m                                 Traceback (most recent call last)",
      "\u001b[1;32m<ipython-input-14-75d9e60665c3>\u001b[0m in \u001b[0;36m<module>\u001b[1;34m()\u001b[0m\n\u001b[1;32m----> 1\u001b[1;33m \u001b[0mBlackFridayTestNew\u001b[0m\u001b[1;33m.\u001b[0m\u001b[0mto_csv\u001b[0m\u001b[1;33m(\u001b[0m\u001b[1;34m'BlackFridayTestNew.csv'\u001b[0m\u001b[1;33m)\u001b[0m\u001b[1;33m\u001b[0m\u001b[0m\n\u001b[0m",
      "\u001b[1;31mNameError\u001b[0m: name 'BlackFridayTestNew' is not defined"
     ]
    }
   ],
   "source": [
    "BlackFridayTestNew.to_csv('BlackFridayTestNew.csv')"
   ]
  },
  {
   "cell_type": "code",
   "execution_count": 15,
   "metadata": {
    "collapsed": true
   },
   "outputs": [],
   "source": [
    "BlackFridayTestNew = pd.read_csv('BlackFridayTestNew.csv')"
   ]
  },
  {
   "cell_type": "code",
   "execution_count": 16,
   "metadata": {
    "collapsed": true
   },
   "outputs": [],
   "source": [
    "x_test = BlackFridayTestNew.drop(['Product_ID'], axis=1)"
   ]
  },
  {
   "cell_type": "markdown",
   "metadata": {},
   "source": [
    "### Ridge"
   ]
  },
  {
   "cell_type": "code",
   "execution_count": 98,
   "metadata": {
    "collapsed": true
   },
   "outputs": [],
   "source": [
    "from sklearn.linear_model import Lasso\n",
    "\n",
    "## training the model\n",
    "lassoReg = Lasso(alpha=0.3, normalize=True)\n",
    "lassoReg.fit(X,y)\n",
    "predictions = lassoReg.predict(x_test)\n",
    "\n",
    "finalsolution = BlackFridayTestNew[['User_ID','Product_ID']]\n",
    "finalsolution['Purchase'] = predictions\n",
    "\n",
    "finalsolution.to_csv('finalsolution_Lasso.csv')"
   ]
  },
  {
   "cell_type": "markdown",
   "metadata": {},
   "source": [
    "### Lasso"
   ]
  },
  {
   "cell_type": "code",
   "execution_count": 97,
   "metadata": {
    "collapsed": true
   },
   "outputs": [],
   "source": [
    "from sklearn.linear_model import Ridge\n",
    "\n",
    "x_test = BlackFridayTestNew.drop(['Product_ID'], axis=1)\n",
    "\n",
    "## training the model\n",
    "ridgeReg = Ridge(alpha=0.05, normalize=True)\n",
    "ridgeReg.fit(X,y)\n",
    "predictions = ridgeReg.predict(x_test)\n",
    "\n",
    "finalsolution = BlackFridayTestNew[['User_ID','Product_ID']]\n",
    "finalsolution['Purchase'] = predictions\n",
    "\n",
    "finalsolution.to_csv('finalsolution_Ridge.csv')"
   ]
  },
  {
   "cell_type": "markdown",
   "metadata": {},
   "source": [
    "### ElasticNet"
   ]
  },
  {
   "cell_type": "code",
   "execution_count": 100,
   "metadata": {
    "collapsed": true
   },
   "outputs": [],
   "source": [
    "from sklearn.linear_model import ElasticNet\n",
    "\n",
    "## training the model\n",
    "ENreg = ElasticNet(alpha=1, l1_ratio=0.5, normalize=False)\n",
    "ENreg.fit(X,y)\n",
    "predictions = ENreg.predict(x_test)\n",
    "\n",
    "finalsolution = BlackFridayTestNew[['User_ID','Product_ID']]\n",
    "finalsolution['Purchase'] = predictions\n",
    "\n",
    "finalsolution.to_csv('finalsolution_ElasticNet.csv')"
   ]
  },
  {
   "cell_type": "code",
   "execution_count": 62,
   "metadata": {
    "collapsed": true
   },
   "outputs": [],
   "source": [
    "# X_train, X_test, y_train, y_test = train_test_split(X, y, test_size=0.2)\n",
    "from sklearn.linear_model import LassoCV\n",
    "from sklearn.linear_model import Lasso\n",
    "from sklearn.model_selection import KFold\n",
    "from sklearn.model_selection import GridSearchCV"
   ]
  },
  {
   "cell_type": "code",
   "execution_count": 67,
   "metadata": {
    "collapsed": true
   },
   "outputs": [],
   "source": [
    "X = BlackFridayTrainNew.drop(['Purchase','Product_ID'], axis=1)\n",
    "y = BlackFridayTrainNew['Purchase']"
   ]
  },
  {
   "cell_type": "code",
   "execution_count": 68,
   "metadata": {
    "collapsed": true
   },
   "outputs": [],
   "source": [
    "lasso = Lasso(random_state=0)\n",
    "alphas = np.logspace(-4, -0.5, 30)\n",
    "tuned_parameters = [{'alpha': alphas}]\n",
    "n_folds = 5"
   ]
  },
  {
   "cell_type": "code",
   "execution_count": 69,
   "metadata": {
    "scrolled": true
   },
   "outputs": [
    {
     "data": {
      "text/plain": [
       "[<matplotlib.lines.Line2D at 0x1eb801fe320>]"
      ]
     },
     "execution_count": 69,
     "metadata": {},
     "output_type": "execute_result"
    },
    {
     "data": {
      "image/png": "[encoded data removed]",
      "text/plain": [
       "<matplotlib.figure.Figure at 0x1eb801c8860>"
      ]
     },
     "metadata": {},
     "output_type": "display_data"
    }
   ],
   "source": [
    "clf = GridSearchCV(lasso, tuned_parameters, cv=n_folds, refit=False)\n",
    "clf.fit(X, y)\n",
    "scores = clf.cv_results_['mean_test_score']\n",
    "scores_std = clf.cv_results_['std_test_score']\n",
    "plt.figure().set_size_inches(8, 6)\n",
    "plt.semilogx(alphas, scores)"
   ]
  },
  {
   "cell_type": "code",
   "execution_count": 72,
   "metadata": {
    "scrolled": true
   },
   "outputs": [
    {
     "data": {
      "text/plain": [
       "(0.0001, 0.31622776601683794)"
      ]
     },
     "execution_count": 72,
     "metadata": {},
     "output_type": "execute_result"
    },
    {
     "data": {
      "image/png": "[encoded data removed]",
      "text/plain": [
       "<matplotlib.figure.Figure at 0x1eb8017cba8>"
      ]
     },
     "metadata": {},
     "output_type": "display_data"
    }
   ],
   "source": [
    "# plot error lines showing +/- std. errors of the scores\n",
    "std_error = scores_std / np.sqrt(n_folds)\n",
    "\n",
    "plt.semilogx(alphas, scores + std_error, 'b--')\n",
    "plt.semilogx(alphas, scores - std_error, 'b--')\n",
    "\n",
    "# alpha=0.2 controls the translucency of the fill color\n",
    "plt.fill_between(alphas, scores + std_error, scores - std_error, alpha=0.2)\n",
    "\n",
    "plt.ylabel('CV score +/- std error')\n",
    "plt.xlabel('alpha')\n",
    "plt.axhline(np.max(scores), linestyle='--', color='.5')\n",
    "plt.xlim([alphas[0], alphas[-1]])"
   ]
  },
  {
   "cell_type": "markdown",
   "metadata": {},
   "source": [
    "## Linear Regression"
   ]
  },
  {
   "cell_type": "code",
   "execution_count": 110,
   "metadata": {
    "collapsed": true
   },
   "outputs": [],
   "source": [
    "from sklearn import linear_model"
   ]
  },
  {
   "cell_type": "code",
   "execution_count": 113,
   "metadata": {
    "collapsed": true
   },
   "outputs": [],
   "source": [
    "regr = linear_model.LinearRegression(normalize=True)"
   ]
  },
  {
   "cell_type": "code",
   "execution_count": 114,
   "metadata": {},
   "outputs": [
    {
     "data": {
      "text/plain": [
       "LinearRegression(copy_X=True, fit_intercept=True, n_jobs=1, normalize=True)"
      ]
     },
     "execution_count": 114,
     "metadata": {},
     "output_type": "execute_result"
    }
   ],
   "source": [
    "regr"
   ]
  },
  {
   "cell_type": "code",
   "execution_count": 115,
   "metadata": {},
   "outputs": [
    {
     "data": {
      "text/plain": [
       "LinearRegression(copy_X=True, fit_intercept=True, n_jobs=1, normalize=True)"
      ]
     },
     "execution_count": 115,
     "metadata": {},
     "output_type": "execute_result"
    }
   ],
   "source": [
    "regr.fit(X, y)"
   ]
  },
  {
   "cell_type": "code",
   "execution_count": 116,
   "metadata": {
    "collapsed": true
   },
   "outputs": [],
   "source": [
    "BlackFridayTest = pd.read_csv('test.csv')"
   ]
  },
  {
   "cell_type": "code",
   "execution_count": 117,
   "metadata": {
    "collapsed": true
   },
   "outputs": [],
   "source": [
    "x_test = BlackFridayTestNew.drop(['Product_ID'], axis=1)"
   ]
  },
  {
   "cell_type": "code",
   "execution_count": 118,
   "metadata": {
    "collapsed": true
   },
   "outputs": [],
   "source": [
    "y_pred = regr.predict(x_test)"
   ]
  },
  {
   "cell_type": "code",
   "execution_count": 119,
   "metadata": {},
   "outputs": [
    {
     "name": "stdout",
     "output_type": "stream",
     "text": [
      "[11941.67597777  9526.76006103  7768.61145259 ... 10290.34879199\n",
      "  6755.94473756  9251.68923478]\n"
     ]
    }
   ],
   "source": [
    "print(y_pred)"
   ]
  },
  {
   "cell_type": "code",
   "execution_count": 120,
   "metadata": {
    "collapsed": true
   },
   "outputs": [],
   "source": [
    "finalsolution = BlackFridayTestNew[['User_ID','Product_ID']]\n",
    "finalsolution['Purchase'] = y_pred"
   ]
  },
  {
   "cell_type": "code",
   "execution_count": 121,
   "metadata": {},
   "outputs": [
    {
     "name": "stdout",
     "output_type": "stream",
     "text": [
      "Coefficients: \n",
      " [ 1.06417817e-02  4.93597272e+02  1.28775061e+02  4.95602548e+00\n",
      "  6.42577596e+01  1.17810245e+01 -3.28594930e+01 -2.85961809e+02\n",
      " -2.97362471e+01  5.36814156e+01  6.51538822e+02  5.43162919e+03\n",
      " -8.91839891e+02]\n"
     ]
    }
   ],
   "source": [
    "print('Coefficients: \\n', regr.coef_)"
   ]
  },
  {
   "cell_type": "code",
   "execution_count": 122,
   "metadata": {},
   "outputs": [
    {
     "data": {
      "text/html": [
       "<div>\n",
       "<style>\n",
       "    .dataframe thead tr:only-child th {\n",
       "        text-align: right;\n",
       "    }\n",
       "\n",
       "    .dataframe thead th {\n",
       "        text-align: left;\n",
       "    }\n",
       "\n",
       "    .dataframe tbody tr th {\n",
       "        vertical-align: top;\n",
       "    }\n",
       "</style>\n",
       "<table border=\"1\" class=\"dataframe\">\n",
       "  <thead>\n",
       "    <tr style=\"text-align: right;\">\n",
       "      <th></th>\n",
       "      <th>User_ID</th>\n",
       "      <th>Product_ID</th>\n",
       "      <th>Purchase</th>\n",
       "    </tr>\n",
       "  </thead>\n",
       "  <tbody>\n",
       "    <tr>\n",
       "      <th>0</th>\n",
       "      <td>1000004</td>\n",
       "      <td>P00128942</td>\n",
       "      <td>11941.675978</td>\n",
       "    </tr>\n",
       "    <tr>\n",
       "      <th>1</th>\n",
       "      <td>1000009</td>\n",
       "      <td>P00113442</td>\n",
       "      <td>9526.760061</td>\n",
       "    </tr>\n",
       "    <tr>\n",
       "      <th>2</th>\n",
       "      <td>1000010</td>\n",
       "      <td>P00288442</td>\n",
       "      <td>7768.611453</td>\n",
       "    </tr>\n",
       "    <tr>\n",
       "      <th>3</th>\n",
       "      <td>1000010</td>\n",
       "      <td>P00145342</td>\n",
       "      <td>7764.268785</td>\n",
       "    </tr>\n",
       "    <tr>\n",
       "      <th>4</th>\n",
       "      <td>1000011</td>\n",
       "      <td>P00053842</td>\n",
       "      <td>10584.738584</td>\n",
       "    </tr>\n",
       "  </tbody>\n",
       "</table>\n",
       "</div>"
      ],
      "text/plain": [
       "   User_ID Product_ID      Purchase\n",
       "0  1000004  P00128942  11941.675978\n",
       "1  1000009  P00113442   9526.760061\n",
       "2  1000010  P00288442   7768.611453\n",
       "3  1000010  P00145342   7764.268785\n",
       "4  1000011  P00053842  10584.738584"
      ]
     },
     "execution_count": 122,
     "metadata": {},
     "output_type": "execute_result"
    }
   ],
   "source": [
    "finalsolution.head()"
   ]
  },
  {
   "cell_type": "code",
   "execution_count": 123,
   "metadata": {},
   "outputs": [
    {
     "data": {
      "text/plain": [
       "User_ID       233599\n",
       "Product_ID    233599\n",
       "Purchase      233599\n",
       "dtype: int64"
      ]
     },
     "execution_count": 123,
     "metadata": {},
     "output_type": "execute_result"
    }
   ],
   "source": [
    "finalsolution.count()"
   ]
  },
  {
   "cell_type": "code",
   "execution_count": 124,
   "metadata": {
    "collapsed": true
   },
   "outputs": [],
   "source": [
    "finalsolution.to_csv('finalsolution_LinearRegression.csv')"
   ]
  },
  {
   "cell_type": "markdown",
   "metadata": {},
   "source": [
    "### Result - RMSE 4620.something currently\n",
    "### Best Solution on Leaderboards - RMSE 2405.something"
   ]
  },
  {
   "cell_type": "markdown",
   "metadata": {},
   "source": [
    "### ExtraTree Regressor"
   ]
  },
  {
   "cell_type": "code",
   "execution_count": 23,
   "metadata": {},
   "outputs": [],
   "source": [
    "from sklearn.ensemble import ExtraTreesRegressor"
   ]
  },
  {
   "cell_type": "code",
   "execution_count": 24,
   "metadata": {},
   "outputs": [],
   "source": [
    "eTreeReg = ExtraTreesRegressor(n_estimators=6)\n",
    "\n",
    "eTreeReg.fit(X,y)\n",
    "\n",
    "y_pred = eTreeReg.predict(x_test)"
   ]
  },
  {
   "cell_type": "code",
   "execution_count": 25,
   "metadata": {
    "collapsed": true
   },
   "outputs": [],
   "source": [
    "finalsolution = BlackFridayTestNew[['User_ID','Product_ID']]\n",
    "finalsolution['Purchase'] = y_pred"
   ]
  },
  {
   "cell_type": "code",
   "execution_count": 26,
   "metadata": {
    "collapsed": true
   },
   "outputs": [],
   "source": [
    "finalsolution.to_csv('finalsolution_eTreeReg.csv')"
   ]
  },
  {
   "cell_type": "code",
   "execution_count": 27,
   "metadata": {},
   "outputs": [
    {
     "data": {
      "text/plain": [
       "ExtraTreesRegressor(bootstrap=False, criterion='mse', max_depth=None,\n",
       "          max_features='auto', max_leaf_nodes=None,\n",
       "          min_impurity_decrease=0.0, min_impurity_split=None,\n",
       "          min_samples_leaf=1, min_samples_split=2,\n",
       "          min_weight_fraction_leaf=0.0, n_estimators=6, n_jobs=1,\n",
       "          oob_score=False, random_state=None, verbose=0, warm_start=False)"
      ]
     },
     "execution_count": 27,
     "metadata": {},
     "output_type": "execute_result"
    }
   ],
   "source": [
    "eTreeReg"
   ]
  },
  {
   "cell_type": "markdown",
   "metadata": {},
   "source": [
    "## Random Forest"
   ]
  },
  {
   "cell_type": "code",
   "execution_count": 125,
   "metadata": {},
   "outputs": [
    {
     "name": "stderr",
     "output_type": "stream",
     "text": [
      "C:\\ProgramData\\Anaconda3\\lib\\site-packages\\sklearn\\ensemble\\weight_boosting.py:29: DeprecationWarning:\n",
      "\n",
      "numpy.core.umath_tests is an internal NumPy module and should not be imported. It will be removed in a future NumPy release.\n",
      "\n"
     ]
    }
   ],
   "source": [
    "# Import the model we are using\n",
    "from sklearn.ensemble import RandomForestRegressor\n",
    "\n",
    "# Instantiate model with 1000 decision trees\n",
    "rf = RandomForestRegressor()"
   ]
  },
  {
   "cell_type": "code",
   "execution_count": 126,
   "metadata": {},
   "outputs": [
    {
     "data": {
      "text/plain": [
       "RandomForestRegressor(bootstrap=True, criterion='mse', max_depth=None,\n",
       "           max_features='auto', max_leaf_nodes=None,\n",
       "           min_impurity_decrease=0.0, min_impurity_split=None,\n",
       "           min_samples_leaf=1, min_samples_split=2,\n",
       "           min_weight_fraction_leaf=0.0, n_estimators=10, n_jobs=1,\n",
       "           oob_score=False, random_state=None, verbose=0, warm_start=False)"
      ]
     },
     "execution_count": 126,
     "metadata": {},
     "output_type": "execute_result"
    }
   ],
   "source": [
    "# Train the model on training data\n",
    "rf.fit(X,y)"
   ]
  },
  {
   "cell_type": "code",
   "execution_count": 127,
   "metadata": {
    "collapsed": true
   },
   "outputs": [],
   "source": [
    "X_test = BlackFridayTestNew.drop(['Product_ID'], axis=1)"
   ]
  },
  {
   "cell_type": "code",
   "execution_count": 128,
   "metadata": {
    "collapsed": true
   },
   "outputs": [],
   "source": [
    "y_pred = rf.predict(X_test)"
   ]
  },
  {
   "cell_type": "code",
   "execution_count": 129,
   "metadata": {},
   "outputs": [
    {
     "name": "stdout",
     "output_type": "stream",
     "text": [
      "[14699.  10272.1  6668.8 ...  7716.6 15127.3  2122.8]\n"
     ]
    }
   ],
   "source": [
    "print(y_pred)"
   ]
  },
  {
   "cell_type": "code",
   "execution_count": 130,
   "metadata": {},
   "outputs": [
    {
     "data": {
      "text/plain": [
       "(233599,)"
      ]
     },
     "execution_count": 130,
     "metadata": {},
     "output_type": "execute_result"
    }
   ],
   "source": [
    "BlackFridayTestNew['User_ID'].shape"
   ]
  },
  {
   "cell_type": "code",
   "execution_count": 131,
   "metadata": {
    "collapsed": true
   },
   "outputs": [],
   "source": [
    "finalsolution = BlackFridayTestNew[['User_ID','Product_ID']]\n",
    "finalsolution['Purchase'] = y_pred"
   ]
  },
  {
   "cell_type": "code",
   "execution_count": 132,
   "metadata": {
    "scrolled": true
   },
   "outputs": [
    {
     "data": {
      "text/html": [
       "<div>\n",
       "<style>\n",
       "    .dataframe thead tr:only-child th {\n",
       "        text-align: right;\n",
       "    }\n",
       "\n",
       "    .dataframe thead th {\n",
       "        text-align: left;\n",
       "    }\n",
       "\n",
       "    .dataframe tbody tr th {\n",
       "        vertical-align: top;\n",
       "    }\n",
       "</style>\n",
       "<table border=\"1\" class=\"dataframe\">\n",
       "  <thead>\n",
       "    <tr style=\"text-align: right;\">\n",
       "      <th></th>\n",
       "      <th>User_ID</th>\n",
       "      <th>Product_ID</th>\n",
       "      <th>Purchase</th>\n",
       "    </tr>\n",
       "  </thead>\n",
       "  <tbody>\n",
       "    <tr>\n",
       "      <th>0</th>\n",
       "      <td>1000004</td>\n",
       "      <td>P00128942</td>\n",
       "      <td>14699.0</td>\n",
       "    </tr>\n",
       "    <tr>\n",
       "      <th>1</th>\n",
       "      <td>1000009</td>\n",
       "      <td>P00113442</td>\n",
       "      <td>10272.1</td>\n",
       "    </tr>\n",
       "    <tr>\n",
       "      <th>2</th>\n",
       "      <td>1000010</td>\n",
       "      <td>P00288442</td>\n",
       "      <td>6668.8</td>\n",
       "    </tr>\n",
       "    <tr>\n",
       "      <th>3</th>\n",
       "      <td>1000010</td>\n",
       "      <td>P00145342</td>\n",
       "      <td>2340.0</td>\n",
       "    </tr>\n",
       "    <tr>\n",
       "      <th>4</th>\n",
       "      <td>1000011</td>\n",
       "      <td>P00053842</td>\n",
       "      <td>3161.9</td>\n",
       "    </tr>\n",
       "  </tbody>\n",
       "</table>\n",
       "</div>"
      ],
      "text/plain": [
       "   User_ID Product_ID  Purchase\n",
       "0  1000004  P00128942   14699.0\n",
       "1  1000009  P00113442   10272.1\n",
       "2  1000010  P00288442    6668.8\n",
       "3  1000010  P00145342    2340.0\n",
       "4  1000011  P00053842    3161.9"
      ]
     },
     "execution_count": 132,
     "metadata": {},
     "output_type": "execute_result"
    }
   ],
   "source": [
    "finalsolution.head()"
   ]
  },
  {
   "cell_type": "code",
   "execution_count": 133,
   "metadata": {
    "collapsed": true,
    "scrolled": true
   },
   "outputs": [],
   "source": [
    "finalsolution.to_csv('finalsolution_RandomForest.csv')"
   ]
  },
  {
   "cell_type": "markdown",
   "metadata": {
    "collapsed": true
   },
   "source": [
    "### Result - RMSE 3047.something currently (Random Forest)\n",
    "### Best Solution on Leaderboards - RMSE 2405.something"
   ]
  },
  {
   "cell_type": "markdown",
   "metadata": {},
   "source": [
    "## After adding the product score\n",
    "### Result - RMSE 3010.something currently (Random Forest)\n",
    "### Best Solution on Leaderboards - RMSE 2405.something"
   ]
  },
  {
   "cell_type": "code",
   "execution_count": 134,
   "metadata": {},
   "outputs": [
    {
     "name": "stderr",
     "output_type": "stream",
     "text": [
      "C:\\ProgramData\\Anaconda3\\lib\\site-packages\\h5py\\__init__.py:34: FutureWarning:\n",
      "\n",
      "Conversion of the second argument of issubdtype from `float` to `np.floating` is deprecated. In future, it will be treated as `np.float64 == np.dtype(float).type`.\n",
      "\n"
     ]
    }
   ],
   "source": [
    "import tensorflow as tf\n",
    "\n",
    "from tensorflow.keras.callbacks import ModelCheckpoint\n",
    "from tensorflow.keras.models import Sequential\n",
    "from tensorflow.keras.layers import Dense, Dropout, Activation, Flatten"
   ]
  },
  {
   "cell_type": "code",
   "execution_count": 135,
   "metadata": {},
   "outputs": [
    {
     "name": "stdout",
     "output_type": "stream",
     "text": [
      "_________________________________________________________________\n",
      "Layer (type)                 Output Shape              Param #   \n",
      "=================================================================\n",
      "dense (Dense)                (None, 128)               1792      \n",
      "_________________________________________________________________\n",
      "dense_1 (Dense)              (None, 256)               33024     \n",
      "_________________________________________________________________\n",
      "dense_2 (Dense)              (None, 256)               65792     \n",
      "_________________________________________________________________\n",
      "dense_3 (Dense)              (None, 256)               65792     \n",
      "_________________________________________________________________\n",
      "dense_4 (Dense)              (None, 1)                 257       \n",
      "=================================================================\n",
      "Total params: 166,657\n",
      "Trainable params: 166,657\n",
      "Non-trainable params: 0\n",
      "_________________________________________________________________\n"
     ]
    }
   ],
   "source": [
    "NN_model = Sequential()\n",
    "\n",
    "# The Input Layer :\n",
    "NN_model.add(Dense(128, kernel_initializer='normal',input_dim = X.shape[1], activation='relu'))\n",
    "\n",
    "# The Hidden Layers :\n",
    "NN_model.add(Dense(256, kernel_initializer='normal', activation='relu'))\n",
    "NN_model.add(Dense(256, kernel_initializer='normal', activation='relu'))\n",
    "NN_model.add(Dense(256, kernel_initializer='normal', activation='relu'))\n",
    "\n",
    "# The Output Layer :\n",
    "NN_model.add(Dense(1, kernel_initializer='normal', activation='linear'))\n",
    "\n",
    "# Compile the network :\n",
    "NN_model.compile(loss='mean_absolute_error', optimizer='adam', metrics=['mean_absolute_error'])\n",
    "NN_model.summary()"
   ]
  },
  {
   "cell_type": "code",
   "execution_count": 136,
   "metadata": {
    "collapsed": true
   },
   "outputs": [],
   "source": [
    "checkpoint_name = 'Weights-{epoch:03d}--{val_loss:.5f}.hdf5' \n",
    "checkpoint = ModelCheckpoint(checkpoint_name, monitor='val_loss', verbose = 1, save_best_only = True, mode ='auto')\n",
    "callbacks_list = [checkpoint]"
   ]
  },
  {
   "cell_type": "code",
   "execution_count": 137,
   "metadata": {},
   "outputs": [
    {
     "name": "stdout",
     "output_type": "stream",
     "text": [
      "Train on 440054 samples, validate on 110014 samples\n",
      "Epoch 1/1\n"
     ]
    },
    {
     "name": "stdout",
     "output_type": "stream",
     "text": [
      " 42224/440054 [=>............................] - ETA: 9:34:15 - loss: 7736.2773 - mean_absolute_error: 7736.27 - ETA: 1:39:36 - loss: 5597.5719 - mean_absolute_error: 5597.57 - ETA: 23:00 - loss: 4851.0809 - mean_absolute_error: 4851.0809 - ETA: 13:25 - loss: 4674.0490 - mean_absolute_error: 4674.04 - ETA: 9:32 - loss: 4421.9194 - mean_absolute_error: 4421.9194 - ETA: 7:25 - loss: 4320.7949 - mean_absolute_error: 4320.794 - ETA: 6:15 - loss: 4251.4713 - mean_absolute_error: 4251.471 - ETA: 5:22 - loss: 4179.4057 - mean_absolute_error: 4179.405 - ETA: 4:46 - loss: 4180.8609 - mean_absolute_error: 4180.860 - ETA: 4:20 - loss: 4187.0441 - mean_absolute_error: 4187.044 - ETA: 4:01 - loss: 4187.8456 - mean_absolute_error: 4187.845 - ETA: 3:42 - loss: 4137.6603 - mean_absolute_error: 4137.660 - ETA: 3:28 - loss: 4113.4638 - mean_absolute_error: 4113.463 - ETA: 3:15 - loss: 4099.6650 - mean_absolute_error: 4099.665 - ETA: 3:06 - loss: 4103.6780 - mean_absolute_error: 4103.678 - ETA: 2:57 - loss: 4105.3925 - mean_absolute_error: 4105.392 - ETA: 2:49 - loss: 4078.4333 - mean_absolute_error: 4078.433 - ETA: 2:41 - loss: 4070.1607 - mean_absolute_error: 4070.160 - ETA: 2:36 - loss: 4073.6816 - mean_absolute_error: 4073.681 - ETA: 2:30 - loss: 4093.4801 - mean_absolute_error: 4093.480 - ETA: 2:26 - loss: 4090.4944 - mean_absolute_error: 4090.494 - ETA: 2:21 - loss: 4090.1119 - mean_absolute_error: 4090.111 - ETA: 2:18 - loss: 4097.0755 - mean_absolute_error: 4097.075 - ETA: 2:14 - loss: 4096.6242 - mean_absolute_error: 4096.624 - ETA: 2:11 - loss: 4091.4012 - mean_absolute_error: 4091.401 - ETA: 2:08 - loss: 4085.5489 - mean_absolute_error: 4085.548 - ETA: 2:07 - loss: 4089.8394 - mean_absolute_error: 4089.839 - ETA: 2:05 - loss: 4085.2235 - mean_absolute_error: 4085.223 - ETA: 2:04 - loss: 4083.2590 - mean_absolute_error: 4083.259 - ETA: 2:03 - loss: 4072.4365 - mean_absolute_error: 4072.436 - ETA: 2:01 - loss: 4064.5106 - mean_absolute_error: 4064.510 - ETA: 2:00 - loss: 4057.2942 - mean_absolute_error: 4057.294 - ETA: 1:59 - loss: 4065.7947 - mean_absolute_error: 4065.794 - ETA: 1:57 - loss: 4069.9787 - mean_absolute_error: 4069.978 - ETA: 1:56 - loss: 4075.2266 - mean_absolute_error: 4075.226 - ETA: 1:55 - loss: 4072.0126 - mean_absolute_error: 4072.012 - ETA: 1:55 - loss: 4077.4734 - mean_absolute_error: 4077.473 - ETA: 1:54 - loss: 4068.5555 - mean_absolute_error: 4068.555 - ETA: 1:53 - loss: 4063.4728 - mean_absolute_error: 4063.472 - ETA: 1:53 - loss: 4060.0675 - mean_absolute_error: 4060.067 - ETA: 1:52 - loss: 4058.6075 - mean_absolute_error: 4058.607 - ETA: 1:51 - loss: 4061.3172 - mean_absolute_error: 4061.317 - ETA: 1:51 - loss: 4064.5648 - mean_absolute_error: 4064.564 - ETA: 1:51 - loss: 4057.8254 - mean_absolute_error: 4057.825 - ETA: 1:51 - loss: 4062.3264 - mean_absolute_error: 4062.326 - ETA: 1:51 - loss: 4074.0519 - mean_absolute_error: 4074.051 - ETA: 1:50 - loss: 4076.2229 - mean_absolute_error: 4076.222 - ETA: 1:49 - loss: 4076.9867 - mean_absolute_error: 4076.986 - ETA: 1:48 - loss: 4077.5410 - mean_absolute_error: 4077.541 - ETA: 1:48 - loss: 4077.5322 - mean_absolute_error: 4077.532 - ETA: 1:47 - loss: 4075.2601 - mean_absolute_error: 4075.260 - ETA: 1:47 - loss: 4077.1675 - mean_absolute_error: 4077.167 - ETA: 1:46 - loss: 4076.4725 - mean_absolute_error: 4076.472 - ETA: 1:45 - loss: 4076.9305 - mean_absolute_error: 4076.930 - ETA: 1:44 - loss: 4078.5778 - mean_absolute_error: 4078.577 - ETA: 1:44 - loss: 4074.7801 - mean_absolute_error: 4074.780 - ETA: 1:43 - loss: 4068.5366 - mean_absolute_error: 4068.536 - ETA: 1:42 - loss: 4070.3551 - mean_absolute_error: 4070.355 - ETA: 1:42 - loss: 4072.5473 - mean_absolute_error: 4072.547 - ETA: 1:41 - loss: 4072.1270 - mean_absolute_error: 4072.127 - ETA: 1:40 - loss: 4071.9121 - mean_absolute_error: 4071.912 - ETA: 1:40 - loss: 4067.0111 - mean_absolute_error: 4067.011 - ETA: 1:39 - loss: 4066.9828 - mean_absolute_error: 4066.982 - ETA: 1:38 - loss: 4064.9343 - mean_absolute_error: 4064.934 - ETA: 1:38 - loss: 4064.8430 - mean_absolute_error: 4064.843 - ETA: 1:37 - loss: 4064.0725 - mean_absolute_error: 4064.072 - ETA: 1:37 - loss: 4066.1062 - mean_absolute_error: 4066.106 - ETA: 1:36 - loss: 4060.2237 - mean_absolute_error: 4060.223 - ETA: 1:36 - loss: 4060.8995 - mean_absolute_error: 4060.899 - ETA: 1:35 - loss: 4056.3923 - mean_absolute_error: 4056.392 - ETA: 1:35 - loss: 4057.6208 - mean_absolute_error: 4057.620 - ETA: 1:35 - loss: 4054.0394 - mean_absolute_error: 4054.039 - ETA: 1:34 - loss: 4053.8308 - mean_absolute_error: 4053.830 - ETA: 1:33 - loss: 4054.6078 - mean_absolute_error: 4054.607 - ETA: 1:33 - loss: 4052.8662 - mean_absolute_error: 4052.866 - ETA: 1:33 - loss: 4049.0895 - mean_absolute_error: 4049.089 - ETA: 1:32 - loss: 4046.3271 - mean_absolute_error: 4046.327 - ETA: 1:32 - loss: 4046.4534 - mean_absolute_error: 4046.453 - ETA: 1:31 - loss: 4046.9694 - mean_absolute_error: 4046.969 - ETA: 1:31 - loss: 4046.0717 - mean_absolute_error: 4046.071 - ETA: 1:30 - loss: 4048.0966 - mean_absolute_error: 4048.096 - ETA: 1:30 - loss: 4047.9626 - mean_absolute_error: 4047.962 - ETA: 1:29 - loss: 4048.9425 - mean_absolute_error: 4048.942 - ETA: 1:29 - loss: 4051.2853 - mean_absolute_error: 4051.285 - ETA: 1:29 - loss: 4048.9410 - mean_absolute_error: 4048.941 - ETA: 1:28 - loss: 4050.0752 - mean_absolute_error: 4050.075 - ETA: 1:28 - loss: 4047.7674 - mean_absolute_error: 4047.767 - ETA: 1:28 - loss: 4047.6492 - mean_absolute_error: 4047.649 - ETA: 1:27 - loss: 4045.5387 - mean_absolute_error: 4045.538 - ETA: 1:27 - loss: 4043.2040 - mean_absolute_error: 4043.204 - ETA: 1:26 - loss: 4042.3364 - mean_absolute_error: 4042.336 - ETA: 1:26 - loss: 4038.8691 - mean_absolute_error: 4038.869 - ETA: 1:26 - loss: 4036.3907 - mean_absolute_error: 4036.390 - ETA: 1:25 - loss: 4033.7160 - mean_absolute_error: 4033.716 - ETA: 1:25 - loss: 4035.5683 - mean_absolute_error: 4035.568 - ETA: 1:24 - loss: 4033.3147 - mean_absolute_error: 4033.314 - ETA: 1:24 - loss: 4033.1954 - mean_absolute_error: 4033.195 - ETA: 1:24 - loss: 4036.2596 - mean_absolute_error: 4036.259 - ETA: 1:24 - loss: 4036.5574 - mean_absolute_error: 4036.557 - ETA: 1:23 - loss: 4037.5190 - mean_absolute_error: 4037.519 - ETA: 1:23 - loss: 4036.9839 - mean_absolute_error: 4036.983 - ETA: 1:23 - loss: 4034.5870 - mean_absolute_error: 4034.587 - ETA: 1:22 - loss: 4033.6339 - mean_absolute_error: 4033.633 - ETA: 1:22 - loss: 4031.2822 - mean_absolute_error: 4031.282 - ETA: 1:21 - loss: 4028.7675 - mean_absolute_error: 4028.767 - ETA: 1:21 - loss: 4028.8094 - mean_absolute_error: 4028.809 - ETA: 1:21 - loss: 4025.6124 - mean_absolute_error: 4025.612 - ETA: 1:20 - loss: 4023.6545 - mean_absolute_error: 4023.654 - ETA: 1:20 - loss: 4020.1938 - mean_absolute_error: 4020.193 - ETA: 1:20 - loss: 4021.8245 - mean_absolute_error: 4021.824 - ETA: 1:19 - loss: 4022.9854 - mean_absolute_error: 4022.985 - ETA: 1:19 - loss: 4022.2238 - mean_absolute_error: 4022.223 - ETA: 1:19 - loss: 4020.1151 - mean_absolute_error: 4020.115 - ETA: 1:18 - loss: 4023.2965 - mean_absolute_error: 4023.296 - ETA: 1:18 - loss: 4021.2835 - mean_absolute_error: 4021.283 - ETA: 1:18 - loss: 4020.9155 - mean_absolute_error: 4020.915 - ETA: 1:18 - loss: 4018.6865 - mean_absolute_error: 4018.686 - ETA: 1:17 - loss: 4017.8435 - mean_absolute_error: 4017.843 - ETA: 1:17 - loss: 4017.3757 - mean_absolute_error: 4017.375 - ETA: 1:17 - loss: 4014.0150 - mean_absolute_error: 4014.015 - ETA: 1:17 - loss: 4012.8587 - mean_absolute_error: 4012.858 - ETA: 1:16 - loss: 4013.6703 - mean_absolute_error: 4013.670 - ETA: 1:16 - loss: 4008.8421 - mean_absolute_error: 4008.842 - ETA: 1:16 - loss: 4006.3866 - mean_absolute_error: 4006.386 - ETA: 1:16 - loss: 4006.2283 - mean_absolute_error: 4006.228 - ETA: 1:15 - loss: 4006.5654 - mean_absolute_error: 4006.565 - ETA: 1:15 - loss: 4006.9702 - mean_absolute_error: 4006.970 - ETA: 1:15 - loss: 4007.8703 - mean_absolute_error: 4007.870 - ETA: 1:15 - loss: 4005.6977 - mean_absolute_error: 4005.697 - ETA: 1:15 - loss: 4004.0653 - mean_absolute_error: 4004.065 - ETA: 1:14 - loss: 3999.3391 - mean_absolute_error: 3999.339 87072/440054 [====>.........................] - ETA: 1:14 - loss: 3998.5223 - mean_absolute_error: 3998.522 - ETA: 1:14 - loss: 3997.0332 - mean_absolute_error: 3997.033 - ETA: 1:14 - loss: 3996.1405 - mean_absolute_error: 3996.140 - ETA: 1:14 - loss: 3993.4309 - mean_absolute_error: 3993.430 - ETA: 1:13 - loss: 3992.7149 - mean_absolute_error: 3992.714 - ETA: 1:13 - loss: 3992.9976 - mean_absolute_error: 3992.997 - ETA: 1:13 - loss: 3992.7268 - mean_absolute_error: 3992.726 - ETA: 1:13 - loss: 3994.3699 - mean_absolute_error: 3994.369 - ETA: 1:13 - loss: 3995.4588 - mean_absolute_error: 3995.458 - ETA: 1:12 - loss: 3995.8464 - mean_absolute_error: 3995.846 - ETA: 1:12 - loss: 3997.2411 - mean_absolute_error: 3997.241 - ETA: 1:12 - loss: 3999.3523 - mean_absolute_error: 3999.352 - ETA: 1:12 - loss: 3999.1026 - mean_absolute_error: 3999.102 - ETA: 1:12 - loss: 3997.3191 - mean_absolute_error: 3997.319 - ETA: 1:12 - loss: 3995.4879 - mean_absolute_error: 3995.487 - ETA: 1:12 - loss: 3993.8564 - mean_absolute_error: 3993.856 - ETA: 1:12 - loss: 3992.3524 - mean_absolute_error: 3992.352 - ETA: 1:12 - loss: 3994.1051 - mean_absolute_error: 3994.105 - ETA: 1:12 - loss: 3993.8243 - mean_absolute_error: 3993.824 - ETA: 1:12 - loss: 3993.4847 - mean_absolute_error: 3993.484 - ETA: 1:12 - loss: 3991.9626 - mean_absolute_error: 3991.962 - ETA: 1:12 - loss: 3990.7983 - mean_absolute_error: 3990.798 - ETA: 1:12 - loss: 3991.2379 - mean_absolute_error: 3991.237 - ETA: 1:12 - loss: 3990.4055 - mean_absolute_error: 3990.405 - ETA: 1:12 - loss: 3989.7144 - mean_absolute_error: 3989.714 - ETA: 1:12 - loss: 3989.8009 - mean_absolute_error: 3989.800 - ETA: 1:12 - loss: 3990.9249 - mean_absolute_error: 3990.924 - ETA: 1:12 - loss: 3992.4327 - mean_absolute_error: 3992.432 - ETA: 1:11 - loss: 3991.7062 - mean_absolute_error: 3991.706 - ETA: 1:11 - loss: 3991.6298 - mean_absolute_error: 3991.629 - ETA: 1:11 - loss: 3991.7372 - mean_absolute_error: 3991.737 - ETA: 1:11 - loss: 3993.5195 - mean_absolute_error: 3993.519 - ETA: 1:11 - loss: 3991.5024 - mean_absolute_error: 3991.502 - ETA: 1:11 - loss: 3992.1655 - mean_absolute_error: 3992.165 - ETA: 1:10 - loss: 3990.6744 - mean_absolute_error: 3990.674 - ETA: 1:10 - loss: 3991.0542 - mean_absolute_error: 3991.054 - ETA: 1:10 - loss: 3990.7019 - mean_absolute_error: 3990.701 - ETA: 1:10 - loss: 3991.6061 - mean_absolute_error: 3991.606 - ETA: 1:10 - loss: 3991.2294 - mean_absolute_error: 3991.229 - ETA: 1:10 - loss: 3991.0700 - mean_absolute_error: 3991.070 - ETA: 1:09 - loss: 3990.4422 - mean_absolute_error: 3990.442 - ETA: 1:09 - loss: 3990.6078 - mean_absolute_error: 3990.607 - ETA: 1:09 - loss: 3990.4093 - mean_absolute_error: 3990.409 - ETA: 1:09 - loss: 3988.5365 - mean_absolute_error: 3988.536 - ETA: 1:09 - loss: 3991.5313 - mean_absolute_error: 3991.531 - ETA: 1:09 - loss: 3991.9898 - mean_absolute_error: 3991.989 - ETA: 1:09 - loss: 3990.6515 - mean_absolute_error: 3990.651 - ETA: 1:08 - loss: 3991.9422 - mean_absolute_error: 3991.942 - ETA: 1:08 - loss: 3993.6198 - mean_absolute_error: 3993.619 - ETA: 1:08 - loss: 3992.8985 - mean_absolute_error: 3992.898 - ETA: 1:08 - loss: 3993.6321 - mean_absolute_error: 3993.632 - ETA: 1:08 - loss: 3992.3725 - mean_absolute_error: 3992.372 - ETA: 1:08 - loss: 3992.2152 - mean_absolute_error: 3992.215 - ETA: 1:08 - loss: 3991.5256 - mean_absolute_error: 3991.525 - ETA: 1:08 - loss: 3990.4751 - mean_absolute_error: 3990.475 - ETA: 1:07 - loss: 3989.9243 - mean_absolute_error: 3989.924 - ETA: 1:07 - loss: 3987.7874 - mean_absolute_error: 3987.787 - ETA: 1:07 - loss: 3988.7853 - mean_absolute_error: 3988.785 - ETA: 1:07 - loss: 3990.0792 - mean_absolute_error: 3990.079 - ETA: 1:07 - loss: 3989.4277 - mean_absolute_error: 3989.427 - ETA: 1:07 - loss: 3988.8501 - mean_absolute_error: 3988.850 - ETA: 1:07 - loss: 3987.9876 - mean_absolute_error: 3987.987 - ETA: 1:07 - loss: 3987.3489 - mean_absolute_error: 3987.348 - ETA: 1:06 - loss: 3986.9623 - mean_absolute_error: 3986.962 - ETA: 1:06 - loss: 3986.9286 - mean_absolute_error: 3986.928 - ETA: 1:06 - loss: 3985.2035 - mean_absolute_error: 3985.203 - ETA: 1:06 - loss: 3985.6411 - mean_absolute_error: 3985.641 - ETA: 1:06 - loss: 3983.1097 - mean_absolute_error: 3983.109 - ETA: 1:06 - loss: 3981.8123 - mean_absolute_error: 3981.812 - ETA: 1:06 - loss: 3980.5871 - mean_absolute_error: 3980.587 - ETA: 1:05 - loss: 3979.4511 - mean_absolute_error: 3979.451 - ETA: 1:05 - loss: 3978.1433 - mean_absolute_error: 3978.143 - ETA: 1:05 - loss: 3980.1758 - mean_absolute_error: 3980.175 - ETA: 1:05 - loss: 3978.0557 - mean_absolute_error: 3978.055 - ETA: 1:05 - loss: 3978.0373 - mean_absolute_error: 3978.037 - ETA: 1:05 - loss: 3977.5918 - mean_absolute_error: 3977.591 - ETA: 1:05 - loss: 3978.3823 - mean_absolute_error: 3978.382 - ETA: 1:05 - loss: 3979.5692 - mean_absolute_error: 3979.569 - ETA: 1:04 - loss: 3979.6760 - mean_absolute_error: 3979.676 - ETA: 1:04 - loss: 3978.7872 - mean_absolute_error: 3978.787 - ETA: 1:04 - loss: 3978.8382 - mean_absolute_error: 3978.838 - ETA: 1:04 - loss: 3978.9498 - mean_absolute_error: 3978.949 - ETA: 1:04 - loss: 3979.9755 - mean_absolute_error: 3979.975 - ETA: 1:04 - loss: 3979.3710 - mean_absolute_error: 3979.371 - ETA: 1:04 - loss: 3977.5340 - mean_absolute_error: 3977.534 - ETA: 1:04 - loss: 3977.4541 - mean_absolute_error: 3977.454 - ETA: 1:03 - loss: 3976.3284 - mean_absolute_error: 3976.328 - ETA: 1:03 - loss: 3973.6331 - mean_absolute_error: 3973.633 - ETA: 1:03 - loss: 3974.5717 - mean_absolute_error: 3974.571 - ETA: 1:03 - loss: 3973.3085 - mean_absolute_error: 3973.308 - ETA: 1:03 - loss: 3972.7255 - mean_absolute_error: 3972.725 - ETA: 1:03 - loss: 3970.7386 - mean_absolute_error: 3970.738 - ETA: 1:03 - loss: 3970.8593 - mean_absolute_error: 3970.859 - ETA: 1:03 - loss: 3970.2844 - mean_absolute_error: 3970.284 - ETA: 1:03 - loss: 3969.7863 - mean_absolute_error: 3969.786 - ETA: 1:02 - loss: 3968.3727 - mean_absolute_error: 3968.372 - ETA: 1:02 - loss: 3968.3651 - mean_absolute_error: 3968.365 - ETA: 1:02 - loss: 3967.7975 - mean_absolute_error: 3967.797 - ETA: 1:02 - loss: 3967.2719 - mean_absolute_error: 3967.271 - ETA: 1:02 - loss: 3966.2232 - mean_absolute_error: 3966.223 - ETA: 1:02 - loss: 3965.8422 - mean_absolute_error: 3965.842 - ETA: 1:02 - loss: 3966.5083 - mean_absolute_error: 3966.508 - ETA: 1:02 - loss: 3965.0895 - mean_absolute_error: 3965.089 - ETA: 1:02 - loss: 3965.1522 - mean_absolute_error: 3965.152 - ETA: 1:01 - loss: 3965.0893 - mean_absolute_error: 3965.089 - ETA: 1:01 - loss: 3965.0461 - mean_absolute_error: 3965.046 - ETA: 1:01 - loss: 3964.6234 - mean_absolute_error: 3964.623 - ETA: 1:01 - loss: 3964.8923 - mean_absolute_error: 3964.892 - ETA: 1:01 - loss: 3965.2992 - mean_absolute_error: 3965.299 - ETA: 1:01 - loss: 3964.4808 - mean_absolute_error: 3964.480 - ETA: 1:01 - loss: 3964.5511 - mean_absolute_error: 3964.551 - ETA: 1:01 - loss: 3965.4605 - mean_absolute_error: 3965.460 - ETA: 1:01 - loss: 3965.0950 - mean_absolute_error: 3965.095 - ETA: 1:01 - loss: 3964.6332 - mean_absolute_error: 3964.633 - ETA: 1:00 - loss: 3965.5092 - mean_absolute_error: 3965.509 - ETA: 1:00 - loss: 3966.6969 - mean_absolute_error: 3966.696 - ETA: 1:00 - loss: 3965.7022 - mean_absolute_error: 3965.702 - ETA: 1:00 - loss: 3965.9713 - mean_absolute_error: 3965.971 - ETA: 1:00 - loss: 3967.1395 - mean_absolute_error: 3967.139 - ETA: 1:00 - loss: 3967.6675 - mean_absolute_error: 3967.667 - ETA: 1:00 - loss: 3967.1681 - mean_absolute_error: 3967.168 - ETA: 1:00 - loss: 3968.0269 - mean_absolute_error: 3968.026 - ETA: 1:00 - loss: 3967.2736 - mean_absolute_error: 3967.273 - ETA: 1:00 - loss: 3965.1765 - mean_absolute_error: 3965.176 - ETA: 1:00 - loss: 3964.7447 - mean_absolute_error: 3964.744 - ETA: 1:00 - loss: 3964.3550 - mean_absolute_error: 3964.355 - ETA: 1:00 - loss: 3964.7074 - mean_absolute_error: 3964.707 - ETA: 59s - loss: 3964.4813 - mean_absolute_error: 3964.481 - ETA: 59s - loss: 3964.7222 - mean_absolute_error: 3964.72 - ETA: 59s - loss: 3965.1568 - mean_absolute_error: 3965.15 - ETA: 59s - loss: 3964.1819 - mean_absolute_error: 3964.18 - ETA: 59s - loss: 3964.1188 - mean_absolute_error: 3964.1188131104/440054 [=======>......................] - ETA: 59s - loss: 3964.3575 - mean_absolute_error: 3964.35 - ETA: 59s - loss: 3964.9475 - mean_absolute_error: 3964.94 - ETA: 59s - loss: 3963.9579 - mean_absolute_error: 3963.95 - ETA: 59s - loss: 3963.6396 - mean_absolute_error: 3963.63 - ETA: 59s - loss: 3963.3098 - mean_absolute_error: 3963.30 - ETA: 59s - loss: 3963.6145 - mean_absolute_error: 3963.61 - ETA: 59s - loss: 3963.8000 - mean_absolute_error: 3963.80 - ETA: 59s - loss: 3963.1231 - mean_absolute_error: 3963.12 - ETA: 59s - loss: 3963.5036 - mean_absolute_error: 3963.50 - ETA: 59s - loss: 3963.3161 - mean_absolute_error: 3963.31 - ETA: 59s - loss: 3962.4044 - mean_absolute_error: 3962.40 - ETA: 59s - loss: 3962.0257 - mean_absolute_error: 3962.02 - ETA: 59s - loss: 3961.2607 - mean_absolute_error: 3961.26 - ETA: 59s - loss: 3960.7783 - mean_absolute_error: 3960.77 - ETA: 58s - loss: 3961.2362 - mean_absolute_error: 3961.23 - ETA: 58s - loss: 3960.2680 - mean_absolute_error: 3960.26 - ETA: 58s - loss: 3958.9757 - mean_absolute_error: 3958.97 - ETA: 58s - loss: 3958.5119 - mean_absolute_error: 3958.51 - ETA: 58s - loss: 3957.5738 - mean_absolute_error: 3957.57 - ETA: 58s - loss: 3958.0746 - mean_absolute_error: 3958.07 - ETA: 58s - loss: 3958.3401 - mean_absolute_error: 3958.34 - ETA: 58s - loss: 3957.6719 - mean_absolute_error: 3957.67 - ETA: 58s - loss: 3957.0295 - mean_absolute_error: 3957.02 - ETA: 58s - loss: 3957.5345 - mean_absolute_error: 3957.53 - ETA: 58s - loss: 3956.3208 - mean_absolute_error: 3956.32 - ETA: 57s - loss: 3956.9803 - mean_absolute_error: 3956.98 - ETA: 57s - loss: 3956.0903 - mean_absolute_error: 3956.09 - ETA: 57s - loss: 3955.7468 - mean_absolute_error: 3955.74 - ETA: 57s - loss: 3955.8734 - mean_absolute_error: 3955.87 - ETA: 57s - loss: 3956.5995 - mean_absolute_error: 3956.59 - ETA: 57s - loss: 3956.2576 - mean_absolute_error: 3956.25 - ETA: 57s - loss: 3956.5835 - mean_absolute_error: 3956.58 - ETA: 57s - loss: 3957.5392 - mean_absolute_error: 3957.53 - ETA: 57s - loss: 3957.3594 - mean_absolute_error: 3957.35 - ETA: 57s - loss: 3957.0528 - mean_absolute_error: 3957.05 - ETA: 57s - loss: 3957.1466 - mean_absolute_error: 3957.14 - ETA: 56s - loss: 3957.6099 - mean_absolute_error: 3957.60 - ETA: 56s - loss: 3958.6783 - mean_absolute_error: 3958.67 - ETA: 56s - loss: 3958.0195 - mean_absolute_error: 3958.01 - ETA: 56s - loss: 3957.8481 - mean_absolute_error: 3957.84 - ETA: 56s - loss: 3958.6387 - mean_absolute_error: 3958.63 - ETA: 56s - loss: 3958.0731 - mean_absolute_error: 3958.07 - ETA: 56s - loss: 3957.7177 - mean_absolute_error: 3957.71 - ETA: 56s - loss: 3957.9297 - mean_absolute_error: 3957.92 - ETA: 56s - loss: 3957.4149 - mean_absolute_error: 3957.41 - ETA: 56s - loss: 3958.1993 - mean_absolute_error: 3958.19 - ETA: 56s - loss: 3958.0227 - mean_absolute_error: 3958.02 - ETA: 56s - loss: 3958.0686 - mean_absolute_error: 3958.06 - ETA: 55s - loss: 3957.5349 - mean_absolute_error: 3957.53 - ETA: 55s - loss: 3958.0226 - mean_absolute_error: 3958.02 - ETA: 55s - loss: 3958.0871 - mean_absolute_error: 3958.08 - ETA: 55s - loss: 3957.2187 - mean_absolute_error: 3957.21 - ETA: 55s - loss: 3957.5137 - mean_absolute_error: 3957.51 - ETA: 55s - loss: 3957.0159 - mean_absolute_error: 3957.01 - ETA: 55s - loss: 3956.8905 - mean_absolute_error: 3956.89 - ETA: 55s - loss: 3956.9129 - mean_absolute_error: 3956.91 - ETA: 55s - loss: 3956.2543 - mean_absolute_error: 3956.25 - ETA: 55s - loss: 3956.0722 - mean_absolute_error: 3956.07 - ETA: 55s - loss: 3956.6299 - mean_absolute_error: 3956.62 - ETA: 55s - loss: 3956.4109 - mean_absolute_error: 3956.41 - ETA: 55s - loss: 3956.9469 - mean_absolute_error: 3956.94 - ETA: 54s - loss: 3956.1476 - mean_absolute_error: 3956.14 - ETA: 54s - loss: 3956.0100 - mean_absolute_error: 3956.01 - ETA: 54s - loss: 3956.2556 - mean_absolute_error: 3956.25 - ETA: 54s - loss: 3955.8007 - mean_absolute_error: 3955.80 - ETA: 54s - loss: 3955.6115 - mean_absolute_error: 3955.61 - ETA: 54s - loss: 3955.6427 - mean_absolute_error: 3955.64 - ETA: 54s - loss: 3955.6029 - mean_absolute_error: 3955.60 - ETA: 54s - loss: 3955.3700 - mean_absolute_error: 3955.37 - ETA: 54s - loss: 3954.2586 - mean_absolute_error: 3954.25 - ETA: 54s - loss: 3953.4078 - mean_absolute_error: 3953.40 - ETA: 54s - loss: 3953.4204 - mean_absolute_error: 3953.42 - ETA: 54s - loss: 3952.5871 - mean_absolute_error: 3952.58 - ETA: 53s - loss: 3952.1574 - mean_absolute_error: 3952.15 - ETA: 53s - loss: 3952.6967 - mean_absolute_error: 3952.69 - ETA: 53s - loss: 3953.3341 - mean_absolute_error: 3953.33 - ETA: 53s - loss: 3953.0564 - mean_absolute_error: 3953.05 - ETA: 53s - loss: 3952.8230 - mean_absolute_error: 3952.82 - ETA: 53s - loss: 3953.1744 - mean_absolute_error: 3953.17 - ETA: 53s - loss: 3952.9440 - mean_absolute_error: 3952.94 - ETA: 53s - loss: 3952.8479 - mean_absolute_error: 3952.84 - ETA: 53s - loss: 3952.8938 - mean_absolute_error: 3952.89 - ETA: 53s - loss: 3953.1698 - mean_absolute_error: 3953.16 - ETA: 53s - loss: 3953.9017 - mean_absolute_error: 3953.90 - ETA: 53s - loss: 3953.8635 - mean_absolute_error: 3953.86 - ETA: 53s - loss: 3953.6821 - mean_absolute_error: 3953.68 - ETA: 53s - loss: 3952.9572 - mean_absolute_error: 3952.95 - ETA: 53s - loss: 3952.6010 - mean_absolute_error: 3952.60 - ETA: 53s - loss: 3952.8706 - mean_absolute_error: 3952.87 - ETA: 53s - loss: 3953.2854 - mean_absolute_error: 3953.28 - ETA: 52s - loss: 3952.5636 - mean_absolute_error: 3952.56 - ETA: 52s - loss: 3953.3955 - mean_absolute_error: 3953.39 - ETA: 52s - loss: 3954.4342 - mean_absolute_error: 3954.43 - ETA: 52s - loss: 3954.5590 - mean_absolute_error: 3954.55 - ETA: 52s - loss: 3954.4403 - mean_absolute_error: 3954.44 - ETA: 52s - loss: 3954.9695 - mean_absolute_error: 3954.96 - ETA: 52s - loss: 3954.6881 - mean_absolute_error: 3954.68 - ETA: 52s - loss: 3953.9357 - mean_absolute_error: 3953.93 - ETA: 52s - loss: 3954.1533 - mean_absolute_error: 3954.15 - ETA: 52s - loss: 3954.2311 - mean_absolute_error: 3954.23 - ETA: 52s - loss: 3954.6605 - mean_absolute_error: 3954.66 - ETA: 52s - loss: 3954.3666 - mean_absolute_error: 3954.36 - ETA: 52s - loss: 3955.0048 - mean_absolute_error: 3955.00 - ETA: 52s - loss: 3954.5496 - mean_absolute_error: 3954.54 - ETA: 52s - loss: 3954.7907 - mean_absolute_error: 3954.79 - ETA: 52s - loss: 3955.7131 - mean_absolute_error: 3955.71 - ETA: 52s - loss: 3955.1755 - mean_absolute_error: 3955.17 - ETA: 52s - loss: 3955.3406 - mean_absolute_error: 3955.34 - ETA: 52s - loss: 3955.0887 - mean_absolute_error: 3955.08 - ETA: 52s - loss: 3955.6096 - mean_absolute_error: 3955.60 - ETA: 52s - loss: 3954.6700 - mean_absolute_error: 3954.67 - ETA: 52s - loss: 3954.3186 - mean_absolute_error: 3954.31 - ETA: 52s - loss: 3953.8304 - mean_absolute_error: 3953.83 - ETA: 52s - loss: 3953.6531 - mean_absolute_error: 3953.65 - ETA: 52s - loss: 3953.8592 - mean_absolute_error: 3953.85 - ETA: 52s - loss: 3954.3294 - mean_absolute_error: 3954.32 - ETA: 51s - loss: 3953.6933 - mean_absolute_error: 3953.69 - ETA: 51s - loss: 3953.8439 - mean_absolute_error: 3953.84 - ETA: 51s - loss: 3954.3847 - mean_absolute_error: 3954.38 - ETA: 51s - loss: 3954.3843 - mean_absolute_error: 3954.38 - ETA: 51s - loss: 3954.7819 - mean_absolute_error: 3954.78 - ETA: 51s - loss: 3954.9410 - mean_absolute_error: 3954.94 - ETA: 51s - loss: 3954.9385 - mean_absolute_error: 3954.93 - ETA: 51s - loss: 3955.0205 - mean_absolute_error: 3955.02 - ETA: 51s - loss: 3955.3959 - mean_absolute_error: 3955.39 - ETA: 51s - loss: 3954.8633 - mean_absolute_error: 3954.86 - ETA: 51s - loss: 3954.9304 - mean_absolute_error: 3954.93 - ETA: 51s - loss: 3955.2048 - mean_absolute_error: 3955.20 - ETA: 51s - loss: 3956.0164 - mean_absolute_error: 3956.01 - ETA: 51s - loss: 3956.3577 - mean_absolute_error: 3956.35 - ETA: 51s - loss: 3955.6541 - mean_absolute_error: 3955.65 - ETA: 51s - loss: 3955.5275 - mean_absolute_error: 3955.52 - ETA: 51s - loss: 3955.6441 - mean_absolute_error: 3955.64 - ETA: 51s - loss: 3955.3278 - mean_absolute_error: 3955.32 - ETA: 51s - loss: 3955.0090 - mean_absolute_error: 3955.00 - ETA: 51s - loss: 3954.6055 - mean_absolute_error: 3954.6055"
     ]
    },
    {
     "name": "stdout",
     "output_type": "stream",
     "text": [
      "178384/440054 [===========>..................] - ETA: 51s - loss: 3954.8415 - mean_absolute_error: 3954.84 - ETA: 51s - loss: 3953.9560 - mean_absolute_error: 3953.95 - ETA: 51s - loss: 3953.8704 - mean_absolute_error: 3953.87 - ETA: 51s - loss: 3953.9775 - mean_absolute_error: 3953.97 - ETA: 51s - loss: 3953.4065 - mean_absolute_error: 3953.40 - ETA: 50s - loss: 3953.2732 - mean_absolute_error: 3953.27 - ETA: 50s - loss: 3952.6191 - mean_absolute_error: 3952.61 - ETA: 50s - loss: 3952.7370 - mean_absolute_error: 3952.73 - ETA: 50s - loss: 3953.0118 - mean_absolute_error: 3953.01 - ETA: 50s - loss: 3952.4807 - mean_absolute_error: 3952.48 - ETA: 50s - loss: 3952.6317 - mean_absolute_error: 3952.63 - ETA: 50s - loss: 3952.5568 - mean_absolute_error: 3952.55 - ETA: 50s - loss: 3951.9406 - mean_absolute_error: 3951.94 - ETA: 50s - loss: 3951.5311 - mean_absolute_error: 3951.53 - ETA: 50s - loss: 3951.9980 - mean_absolute_error: 3951.99 - ETA: 50s - loss: 3952.1659 - mean_absolute_error: 3952.16 - ETA: 50s - loss: 3951.6683 - mean_absolute_error: 3951.66 - ETA: 49s - loss: 3950.9900 - mean_absolute_error: 3950.99 - ETA: 49s - loss: 3950.2080 - mean_absolute_error: 3950.20 - ETA: 49s - loss: 3950.6145 - mean_absolute_error: 3950.61 - ETA: 49s - loss: 3951.1092 - mean_absolute_error: 3951.10 - ETA: 49s - loss: 3950.9056 - mean_absolute_error: 3950.90 - ETA: 49s - loss: 3951.1091 - mean_absolute_error: 3951.10 - ETA: 49s - loss: 3950.6397 - mean_absolute_error: 3950.63 - ETA: 49s - loss: 3950.1968 - mean_absolute_error: 3950.19 - ETA: 49s - loss: 3950.3877 - mean_absolute_error: 3950.38 - ETA: 49s - loss: 3950.1139 - mean_absolute_error: 3950.11 - ETA: 49s - loss: 3950.8918 - mean_absolute_error: 3950.89 - ETA: 49s - loss: 3952.1611 - mean_absolute_error: 3952.16 - ETA: 48s - loss: 3951.8013 - mean_absolute_error: 3951.80 - ETA: 48s - loss: 3951.3973 - mean_absolute_error: 3951.39 - ETA: 48s - loss: 3951.7860 - mean_absolute_error: 3951.78 - ETA: 48s - loss: 3951.4446 - mean_absolute_error: 3951.44 - ETA: 48s - loss: 3951.2966 - mean_absolute_error: 3951.29 - ETA: 48s - loss: 3951.2756 - mean_absolute_error: 3951.27 - ETA: 48s - loss: 3950.7425 - mean_absolute_error: 3950.74 - ETA: 48s - loss: 3949.9536 - mean_absolute_error: 3949.95 - ETA: 48s - loss: 3949.1973 - mean_absolute_error: 3949.19 - ETA: 48s - loss: 3949.5098 - mean_absolute_error: 3949.50 - ETA: 48s - loss: 3949.8438 - mean_absolute_error: 3949.84 - ETA: 48s - loss: 3949.4036 - mean_absolute_error: 3949.40 - ETA: 47s - loss: 3949.7653 - mean_absolute_error: 3949.76 - ETA: 47s - loss: 3949.5795 - mean_absolute_error: 3949.57 - ETA: 47s - loss: 3949.0419 - mean_absolute_error: 3949.04 - ETA: 47s - loss: 3948.5959 - mean_absolute_error: 3948.59 - ETA: 47s - loss: 3948.3822 - mean_absolute_error: 3948.38 - ETA: 47s - loss: 3947.9301 - mean_absolute_error: 3947.93 - ETA: 47s - loss: 3948.0902 - mean_absolute_error: 3948.09 - ETA: 47s - loss: 3948.0979 - mean_absolute_error: 3948.09 - ETA: 47s - loss: 3947.9201 - mean_absolute_error: 3947.92 - ETA: 47s - loss: 3948.3062 - mean_absolute_error: 3948.30 - ETA: 47s - loss: 3948.2205 - mean_absolute_error: 3948.22 - ETA: 47s - loss: 3948.8374 - mean_absolute_error: 3948.83 - ETA: 46s - loss: 3948.5148 - mean_absolute_error: 3948.51 - ETA: 46s - loss: 3949.1631 - mean_absolute_error: 3949.16 - ETA: 46s - loss: 3948.7164 - mean_absolute_error: 3948.71 - ETA: 46s - loss: 3948.8645 - mean_absolute_error: 3948.86 - ETA: 46s - loss: 3948.6327 - mean_absolute_error: 3948.63 - ETA: 46s - loss: 3948.4894 - mean_absolute_error: 3948.48 - ETA: 46s - loss: 3948.6956 - mean_absolute_error: 3948.69 - ETA: 46s - loss: 3948.7136 - mean_absolute_error: 3948.71 - ETA: 46s - loss: 3948.2502 - mean_absolute_error: 3948.25 - ETA: 46s - loss: 3947.8380 - mean_absolute_error: 3947.83 - ETA: 46s - loss: 3947.2994 - mean_absolute_error: 3947.29 - ETA: 46s - loss: 3947.1013 - mean_absolute_error: 3947.10 - ETA: 46s - loss: 3946.8710 - mean_absolute_error: 3946.87 - ETA: 46s - loss: 3946.9063 - mean_absolute_error: 3946.90 - ETA: 46s - loss: 3946.5386 - mean_absolute_error: 3946.53 - ETA: 46s - loss: 3946.8327 - mean_absolute_error: 3946.83 - ETA: 45s - loss: 3947.0515 - mean_absolute_error: 3947.05 - ETA: 45s - loss: 3946.6177 - mean_absolute_error: 3946.61 - ETA: 45s - loss: 3947.2687 - mean_absolute_error: 3947.26 - ETA: 45s - loss: 3947.1042 - mean_absolute_error: 3947.10 - ETA: 45s - loss: 3947.0456 - mean_absolute_error: 3947.04 - ETA: 45s - loss: 3947.3264 - mean_absolute_error: 3947.32 - ETA: 45s - loss: 3947.1568 - mean_absolute_error: 3947.15 - ETA: 45s - loss: 3946.9755 - mean_absolute_error: 3946.97 - ETA: 45s - loss: 3946.6385 - mean_absolute_error: 3946.63 - ETA: 45s - loss: 3946.6548 - mean_absolute_error: 3946.65 - ETA: 45s - loss: 3946.2839 - mean_absolute_error: 3946.28 - ETA: 45s - loss: 3946.0324 - mean_absolute_error: 3946.03 - ETA: 45s - loss: 3946.2983 - mean_absolute_error: 3946.29 - ETA: 45s - loss: 3946.4720 - mean_absolute_error: 3946.47 - ETA: 44s - loss: 3946.2076 - mean_absolute_error: 3946.20 - ETA: 44s - loss: 3946.3007 - mean_absolute_error: 3946.30 - ETA: 44s - loss: 3946.4155 - mean_absolute_error: 3946.41 - ETA: 44s - loss: 3946.2955 - mean_absolute_error: 3946.29 - ETA: 44s - loss: 3945.6066 - mean_absolute_error: 3945.60 - ETA: 44s - loss: 3945.2083 - mean_absolute_error: 3945.20 - ETA: 44s - loss: 3945.0777 - mean_absolute_error: 3945.07 - ETA: 44s - loss: 3944.8709 - mean_absolute_error: 3944.87 - ETA: 44s - loss: 3944.5474 - mean_absolute_error: 3944.54 - ETA: 44s - loss: 3944.3744 - mean_absolute_error: 3944.37 - ETA: 44s - loss: 3944.1478 - mean_absolute_error: 3944.14 - ETA: 44s - loss: 3944.1829 - mean_absolute_error: 3944.18 - ETA: 44s - loss: 3943.8575 - mean_absolute_error: 3943.85 - ETA: 44s - loss: 3943.4570 - mean_absolute_error: 3943.45 - ETA: 44s - loss: 3943.2445 - mean_absolute_error: 3943.24 - ETA: 44s - loss: 3942.9496 - mean_absolute_error: 3942.94 - ETA: 44s - loss: 3943.1962 - mean_absolute_error: 3943.19 - ETA: 44s - loss: 3943.5225 - mean_absolute_error: 3943.52 - ETA: 44s - loss: 3943.0279 - mean_absolute_error: 3943.02 - ETA: 44s - loss: 3943.2881 - mean_absolute_error: 3943.28 - ETA: 44s - loss: 3943.0138 - mean_absolute_error: 3943.01 - ETA: 44s - loss: 3943.2379 - mean_absolute_error: 3943.23 - ETA: 44s - loss: 3943.4642 - mean_absolute_error: 3943.46 - ETA: 44s - loss: 3942.7018 - mean_absolute_error: 3942.70 - ETA: 44s - loss: 3942.9457 - mean_absolute_error: 3942.94 - ETA: 43s - loss: 3942.5713 - mean_absolute_error: 3942.57 - ETA: 43s - loss: 3942.1124 - mean_absolute_error: 3942.11 - ETA: 43s - loss: 3942.7997 - mean_absolute_error: 3942.79 - ETA: 43s - loss: 3942.6123 - mean_absolute_error: 3942.61 - ETA: 43s - loss: 3942.3625 - mean_absolute_error: 3942.36 - ETA: 43s - loss: 3942.1680 - mean_absolute_error: 3942.16 - ETA: 43s - loss: 3941.3906 - mean_absolute_error: 3941.39 - ETA: 43s - loss: 3941.5373 - mean_absolute_error: 3941.53 - ETA: 43s - loss: 3941.7722 - mean_absolute_error: 3941.77 - ETA: 43s - loss: 3941.9466 - mean_absolute_error: 3941.94 - ETA: 43s - loss: 3941.6687 - mean_absolute_error: 3941.66 - ETA: 43s - loss: 3941.6470 - mean_absolute_error: 3941.64 - ETA: 43s - loss: 3941.4885 - mean_absolute_error: 3941.48 - ETA: 43s - loss: 3941.5602 - mean_absolute_error: 3941.56 - ETA: 43s - loss: 3941.1136 - mean_absolute_error: 3941.11 - ETA: 42s - loss: 3941.5632 - mean_absolute_error: 3941.56 - ETA: 42s - loss: 3940.4449 - mean_absolute_error: 3940.44 - ETA: 42s - loss: 3940.3638 - mean_absolute_error: 3940.36 - ETA: 42s - loss: 3940.6027 - mean_absolute_error: 3940.60 - ETA: 42s - loss: 3940.9164 - mean_absolute_error: 3940.91 - ETA: 42s - loss: 3940.8085 - mean_absolute_error: 3940.80 - ETA: 42s - loss: 3940.9583 - mean_absolute_error: 3940.95 - ETA: 42s - loss: 3940.7771 - mean_absolute_error: 3940.77 - ETA: 42s - loss: 3940.6800 - mean_absolute_error: 3940.68 - ETA: 42s - loss: 3940.2045 - mean_absolute_error: 3940.20 - ETA: 42s - loss: 3940.3938 - mean_absolute_error: 3940.39 - ETA: 42s - loss: 3940.2220 - mean_absolute_error: 3940.22 - ETA: 42s - loss: 3939.8432 - mean_absolute_error: 3939.8432"
     ]
    },
    {
     "name": "stdout",
     "output_type": "stream",
     "text": [
      "227184/440054 [==============>...............] - ETA: 42s - loss: 3939.3706 - mean_absolute_error: 3939.37 - ETA: 42s - loss: 3939.4085 - mean_absolute_error: 3939.40 - ETA: 42s - loss: 3939.6653 - mean_absolute_error: 3939.66 - ETA: 41s - loss: 3938.5758 - mean_absolute_error: 3938.57 - ETA: 41s - loss: 3938.7693 - mean_absolute_error: 3938.76 - ETA: 41s - loss: 3938.5715 - mean_absolute_error: 3938.57 - ETA: 41s - loss: 3938.5997 - mean_absolute_error: 3938.59 - ETA: 41s - loss: 3938.0964 - mean_absolute_error: 3938.09 - ETA: 41s - loss: 3937.6677 - mean_absolute_error: 3937.66 - ETA: 41s - loss: 3937.3356 - mean_absolute_error: 3937.33 - ETA: 41s - loss: 3936.9464 - mean_absolute_error: 3936.94 - ETA: 41s - loss: 3936.8983 - mean_absolute_error: 3936.89 - ETA: 41s - loss: 3936.7751 - mean_absolute_error: 3936.77 - ETA: 41s - loss: 3936.4931 - mean_absolute_error: 3936.49 - ETA: 41s - loss: 3935.6732 - mean_absolute_error: 3935.67 - ETA: 41s - loss: 3935.0358 - mean_absolute_error: 3935.03 - ETA: 41s - loss: 3934.5332 - mean_absolute_error: 3934.53 - ETA: 41s - loss: 3934.4837 - mean_absolute_error: 3934.48 - ETA: 40s - loss: 3933.9645 - mean_absolute_error: 3933.96 - ETA: 40s - loss: 3933.7815 - mean_absolute_error: 3933.78 - ETA: 40s - loss: 3933.4796 - mean_absolute_error: 3933.47 - ETA: 40s - loss: 3932.6681 - mean_absolute_error: 3932.66 - ETA: 40s - loss: 3932.1794 - mean_absolute_error: 3932.17 - ETA: 40s - loss: 3932.1121 - mean_absolute_error: 3932.11 - ETA: 40s - loss: 3932.2120 - mean_absolute_error: 3932.21 - ETA: 40s - loss: 3932.2470 - mean_absolute_error: 3932.24 - ETA: 40s - loss: 3932.5088 - mean_absolute_error: 3932.50 - ETA: 40s - loss: 3932.4211 - mean_absolute_error: 3932.42 - ETA: 40s - loss: 3932.5783 - mean_absolute_error: 3932.57 - ETA: 40s - loss: 3932.2898 - mean_absolute_error: 3932.28 - ETA: 40s - loss: 3932.1234 - mean_absolute_error: 3932.12 - ETA: 39s - loss: 3932.3282 - mean_absolute_error: 3932.32 - ETA: 39s - loss: 3932.8900 - mean_absolute_error: 3932.89 - ETA: 39s - loss: 3932.3804 - mean_absolute_error: 3932.38 - ETA: 39s - loss: 3932.6639 - mean_absolute_error: 3932.66 - ETA: 39s - loss: 3933.3179 - mean_absolute_error: 3933.31 - ETA: 39s - loss: 3933.3090 - mean_absolute_error: 3933.30 - ETA: 39s - loss: 3933.5877 - mean_absolute_error: 3933.58 - ETA: 39s - loss: 3933.3226 - mean_absolute_error: 3933.32 - ETA: 39s - loss: 3934.0279 - mean_absolute_error: 3934.02 - ETA: 39s - loss: 3933.6957 - mean_absolute_error: 3933.69 - ETA: 39s - loss: 3934.0164 - mean_absolute_error: 3934.01 - ETA: 39s - loss: 3934.7003 - mean_absolute_error: 3934.70 - ETA: 39s - loss: 3935.0092 - mean_absolute_error: 3935.00 - ETA: 39s - loss: 3935.0621 - mean_absolute_error: 3935.06 - ETA: 38s - loss: 3934.3570 - mean_absolute_error: 3934.35 - ETA: 38s - loss: 3934.3953 - mean_absolute_error: 3934.39 - ETA: 38s - loss: 3934.4284 - mean_absolute_error: 3934.42 - ETA: 38s - loss: 3934.5905 - mean_absolute_error: 3934.59 - ETA: 38s - loss: 3934.8100 - mean_absolute_error: 3934.81 - ETA: 38s - loss: 3934.5434 - mean_absolute_error: 3934.54 - ETA: 38s - loss: 3934.6014 - mean_absolute_error: 3934.60 - ETA: 38s - loss: 3934.7378 - mean_absolute_error: 3934.73 - ETA: 38s - loss: 3934.3216 - mean_absolute_error: 3934.32 - ETA: 38s - loss: 3934.0918 - mean_absolute_error: 3934.09 - ETA: 38s - loss: 3933.7408 - mean_absolute_error: 3933.74 - ETA: 38s - loss: 3933.9433 - mean_absolute_error: 3933.94 - ETA: 38s - loss: 3934.5319 - mean_absolute_error: 3934.53 - ETA: 38s - loss: 3934.7188 - mean_absolute_error: 3934.71 - ETA: 38s - loss: 3934.0858 - mean_absolute_error: 3934.08 - ETA: 37s - loss: 3933.4606 - mean_absolute_error: 3933.46 - ETA: 37s - loss: 3933.1070 - mean_absolute_error: 3933.10 - ETA: 37s - loss: 3932.8761 - mean_absolute_error: 3932.87 - ETA: 37s - loss: 3932.9409 - mean_absolute_error: 3932.94 - ETA: 37s - loss: 3932.8831 - mean_absolute_error: 3932.88 - ETA: 37s - loss: 3933.1011 - mean_absolute_error: 3933.10 - ETA: 37s - loss: 3932.5184 - mean_absolute_error: 3932.51 - ETA: 37s - loss: 3932.2796 - mean_absolute_error: 3932.27 - ETA: 37s - loss: 3932.0115 - mean_absolute_error: 3932.01 - ETA: 37s - loss: 3931.6587 - mean_absolute_error: 3931.65 - ETA: 37s - loss: 3931.7470 - mean_absolute_error: 3931.74 - ETA: 37s - loss: 3931.7784 - mean_absolute_error: 3931.77 - ETA: 37s - loss: 3932.0263 - mean_absolute_error: 3932.02 - ETA: 37s - loss: 3931.3699 - mean_absolute_error: 3931.36 - ETA: 37s - loss: 3931.5386 - mean_absolute_error: 3931.53 - ETA: 37s - loss: 3930.9773 - mean_absolute_error: 3930.97 - ETA: 37s - loss: 3931.3994 - mean_absolute_error: 3931.39 - ETA: 37s - loss: 3930.9912 - mean_absolute_error: 3930.99 - ETA: 37s - loss: 3930.6832 - mean_absolute_error: 3930.68 - ETA: 37s - loss: 3930.7471 - mean_absolute_error: 3930.74 - ETA: 37s - loss: 3930.3008 - mean_absolute_error: 3930.30 - ETA: 36s - loss: 3930.2303 - mean_absolute_error: 3930.23 - ETA: 36s - loss: 3930.0454 - mean_absolute_error: 3930.04 - ETA: 36s - loss: 3930.0513 - mean_absolute_error: 3930.05 - ETA: 36s - loss: 3929.9376 - mean_absolute_error: 3929.93 - ETA: 36s - loss: 3930.0015 - mean_absolute_error: 3930.00 - ETA: 36s - loss: 3929.8611 - mean_absolute_error: 3929.86 - ETA: 36s - loss: 3929.7037 - mean_absolute_error: 3929.70 - ETA: 36s - loss: 3929.8773 - mean_absolute_error: 3929.87 - ETA: 36s - loss: 3930.0844 - mean_absolute_error: 3930.08 - ETA: 36s - loss: 3929.6903 - mean_absolute_error: 3929.69 - ETA: 36s - loss: 3929.6734 - mean_absolute_error: 3929.67 - ETA: 36s - loss: 3929.7625 - mean_absolute_error: 3929.76 - ETA: 36s - loss: 3930.1275 - mean_absolute_error: 3930.12 - ETA: 36s - loss: 3930.1522 - mean_absolute_error: 3930.15 - ETA: 36s - loss: 3930.3319 - mean_absolute_error: 3930.33 - ETA: 35s - loss: 3930.1334 - mean_absolute_error: 3930.13 - ETA: 35s - loss: 3929.9278 - mean_absolute_error: 3929.92 - ETA: 35s - loss: 3930.2084 - mean_absolute_error: 3930.20 - ETA: 35s - loss: 3930.1956 - mean_absolute_error: 3930.19 - ETA: 35s - loss: 3930.3998 - mean_absolute_error: 3930.39 - ETA: 35s - loss: 3929.8234 - mean_absolute_error: 3929.82 - ETA: 35s - loss: 3929.9898 - mean_absolute_error: 3929.98 - ETA: 35s - loss: 3929.8952 - mean_absolute_error: 3929.89 - ETA: 35s - loss: 3930.6132 - mean_absolute_error: 3930.61 - ETA: 35s - loss: 3931.0025 - mean_absolute_error: 3931.00 - ETA: 35s - loss: 3930.9693 - mean_absolute_error: 3930.96 - ETA: 35s - loss: 3931.2681 - mean_absolute_error: 3931.26 - ETA: 35s - loss: 3931.2582 - mean_absolute_error: 3931.25 - ETA: 35s - loss: 3930.8508 - mean_absolute_error: 3930.85 - ETA: 35s - loss: 3930.5999 - mean_absolute_error: 3930.59 - ETA: 34s - loss: 3930.0613 - mean_absolute_error: 3930.06 - ETA: 34s - loss: 3930.4612 - mean_absolute_error: 3930.46 - ETA: 34s - loss: 3930.8453 - mean_absolute_error: 3930.84 - ETA: 34s - loss: 3930.5625 - mean_absolute_error: 3930.56 - ETA: 34s - loss: 3930.4544 - mean_absolute_error: 3930.45 - ETA: 34s - loss: 3929.9088 - mean_absolute_error: 3929.90 - ETA: 34s - loss: 3930.4292 - mean_absolute_error: 3930.42 - ETA: 34s - loss: 3930.4718 - mean_absolute_error: 3930.47 - ETA: 34s - loss: 3929.8862 - mean_absolute_error: 3929.88 - ETA: 34s - loss: 3930.3760 - mean_absolute_error: 3930.37 - ETA: 34s - loss: 3930.0121 - mean_absolute_error: 3930.01 - ETA: 34s - loss: 3929.8545 - mean_absolute_error: 3929.85 - ETA: 34s - loss: 3929.6556 - mean_absolute_error: 3929.65 - ETA: 34s - loss: 3929.8277 - mean_absolute_error: 3929.82 - ETA: 34s - loss: 3929.5710 - mean_absolute_error: 3929.57 - ETA: 33s - loss: 3930.0413 - mean_absolute_error: 3930.04 - ETA: 33s - loss: 3929.9584 - mean_absolute_error: 3929.95 - ETA: 33s - loss: 3929.4115 - mean_absolute_error: 3929.41 - ETA: 33s - loss: 3929.1565 - mean_absolute_error: 3929.15 - ETA: 33s - loss: 3929.3086 - mean_absolute_error: 3929.30 - ETA: 33s - loss: 3929.1553 - mean_absolute_error: 3929.15 - ETA: 33s - loss: 3929.4179 - mean_absolute_error: 3929.41 - ETA: 33s - loss: 3928.8025 - mean_absolute_error: 3928.80 - ETA: 33s - loss: 3928.8379 - mean_absolute_error: 3928.83 - ETA: 33s - loss: 3929.0579 - mean_absolute_error: 3929.0579"
     ]
    },
    {
     "name": "stdout",
     "output_type": "stream",
     "text": [
      "275808/440054 [=================>............] - ETA: 33s - loss: 3928.9060 - mean_absolute_error: 3928.90 - ETA: 33s - loss: 3929.1323 - mean_absolute_error: 3929.13 - ETA: 33s - loss: 3929.0970 - mean_absolute_error: 3929.09 - ETA: 33s - loss: 3929.0137 - mean_absolute_error: 3929.01 - ETA: 33s - loss: 3929.2645 - mean_absolute_error: 3929.26 - ETA: 33s - loss: 3928.8076 - mean_absolute_error: 3928.80 - ETA: 33s - loss: 3929.3569 - mean_absolute_error: 3929.35 - ETA: 33s - loss: 3929.8976 - mean_absolute_error: 3929.89 - ETA: 33s - loss: 3929.9210 - mean_absolute_error: 3929.92 - ETA: 32s - loss: 3930.2350 - mean_absolute_error: 3930.23 - ETA: 32s - loss: 3930.1191 - mean_absolute_error: 3930.11 - ETA: 32s - loss: 3930.1015 - mean_absolute_error: 3930.10 - ETA: 32s - loss: 3930.2721 - mean_absolute_error: 3930.27 - ETA: 32s - loss: 3930.2035 - mean_absolute_error: 3930.20 - ETA: 32s - loss: 3930.2806 - mean_absolute_error: 3930.28 - ETA: 32s - loss: 3930.1974 - mean_absolute_error: 3930.19 - ETA: 32s - loss: 3929.8606 - mean_absolute_error: 3929.86 - ETA: 32s - loss: 3930.1239 - mean_absolute_error: 3930.12 - ETA: 32s - loss: 3929.7094 - mean_absolute_error: 3929.70 - ETA: 32s - loss: 3929.8491 - mean_absolute_error: 3929.84 - ETA: 32s - loss: 3929.3116 - mean_absolute_error: 3929.31 - ETA: 32s - loss: 3929.2724 - mean_absolute_error: 3929.27 - ETA: 32s - loss: 3929.3952 - mean_absolute_error: 3929.39 - ETA: 32s - loss: 3929.5438 - mean_absolute_error: 3929.54 - ETA: 32s - loss: 3929.5430 - mean_absolute_error: 3929.54 - ETA: 32s - loss: 3929.5178 - mean_absolute_error: 3929.51 - ETA: 32s - loss: 3929.0876 - mean_absolute_error: 3929.08 - ETA: 32s - loss: 3928.7123 - mean_absolute_error: 3928.71 - ETA: 31s - loss: 3928.7300 - mean_absolute_error: 3928.73 - ETA: 31s - loss: 3928.4065 - mean_absolute_error: 3928.40 - ETA: 31s - loss: 3928.1803 - mean_absolute_error: 3928.18 - ETA: 31s - loss: 3927.8937 - mean_absolute_error: 3927.89 - ETA: 31s - loss: 3927.6937 - mean_absolute_error: 3927.69 - ETA: 31s - loss: 3927.7334 - mean_absolute_error: 3927.73 - ETA: 31s - loss: 3927.5896 - mean_absolute_error: 3927.58 - ETA: 31s - loss: 3927.2486 - mean_absolute_error: 3927.24 - ETA: 31s - loss: 3927.2156 - mean_absolute_error: 3927.21 - ETA: 31s - loss: 3927.1365 - mean_absolute_error: 3927.13 - ETA: 31s - loss: 3927.5821 - mean_absolute_error: 3927.58 - ETA: 31s - loss: 3927.5620 - mean_absolute_error: 3927.56 - ETA: 31s - loss: 3927.4801 - mean_absolute_error: 3927.48 - ETA: 31s - loss: 3927.0096 - mean_absolute_error: 3927.00 - ETA: 31s - loss: 3927.2805 - mean_absolute_error: 3927.28 - ETA: 31s - loss: 3927.2271 - mean_absolute_error: 3927.22 - ETA: 31s - loss: 3926.7938 - mean_absolute_error: 3926.79 - ETA: 31s - loss: 3926.7728 - mean_absolute_error: 3926.77 - ETA: 31s - loss: 3926.7452 - mean_absolute_error: 3926.74 - ETA: 31s - loss: 3926.9580 - mean_absolute_error: 3926.95 - ETA: 30s - loss: 3926.9994 - mean_absolute_error: 3926.99 - ETA: 30s - loss: 3926.9812 - mean_absolute_error: 3926.98 - ETA: 30s - loss: 3927.1719 - mean_absolute_error: 3927.17 - ETA: 30s - loss: 3927.0381 - mean_absolute_error: 3927.03 - ETA: 30s - loss: 3926.7931 - mean_absolute_error: 3926.79 - ETA: 30s - loss: 3926.5319 - mean_absolute_error: 3926.53 - ETA: 30s - loss: 3926.3252 - mean_absolute_error: 3926.32 - ETA: 30s - loss: 3926.4726 - mean_absolute_error: 3926.47 - ETA: 30s - loss: 3926.7912 - mean_absolute_error: 3926.79 - ETA: 30s - loss: 3926.8962 - mean_absolute_error: 3926.89 - ETA: 30s - loss: 3927.3316 - mean_absolute_error: 3927.33 - ETA: 30s - loss: 3927.2604 - mean_absolute_error: 3927.26 - ETA: 30s - loss: 3926.9352 - mean_absolute_error: 3926.93 - ETA: 30s - loss: 3926.6559 - mean_absolute_error: 3926.65 - ETA: 30s - loss: 3926.4559 - mean_absolute_error: 3926.45 - ETA: 30s - loss: 3926.6192 - mean_absolute_error: 3926.61 - ETA: 30s - loss: 3926.5690 - mean_absolute_error: 3926.56 - ETA: 30s - loss: 3926.2499 - mean_absolute_error: 3926.24 - ETA: 29s - loss: 3926.5732 - mean_absolute_error: 3926.57 - ETA: 29s - loss: 3926.3845 - mean_absolute_error: 3926.38 - ETA: 29s - loss: 3926.7149 - mean_absolute_error: 3926.71 - ETA: 29s - loss: 3926.3633 - mean_absolute_error: 3926.36 - ETA: 29s - loss: 3926.2539 - mean_absolute_error: 3926.25 - ETA: 29s - loss: 3925.9232 - mean_absolute_error: 3925.92 - ETA: 29s - loss: 3926.1752 - mean_absolute_error: 3926.17 - ETA: 29s - loss: 3926.1479 - mean_absolute_error: 3926.14 - ETA: 29s - loss: 3926.3457 - mean_absolute_error: 3926.34 - ETA: 29s - loss: 3926.5952 - mean_absolute_error: 3926.59 - ETA: 29s - loss: 3926.8134 - mean_absolute_error: 3926.81 - ETA: 29s - loss: 3926.6094 - mean_absolute_error: 3926.60 - ETA: 29s - loss: 3926.5819 - mean_absolute_error: 3926.58 - ETA: 29s - loss: 3926.9176 - mean_absolute_error: 3926.91 - ETA: 29s - loss: 3926.6104 - mean_absolute_error: 3926.61 - ETA: 28s - loss: 3926.3238 - mean_absolute_error: 3926.32 - ETA: 28s - loss: 3926.1590 - mean_absolute_error: 3926.15 - ETA: 28s - loss: 3925.6747 - mean_absolute_error: 3925.67 - ETA: 28s - loss: 3925.6199 - mean_absolute_error: 3925.61 - ETA: 28s - loss: 3925.4354 - mean_absolute_error: 3925.43 - ETA: 28s - loss: 3925.4483 - mean_absolute_error: 3925.44 - ETA: 28s - loss: 3924.9488 - mean_absolute_error: 3924.94 - ETA: 28s - loss: 3925.2297 - mean_absolute_error: 3925.22 - ETA: 28s - loss: 3925.0277 - mean_absolute_error: 3925.02 - ETA: 28s - loss: 3925.2441 - mean_absolute_error: 3925.24 - ETA: 28s - loss: 3925.3429 - mean_absolute_error: 3925.34 - ETA: 28s - loss: 3925.5112 - mean_absolute_error: 3925.51 - ETA: 28s - loss: 3925.6410 - mean_absolute_error: 3925.64 - ETA: 28s - loss: 3925.5500 - mean_absolute_error: 3925.55 - ETA: 28s - loss: 3925.6733 - mean_absolute_error: 3925.67 - ETA: 27s - loss: 3925.2421 - mean_absolute_error: 3925.24 - ETA: 27s - loss: 3925.1170 - mean_absolute_error: 3925.11 - ETA: 27s - loss: 3924.7858 - mean_absolute_error: 3924.78 - ETA: 27s - loss: 3925.0573 - mean_absolute_error: 3925.05 - ETA: 27s - loss: 3925.0841 - mean_absolute_error: 3925.08 - ETA: 27s - loss: 3925.1334 - mean_absolute_error: 3925.13 - ETA: 27s - loss: 3925.0644 - mean_absolute_error: 3925.06 - ETA: 27s - loss: 3924.6959 - mean_absolute_error: 3924.69 - ETA: 27s - loss: 3924.6306 - mean_absolute_error: 3924.63 - ETA: 27s - loss: 3924.5525 - mean_absolute_error: 3924.55 - ETA: 27s - loss: 3924.9895 - mean_absolute_error: 3924.98 - ETA: 27s - loss: 3924.6693 - mean_absolute_error: 3924.66 - ETA: 27s - loss: 3924.8995 - mean_absolute_error: 3924.89 - ETA: 27s - loss: 3924.9593 - mean_absolute_error: 3924.95 - ETA: 27s - loss: 3925.0979 - mean_absolute_error: 3925.09 - ETA: 27s - loss: 3925.1744 - mean_absolute_error: 3925.17 - ETA: 26s - loss: 3925.0453 - mean_absolute_error: 3925.04 - ETA: 26s - loss: 3924.8055 - mean_absolute_error: 3924.80 - ETA: 26s - loss: 3924.8162 - mean_absolute_error: 3924.81 - ETA: 26s - loss: 3924.5303 - mean_absolute_error: 3924.53 - ETA: 26s - loss: 3924.4621 - mean_absolute_error: 3924.46 - ETA: 26s - loss: 3924.3963 - mean_absolute_error: 3924.39 - ETA: 26s - loss: 3924.8321 - mean_absolute_error: 3924.83 - ETA: 26s - loss: 3924.5287 - mean_absolute_error: 3924.52 - ETA: 26s - loss: 3924.3707 - mean_absolute_error: 3924.37 - ETA: 26s - loss: 3924.6283 - mean_absolute_error: 3924.62 - ETA: 26s - loss: 3924.8191 - mean_absolute_error: 3924.81 - ETA: 26s - loss: 3924.6638 - mean_absolute_error: 3924.66 - ETA: 26s - loss: 3924.5880 - mean_absolute_error: 3924.58 - ETA: 26s - loss: 3924.5265 - mean_absolute_error: 3924.52 - ETA: 26s - loss: 3924.6017 - mean_absolute_error: 3924.60 - ETA: 26s - loss: 3924.4794 - mean_absolute_error: 3924.47 - ETA: 25s - loss: 3925.0671 - mean_absolute_error: 3925.06 - ETA: 25s - loss: 3925.4355 - mean_absolute_error: 3925.43 - ETA: 25s - loss: 3925.4838 - mean_absolute_error: 3925.48 - ETA: 25s - loss: 3925.5268 - mean_absolute_error: 3925.52 - ETA: 25s - loss: 3925.7918 - mean_absolute_error: 3925.79 - ETA: 25s - loss: 3926.1611 - mean_absolute_error: 3926.16 - ETA: 25s - loss: 3926.0519 - mean_absolute_error: 3926.05 - ETA: 25s - loss: 3926.0891 - mean_absolute_error: 3926.0891"
     ]
    },
    {
     "name": "stdout",
     "output_type": "stream",
     "text": [
      "317232/440054 [====================>.........] - ETA: 25s - loss: 3926.0622 - mean_absolute_error: 3926.06 - ETA: 25s - loss: 3925.7940 - mean_absolute_error: 3925.79 - ETA: 25s - loss: 3925.9187 - mean_absolute_error: 3925.91 - ETA: 25s - loss: 3925.9242 - mean_absolute_error: 3925.92 - ETA: 25s - loss: 3925.7771 - mean_absolute_error: 3925.77 - ETA: 25s - loss: 3925.8655 - mean_absolute_error: 3925.86 - ETA: 25s - loss: 3925.8045 - mean_absolute_error: 3925.80 - ETA: 24s - loss: 3925.7362 - mean_absolute_error: 3925.73 - ETA: 24s - loss: 3925.6630 - mean_absolute_error: 3925.66 - ETA: 24s - loss: 3925.3886 - mean_absolute_error: 3925.38 - ETA: 24s - loss: 3925.1866 - mean_absolute_error: 3925.18 - ETA: 24s - loss: 3925.3568 - mean_absolute_error: 3925.35 - ETA: 24s - loss: 3925.3069 - mean_absolute_error: 3925.30 - ETA: 24s - loss: 3925.1614 - mean_absolute_error: 3925.16 - ETA: 24s - loss: 3925.1832 - mean_absolute_error: 3925.18 - ETA: 24s - loss: 3925.2159 - mean_absolute_error: 3925.21 - ETA: 24s - loss: 3925.2683 - mean_absolute_error: 3925.26 - ETA: 24s - loss: 3925.1499 - mean_absolute_error: 3925.14 - ETA: 24s - loss: 3925.6048 - mean_absolute_error: 3925.60 - ETA: 24s - loss: 3925.8996 - mean_absolute_error: 3925.89 - ETA: 24s - loss: 3926.0156 - mean_absolute_error: 3926.01 - ETA: 24s - loss: 3925.8318 - mean_absolute_error: 3925.83 - ETA: 24s - loss: 3925.9718 - mean_absolute_error: 3925.97 - ETA: 24s - loss: 3925.5797 - mean_absolute_error: 3925.57 - ETA: 24s - loss: 3925.7974 - mean_absolute_error: 3925.79 - ETA: 24s - loss: 3925.6695 - mean_absolute_error: 3925.66 - ETA: 24s - loss: 3926.1829 - mean_absolute_error: 3926.18 - ETA: 24s - loss: 3926.2339 - mean_absolute_error: 3926.23 - ETA: 24s - loss: 3926.3568 - mean_absolute_error: 3926.35 - ETA: 24s - loss: 3926.6336 - mean_absolute_error: 3926.63 - ETA: 24s - loss: 3926.6941 - mean_absolute_error: 3926.69 - ETA: 24s - loss: 3926.5938 - mean_absolute_error: 3926.59 - ETA: 24s - loss: 3926.7981 - mean_absolute_error: 3926.79 - ETA: 24s - loss: 3926.6783 - mean_absolute_error: 3926.67 - ETA: 24s - loss: 3926.5852 - mean_absolute_error: 3926.58 - ETA: 24s - loss: 3926.5986 - mean_absolute_error: 3926.59 - ETA: 23s - loss: 3926.5366 - mean_absolute_error: 3926.53 - ETA: 23s - loss: 3926.7512 - mean_absolute_error: 3926.75 - ETA: 23s - loss: 3926.7015 - mean_absolute_error: 3926.70 - ETA: 23s - loss: 3926.5765 - mean_absolute_error: 3926.57 - ETA: 23s - loss: 3926.5072 - mean_absolute_error: 3926.50 - ETA: 23s - loss: 3926.4331 - mean_absolute_error: 3926.43 - ETA: 23s - loss: 3926.1416 - mean_absolute_error: 3926.14 - ETA: 23s - loss: 3925.7970 - mean_absolute_error: 3925.79 - ETA: 23s - loss: 3925.5784 - mean_absolute_error: 3925.57 - ETA: 23s - loss: 3925.4497 - mean_absolute_error: 3925.44 - ETA: 23s - loss: 3925.1349 - mean_absolute_error: 3925.13 - ETA: 23s - loss: 3925.0852 - mean_absolute_error: 3925.08 - ETA: 23s - loss: 3925.0039 - mean_absolute_error: 3925.00 - ETA: 23s - loss: 3924.9935 - mean_absolute_error: 3924.99 - ETA: 23s - loss: 3924.9045 - mean_absolute_error: 3924.90 - ETA: 23s - loss: 3924.7958 - mean_absolute_error: 3924.79 - ETA: 23s - loss: 3924.9168 - mean_absolute_error: 3924.91 - ETA: 23s - loss: 3924.8919 - mean_absolute_error: 3924.89 - ETA: 23s - loss: 3924.5015 - mean_absolute_error: 3924.50 - ETA: 23s - loss: 3924.2143 - mean_absolute_error: 3924.21 - ETA: 23s - loss: 3924.3771 - mean_absolute_error: 3924.37 - ETA: 22s - loss: 3924.5489 - mean_absolute_error: 3924.54 - ETA: 22s - loss: 3924.4191 - mean_absolute_error: 3924.41 - ETA: 22s - loss: 3924.1353 - mean_absolute_error: 3924.13 - ETA: 22s - loss: 3923.8498 - mean_absolute_error: 3923.84 - ETA: 22s - loss: 3923.6890 - mean_absolute_error: 3923.68 - ETA: 22s - loss: 3923.7195 - mean_absolute_error: 3923.71 - ETA: 22s - loss: 3923.8400 - mean_absolute_error: 3923.84 - ETA: 22s - loss: 3923.8297 - mean_absolute_error: 3923.82 - ETA: 22s - loss: 3923.7355 - mean_absolute_error: 3923.73 - ETA: 22s - loss: 3923.6127 - mean_absolute_error: 3923.61 - ETA: 22s - loss: 3923.9338 - mean_absolute_error: 3923.93 - ETA: 22s - loss: 3923.9116 - mean_absolute_error: 3923.91 - ETA: 22s - loss: 3923.9855 - mean_absolute_error: 3923.98 - ETA: 22s - loss: 3924.1971 - mean_absolute_error: 3924.19 - ETA: 22s - loss: 3923.9947 - mean_absolute_error: 3923.99 - ETA: 22s - loss: 3924.0508 - mean_absolute_error: 3924.05 - ETA: 22s - loss: 3924.0344 - mean_absolute_error: 3924.03 - ETA: 22s - loss: 3924.0499 - mean_absolute_error: 3924.04 - ETA: 22s - loss: 3924.0375 - mean_absolute_error: 3924.03 - ETA: 22s - loss: 3923.8875 - mean_absolute_error: 3923.88 - ETA: 22s - loss: 3924.1008 - mean_absolute_error: 3924.10 - ETA: 22s - loss: 3924.3463 - mean_absolute_error: 3924.34 - ETA: 21s - loss: 3924.2747 - mean_absolute_error: 3924.27 - ETA: 21s - loss: 3924.5030 - mean_absolute_error: 3924.50 - ETA: 21s - loss: 3924.9731 - mean_absolute_error: 3924.97 - ETA: 21s - loss: 3925.0549 - mean_absolute_error: 3925.05 - ETA: 21s - loss: 3925.1928 - mean_absolute_error: 3925.19 - ETA: 21s - loss: 3925.1392 - mean_absolute_error: 3925.13 - ETA: 21s - loss: 3924.9761 - mean_absolute_error: 3924.97 - ETA: 21s - loss: 3925.2315 - mean_absolute_error: 3925.23 - ETA: 21s - loss: 3925.0845 - mean_absolute_error: 3925.08 - ETA: 21s - loss: 3925.2554 - mean_absolute_error: 3925.25 - ETA: 21s - loss: 3925.3704 - mean_absolute_error: 3925.37 - ETA: 21s - loss: 3925.2761 - mean_absolute_error: 3925.27 - ETA: 21s - loss: 3925.1312 - mean_absolute_error: 3925.13 - ETA: 21s - loss: 3925.2659 - mean_absolute_error: 3925.26 - ETA: 21s - loss: 3925.2383 - mean_absolute_error: 3925.23 - ETA: 21s - loss: 3925.3144 - mean_absolute_error: 3925.31 - ETA: 21s - loss: 3925.4094 - mean_absolute_error: 3925.40 - ETA: 21s - loss: 3925.2419 - mean_absolute_error: 3925.24 - ETA: 21s - loss: 3924.9543 - mean_absolute_error: 3924.95 - ETA: 21s - loss: 3924.7315 - mean_absolute_error: 3924.73 - ETA: 20s - loss: 3924.6362 - mean_absolute_error: 3924.63 - ETA: 20s - loss: 3924.7715 - mean_absolute_error: 3924.77 - ETA: 20s - loss: 3925.0085 - mean_absolute_error: 3925.00 - ETA: 20s - loss: 3924.7931 - mean_absolute_error: 3924.79 - ETA: 20s - loss: 3924.6607 - mean_absolute_error: 3924.66 - ETA: 20s - loss: 3924.7336 - mean_absolute_error: 3924.73 - ETA: 20s - loss: 3924.5036 - mean_absolute_error: 3924.50 - ETA: 20s - loss: 3924.5770 - mean_absolute_error: 3924.57 - ETA: 20s - loss: 3924.9004 - mean_absolute_error: 3924.90 - ETA: 20s - loss: 3925.1058 - mean_absolute_error: 3925.10 - ETA: 20s - loss: 3924.9606 - mean_absolute_error: 3924.96 - ETA: 20s - loss: 3924.8480 - mean_absolute_error: 3924.84 - ETA: 20s - loss: 3924.7715 - mean_absolute_error: 3924.77 - ETA: 20s - loss: 3924.5885 - mean_absolute_error: 3924.58 - ETA: 20s - loss: 3924.7692 - mean_absolute_error: 3924.76 - ETA: 20s - loss: 3925.1513 - mean_absolute_error: 3925.15 - ETA: 20s - loss: 3925.3867 - mean_absolute_error: 3925.38 - ETA: 20s - loss: 3925.3228 - mean_absolute_error: 3925.32 - ETA: 20s - loss: 3925.3800 - mean_absolute_error: 3925.38 - ETA: 20s - loss: 3925.3321 - mean_absolute_error: 3925.33 - ETA: 20s - loss: 3925.4908 - mean_absolute_error: 3925.49 - ETA: 19s - loss: 3925.4431 - mean_absolute_error: 3925.44 - ETA: 19s - loss: 3925.6024 - mean_absolute_error: 3925.60 - ETA: 19s - loss: 3925.5431 - mean_absolute_error: 3925.54 - ETA: 19s - loss: 3925.5767 - mean_absolute_error: 3925.57 - ETA: 19s - loss: 3925.9874 - mean_absolute_error: 3925.98 - ETA: 19s - loss: 3926.2403 - mean_absolute_error: 3926.24 - ETA: 19s - loss: 3926.1853 - mean_absolute_error: 3926.18 - ETA: 19s - loss: 3925.9512 - mean_absolute_error: 3925.95 - ETA: 19s - loss: 3925.7321 - mean_absolute_error: 3925.73 - ETA: 19s - loss: 3925.5613 - mean_absolute_error: 3925.56 - ETA: 19s - loss: 3925.4733 - mean_absolute_error: 3925.47 - ETA: 19s - loss: 3925.5646 - mean_absolute_error: 3925.56 - ETA: 19s - loss: 3925.5268 - mean_absolute_error: 3925.52 - ETA: 19s - loss: 3925.4981 - mean_absolute_error: 3925.49 - ETA: 19s - loss: 3925.5952 - mean_absolute_error: 3925.59 - ETA: 19s - loss: 3925.9070 - mean_absolute_error: 3925.9070"
     ]
    },
    {
     "name": "stdout",
     "output_type": "stream",
     "text": [
      "364736/440054 [=======================>......] - ETA: 19s - loss: 3925.5522 - mean_absolute_error: 3925.55 - ETA: 19s - loss: 3925.7412 - mean_absolute_error: 3925.74 - ETA: 19s - loss: 3925.3940 - mean_absolute_error: 3925.39 - ETA: 19s - loss: 3925.1011 - mean_absolute_error: 3925.10 - ETA: 19s - loss: 3925.1438 - mean_absolute_error: 3925.14 - ETA: 19s - loss: 3925.1507 - mean_absolute_error: 3925.15 - ETA: 18s - loss: 3925.3839 - mean_absolute_error: 3925.38 - ETA: 18s - loss: 3925.3759 - mean_absolute_error: 3925.37 - ETA: 18s - loss: 3925.4987 - mean_absolute_error: 3925.49 - ETA: 18s - loss: 3925.5010 - mean_absolute_error: 3925.50 - ETA: 18s - loss: 3925.6634 - mean_absolute_error: 3925.66 - ETA: 18s - loss: 3925.6931 - mean_absolute_error: 3925.69 - ETA: 18s - loss: 3925.7715 - mean_absolute_error: 3925.77 - ETA: 18s - loss: 3925.7583 - mean_absolute_error: 3925.75 - ETA: 18s - loss: 3925.8377 - mean_absolute_error: 3925.83 - ETA: 18s - loss: 3925.8859 - mean_absolute_error: 3925.88 - ETA: 18s - loss: 3926.1258 - mean_absolute_error: 3926.12 - ETA: 18s - loss: 3925.7780 - mean_absolute_error: 3925.77 - ETA: 18s - loss: 3925.9205 - mean_absolute_error: 3925.92 - ETA: 18s - loss: 3925.7599 - mean_absolute_error: 3925.75 - ETA: 18s - loss: 3925.8039 - mean_absolute_error: 3925.80 - ETA: 18s - loss: 3925.7308 - mean_absolute_error: 3925.73 - ETA: 17s - loss: 3925.6167 - mean_absolute_error: 3925.61 - ETA: 17s - loss: 3925.5482 - mean_absolute_error: 3925.54 - ETA: 17s - loss: 3926.3164 - mean_absolute_error: 3926.31 - ETA: 17s - loss: 3926.1364 - mean_absolute_error: 3926.13 - ETA: 17s - loss: 3925.9765 - mean_absolute_error: 3925.97 - ETA: 17s - loss: 3926.1561 - mean_absolute_error: 3926.15 - ETA: 17s - loss: 3926.6015 - mean_absolute_error: 3926.60 - ETA: 17s - loss: 3926.4875 - mean_absolute_error: 3926.48 - ETA: 17s - loss: 3926.5314 - mean_absolute_error: 3926.53 - ETA: 17s - loss: 3926.0775 - mean_absolute_error: 3926.07 - ETA: 17s - loss: 3925.9505 - mean_absolute_error: 3925.95 - ETA: 17s - loss: 3926.2055 - mean_absolute_error: 3926.20 - ETA: 17s - loss: 3926.2316 - mean_absolute_error: 3926.23 - ETA: 17s - loss: 3926.2703 - mean_absolute_error: 3926.27 - ETA: 17s - loss: 3926.5141 - mean_absolute_error: 3926.51 - ETA: 17s - loss: 3926.8342 - mean_absolute_error: 3926.83 - ETA: 17s - loss: 3926.6335 - mean_absolute_error: 3926.63 - ETA: 17s - loss: 3926.5263 - mean_absolute_error: 3926.52 - ETA: 17s - loss: 3926.6099 - mean_absolute_error: 3926.60 - ETA: 16s - loss: 3926.6427 - mean_absolute_error: 3926.64 - ETA: 16s - loss: 3926.6306 - mean_absolute_error: 3926.63 - ETA: 16s - loss: 3926.3402 - mean_absolute_error: 3926.34 - ETA: 16s - loss: 3926.3761 - mean_absolute_error: 3926.37 - ETA: 16s - loss: 3926.1170 - mean_absolute_error: 3926.11 - ETA: 16s - loss: 3926.1596 - mean_absolute_error: 3926.15 - ETA: 16s - loss: 3926.1338 - mean_absolute_error: 3926.13 - ETA: 16s - loss: 3925.9939 - mean_absolute_error: 3925.99 - ETA: 16s - loss: 3926.0172 - mean_absolute_error: 3926.01 - ETA: 16s - loss: 3925.8437 - mean_absolute_error: 3925.84 - ETA: 16s - loss: 3925.7772 - mean_absolute_error: 3925.77 - ETA: 16s - loss: 3925.7844 - mean_absolute_error: 3925.78 - ETA: 16s - loss: 3926.0585 - mean_absolute_error: 3926.05 - ETA: 16s - loss: 3926.0875 - mean_absolute_error: 3926.08 - ETA: 16s - loss: 3925.8849 - mean_absolute_error: 3925.88 - ETA: 16s - loss: 3926.0602 - mean_absolute_error: 3926.06 - ETA: 16s - loss: 3925.9823 - mean_absolute_error: 3925.98 - ETA: 16s - loss: 3926.0060 - mean_absolute_error: 3926.00 - ETA: 15s - loss: 3926.0554 - mean_absolute_error: 3926.05 - ETA: 15s - loss: 3925.9918 - mean_absolute_error: 3925.99 - ETA: 15s - loss: 3925.8728 - mean_absolute_error: 3925.87 - ETA: 15s - loss: 3925.8639 - mean_absolute_error: 3925.86 - ETA: 15s - loss: 3925.9155 - mean_absolute_error: 3925.91 - ETA: 15s - loss: 3925.8935 - mean_absolute_error: 3925.89 - ETA: 15s - loss: 3925.6144 - mean_absolute_error: 3925.61 - ETA: 15s - loss: 3925.5009 - mean_absolute_error: 3925.50 - ETA: 15s - loss: 3925.6401 - mean_absolute_error: 3925.64 - ETA: 15s - loss: 3925.8631 - mean_absolute_error: 3925.86 - ETA: 15s - loss: 3926.1351 - mean_absolute_error: 3926.13 - ETA: 15s - loss: 3925.8279 - mean_absolute_error: 3925.82 - ETA: 15s - loss: 3925.5609 - mean_absolute_error: 3925.56 - ETA: 15s - loss: 3925.6772 - mean_absolute_error: 3925.67 - ETA: 15s - loss: 3925.7483 - mean_absolute_error: 3925.74 - ETA: 15s - loss: 3925.4571 - mean_absolute_error: 3925.45 - ETA: 15s - loss: 3925.4936 - mean_absolute_error: 3925.49 - ETA: 15s - loss: 3925.5067 - mean_absolute_error: 3925.50 - ETA: 14s - loss: 3924.8425 - mean_absolute_error: 3924.84 - ETA: 14s - loss: 3924.6806 - mean_absolute_error: 3924.68 - ETA: 14s - loss: 3924.7623 - mean_absolute_error: 3924.76 - ETA: 14s - loss: 3924.6498 - mean_absolute_error: 3924.64 - ETA: 14s - loss: 3924.3755 - mean_absolute_error: 3924.37 - ETA: 14s - loss: 3924.0949 - mean_absolute_error: 3924.09 - ETA: 14s - loss: 3924.0836 - mean_absolute_error: 3924.08 - ETA: 14s - loss: 3924.2982 - mean_absolute_error: 3924.29 - ETA: 14s - loss: 3924.3595 - mean_absolute_error: 3924.35 - ETA: 14s - loss: 3924.1112 - mean_absolute_error: 3924.11 - ETA: 14s - loss: 3923.8223 - mean_absolute_error: 3923.82 - ETA: 14s - loss: 3923.8952 - mean_absolute_error: 3923.89 - ETA: 14s - loss: 3924.2258 - mean_absolute_error: 3924.22 - ETA: 14s - loss: 3924.2063 - mean_absolute_error: 3924.20 - ETA: 14s - loss: 3924.1578 - mean_absolute_error: 3924.15 - ETA: 14s - loss: 3923.8621 - mean_absolute_error: 3923.86 - ETA: 13s - loss: 3923.7289 - mean_absolute_error: 3923.72 - ETA: 13s - loss: 3923.5405 - mean_absolute_error: 3923.54 - ETA: 13s - loss: 3923.3695 - mean_absolute_error: 3923.36 - ETA: 13s - loss: 3923.0704 - mean_absolute_error: 3923.07 - ETA: 13s - loss: 3923.0731 - mean_absolute_error: 3923.07 - ETA: 13s - loss: 3923.0988 - mean_absolute_error: 3923.09 - ETA: 13s - loss: 3923.0487 - mean_absolute_error: 3923.04 - ETA: 13s - loss: 3923.0297 - mean_absolute_error: 3923.02 - ETA: 13s - loss: 3922.7026 - mean_absolute_error: 3922.70 - ETA: 13s - loss: 3922.5953 - mean_absolute_error: 3922.59 - ETA: 13s - loss: 3922.6903 - mean_absolute_error: 3922.69 - ETA: 13s - loss: 3922.5502 - mean_absolute_error: 3922.55 - ETA: 13s - loss: 3922.5377 - mean_absolute_error: 3922.53 - ETA: 13s - loss: 3922.5264 - mean_absolute_error: 3922.52 - ETA: 13s - loss: 3922.5328 - mean_absolute_error: 3922.53 - ETA: 13s - loss: 3922.6992 - mean_absolute_error: 3922.69 - ETA: 13s - loss: 3922.7939 - mean_absolute_error: 3922.79 - ETA: 13s - loss: 3922.5120 - mean_absolute_error: 3922.51 - ETA: 13s - loss: 3922.2974 - mean_absolute_error: 3922.29 - ETA: 13s - loss: 3922.2449 - mean_absolute_error: 3922.24 - ETA: 13s - loss: 3922.0480 - mean_absolute_error: 3922.04 - ETA: 12s - loss: 3921.9294 - mean_absolute_error: 3921.92 - ETA: 12s - loss: 3922.0204 - mean_absolute_error: 3922.02 - ETA: 12s - loss: 3921.9974 - mean_absolute_error: 3921.99 - ETA: 12s - loss: 3922.0033 - mean_absolute_error: 3922.00 - ETA: 12s - loss: 3922.2489 - mean_absolute_error: 3922.24 - ETA: 12s - loss: 3922.0165 - mean_absolute_error: 3922.01 - ETA: 12s - loss: 3921.8021 - mean_absolute_error: 3921.80 - ETA: 12s - loss: 3921.5575 - mean_absolute_error: 3921.55 - ETA: 12s - loss: 3921.4485 - mean_absolute_error: 3921.44 - ETA: 12s - loss: 3921.3016 - mean_absolute_error: 3921.30 - ETA: 12s - loss: 3921.2554 - mean_absolute_error: 3921.25 - ETA: 12s - loss: 3921.1023 - mean_absolute_error: 3921.10 - ETA: 12s - loss: 3920.9444 - mean_absolute_error: 3920.94 - ETA: 12s - loss: 3921.1018 - mean_absolute_error: 3921.10 - ETA: 12s - loss: 3921.4503 - mean_absolute_error: 3921.45 - ETA: 12s - loss: 3921.0994 - mean_absolute_error: 3921.09 - ETA: 12s - loss: 3921.1580 - mean_absolute_error: 3921.15 - ETA: 11s - loss: 3921.1785 - mean_absolute_error: 3921.17 - ETA: 11s - loss: 3920.8948 - mean_absolute_error: 3920.89 - ETA: 11s - loss: 3920.9088 - mean_absolute_error: 3920.90 - ETA: 11s - loss: 3920.7035 - mean_absolute_error: 3920.70 - ETA: 11s - loss: 3920.8860 - mean_absolute_error: 3920.8860"
     ]
    },
    {
     "name": "stdout",
     "output_type": "stream",
     "text": [
      "414688/440054 [===========================>..] - ETA: 11s - loss: 3920.8316 - mean_absolute_error: 3920.83 - ETA: 11s - loss: 3920.6682 - mean_absolute_error: 3920.66 - ETA: 11s - loss: 3920.7444 - mean_absolute_error: 3920.74 - ETA: 11s - loss: 3920.6148 - mean_absolute_error: 3920.61 - ETA: 11s - loss: 3920.5602 - mean_absolute_error: 3920.56 - ETA: 11s - loss: 3920.7911 - mean_absolute_error: 3920.79 - ETA: 11s - loss: 3920.5976 - mean_absolute_error: 3920.59 - ETA: 11s - loss: 3920.6442 - mean_absolute_error: 3920.64 - ETA: 11s - loss: 3920.3947 - mean_absolute_error: 3920.39 - ETA: 11s - loss: 3920.4899 - mean_absolute_error: 3920.48 - ETA: 11s - loss: 3920.6683 - mean_absolute_error: 3920.66 - ETA: 11s - loss: 3920.7530 - mean_absolute_error: 3920.75 - ETA: 10s - loss: 3920.6545 - mean_absolute_error: 3920.65 - ETA: 10s - loss: 3920.4656 - mean_absolute_error: 3920.46 - ETA: 10s - loss: 3920.5922 - mean_absolute_error: 3920.59 - ETA: 10s - loss: 3920.5356 - mean_absolute_error: 3920.53 - ETA: 10s - loss: 3920.4542 - mean_absolute_error: 3920.45 - ETA: 10s - loss: 3920.3461 - mean_absolute_error: 3920.34 - ETA: 10s - loss: 3920.2468 - mean_absolute_error: 3920.24 - ETA: 10s - loss: 3920.1759 - mean_absolute_error: 3920.17 - ETA: 10s - loss: 3919.8311 - mean_absolute_error: 3919.83 - ETA: 10s - loss: 3919.6331 - mean_absolute_error: 3919.63 - ETA: 10s - loss: 3919.8023 - mean_absolute_error: 3919.80 - ETA: 10s - loss: 3919.6401 - mean_absolute_error: 3919.64 - ETA: 10s - loss: 3919.5635 - mean_absolute_error: 3919.56 - ETA: 10s - loss: 3919.8157 - mean_absolute_error: 3919.81 - ETA: 10s - loss: 3919.9927 - mean_absolute_error: 3919.99 - ETA: 10s - loss: 3919.9987 - mean_absolute_error: 3919.99 - ETA: 10s - loss: 3920.0287 - mean_absolute_error: 3920.02 - ETA: 9s - loss: 3919.9309 - mean_absolute_error: 3919.9309 - ETA: 9s - loss: 3920.3406 - mean_absolute_error: 3920.340 - ETA: 9s - loss: 3920.0923 - mean_absolute_error: 3920.092 - ETA: 9s - loss: 3920.0659 - mean_absolute_error: 3920.065 - ETA: 9s - loss: 3919.9628 - mean_absolute_error: 3919.962 - ETA: 9s - loss: 3920.2492 - mean_absolute_error: 3920.249 - ETA: 9s - loss: 3920.4527 - mean_absolute_error: 3920.452 - ETA: 9s - loss: 3920.5381 - mean_absolute_error: 3920.538 - ETA: 9s - loss: 3920.4070 - mean_absolute_error: 3920.407 - ETA: 9s - loss: 3920.3484 - mean_absolute_error: 3920.348 - ETA: 9s - loss: 3920.3265 - mean_absolute_error: 3920.326 - ETA: 9s - loss: 3920.2529 - mean_absolute_error: 3920.252 - ETA: 9s - loss: 3920.1143 - mean_absolute_error: 3920.114 - ETA: 9s - loss: 3920.2771 - mean_absolute_error: 3920.277 - ETA: 9s - loss: 3920.2040 - mean_absolute_error: 3920.204 - ETA: 9s - loss: 3920.0705 - mean_absolute_error: 3920.070 - ETA: 8s - loss: 3920.3150 - mean_absolute_error: 3920.315 - ETA: 8s - loss: 3920.4070 - mean_absolute_error: 3920.407 - ETA: 8s - loss: 3920.3860 - mean_absolute_error: 3920.386 - ETA: 8s - loss: 3920.4435 - mean_absolute_error: 3920.443 - ETA: 8s - loss: 3920.3939 - mean_absolute_error: 3920.393 - ETA: 8s - loss: 3920.3485 - mean_absolute_error: 3920.348 - ETA: 8s - loss: 3920.2051 - mean_absolute_error: 3920.205 - ETA: 8s - loss: 3920.3148 - mean_absolute_error: 3920.314 - ETA: 8s - loss: 3920.2374 - mean_absolute_error: 3920.237 - ETA: 8s - loss: 3920.3731 - mean_absolute_error: 3920.373 - ETA: 8s - loss: 3920.6929 - mean_absolute_error: 3920.692 - ETA: 8s - loss: 3920.6648 - mean_absolute_error: 3920.664 - ETA: 8s - loss: 3920.6377 - mean_absolute_error: 3920.637 - ETA: 8s - loss: 3920.6072 - mean_absolute_error: 3920.607 - ETA: 8s - loss: 3920.8385 - mean_absolute_error: 3920.838 - ETA: 8s - loss: 3920.8365 - mean_absolute_error: 3920.836 - ETA: 8s - loss: 3920.8232 - mean_absolute_error: 3920.823 - ETA: 7s - loss: 3920.6413 - mean_absolute_error: 3920.641 - ETA: 7s - loss: 3920.3426 - mean_absolute_error: 3920.342 - ETA: 7s - loss: 3920.4491 - mean_absolute_error: 3920.449 - ETA: 7s - loss: 3920.4302 - mean_absolute_error: 3920.430 - ETA: 7s - loss: 3919.9621 - mean_absolute_error: 3919.962 - ETA: 7s - loss: 3919.8793 - mean_absolute_error: 3919.879 - ETA: 7s - loss: 3919.8641 - mean_absolute_error: 3919.864 - ETA: 7s - loss: 3919.8910 - mean_absolute_error: 3919.891 - ETA: 7s - loss: 3919.5174 - mean_absolute_error: 3919.517 - ETA: 7s - loss: 3919.4092 - mean_absolute_error: 3919.409 - ETA: 7s - loss: 3919.2596 - mean_absolute_error: 3919.259 - ETA: 7s - loss: 3919.3555 - mean_absolute_error: 3919.355 - ETA: 7s - loss: 3919.3450 - mean_absolute_error: 3919.345 - ETA: 7s - loss: 3919.3385 - mean_absolute_error: 3919.338 - ETA: 7s - loss: 3919.2235 - mean_absolute_error: 3919.223 - ETA: 7s - loss: 3918.9305 - mean_absolute_error: 3918.930 - ETA: 7s - loss: 3918.8859 - mean_absolute_error: 3918.885 - ETA: 7s - loss: 3918.8056 - mean_absolute_error: 3918.805 - ETA: 7s - loss: 3919.2637 - mean_absolute_error: 3919.263 - ETA: 6s - loss: 3919.2202 - mean_absolute_error: 3919.220 - ETA: 6s - loss: 3919.1356 - mean_absolute_error: 3919.135 - ETA: 6s - loss: 3919.0556 - mean_absolute_error: 3919.055 - ETA: 6s - loss: 3918.9852 - mean_absolute_error: 3918.985 - ETA: 6s - loss: 3918.8652 - mean_absolute_error: 3918.865 - ETA: 6s - loss: 3918.5594 - mean_absolute_error: 3918.559 - ETA: 6s - loss: 3918.3547 - mean_absolute_error: 3918.354 - ETA: 6s - loss: 3918.5516 - mean_absolute_error: 3918.551 - ETA: 6s - loss: 3918.3113 - mean_absolute_error: 3918.311 - ETA: 6s - loss: 3918.4222 - mean_absolute_error: 3918.422 - ETA: 6s - loss: 3918.5102 - mean_absolute_error: 3918.510 - ETA: 6s - loss: 3918.7058 - mean_absolute_error: 3918.705 - ETA: 6s - loss: 3918.9850 - mean_absolute_error: 3918.985 - ETA: 6s - loss: 3918.8983 - mean_absolute_error: 3918.898 - ETA: 6s - loss: 3918.8419 - mean_absolute_error: 3918.841 - ETA: 6s - loss: 3918.9483 - mean_absolute_error: 3918.948 - ETA: 6s - loss: 3918.8764 - mean_absolute_error: 3918.876 - ETA: 6s - loss: 3918.9317 - mean_absolute_error: 3918.931 - ETA: 6s - loss: 3918.8423 - mean_absolute_error: 3918.842 - ETA: 5s - loss: 3918.5786 - mean_absolute_error: 3918.578 - ETA: 5s - loss: 3918.6351 - mean_absolute_error: 3918.635 - ETA: 5s - loss: 3918.4173 - mean_absolute_error: 3918.417 - ETA: 5s - loss: 3918.6908 - mean_absolute_error: 3918.690 - ETA: 5s - loss: 3918.5628 - mean_absolute_error: 3918.562 - ETA: 5s - loss: 3918.4635 - mean_absolute_error: 3918.463 - ETA: 5s - loss: 3918.3622 - mean_absolute_error: 3918.362 - ETA: 5s - loss: 3918.3818 - mean_absolute_error: 3918.381 - ETA: 5s - loss: 3918.3974 - mean_absolute_error: 3918.397 - ETA: 5s - loss: 3918.6338 - mean_absolute_error: 3918.633 - ETA: 5s - loss: 3918.7578 - mean_absolute_error: 3918.757 - ETA: 5s - loss: 3918.7539 - mean_absolute_error: 3918.753 - ETA: 5s - loss: 3918.5707 - mean_absolute_error: 3918.570 - ETA: 5s - loss: 3918.6507 - mean_absolute_error: 3918.650 - ETA: 5s - loss: 3918.5505 - mean_absolute_error: 3918.550 - ETA: 5s - loss: 3918.3555 - mean_absolute_error: 3918.355 - ETA: 5s - loss: 3918.0702 - mean_absolute_error: 3918.070 - ETA: 4s - loss: 3918.0566 - mean_absolute_error: 3918.056 - ETA: 4s - loss: 3918.3071 - mean_absolute_error: 3918.307 - ETA: 4s - loss: 3918.2095 - mean_absolute_error: 3918.209 - ETA: 4s - loss: 3918.3904 - mean_absolute_error: 3918.390 - ETA: 4s - loss: 3918.5695 - mean_absolute_error: 3918.569 - ETA: 4s - loss: 3918.7522 - mean_absolute_error: 3918.752 - ETA: 4s - loss: 3918.7522 - mean_absolute_error: 3918.752 - ETA: 4s - loss: 3918.8200 - mean_absolute_error: 3918.820 - ETA: 4s - loss: 3918.7572 - mean_absolute_error: 3918.757 - ETA: 4s - loss: 3918.9534 - mean_absolute_error: 3918.953 - ETA: 4s - loss: 3919.0360 - mean_absolute_error: 3919.036 - ETA: 4s - loss: 3919.0631 - mean_absolute_error: 3919.063 - ETA: 4s - loss: 3919.0236 - mean_absolute_error: 3919.023 - ETA: 4s - loss: 3918.9411 - mean_absolute_error: 3918.941 - ETA: 4s - loss: 3919.0836 - mean_absolute_error: 3919.083 - ETA: 4s - loss: 3919.1667 - mean_absolute_error: 3919.166 - ETA: 4s - loss: 3919.0773 - mean_absolute_error: 3919.077 - ETA: 3s - loss: 3918.9815 - mean_absolute_error: 3918.981 - ETA: 3s - loss: 3919.0904 - mean_absolute_error: 3919.0904"
     ]
    },
    {
     "name": "stdout",
     "output_type": "stream",
     "text": [
      "440016/440054 [============================>.] - ETA: 3s - loss: 3919.0131 - mean_absolute_error: 3919.013 - ETA: 3s - loss: 3918.9002 - mean_absolute_error: 3918.900 - ETA: 3s - loss: 3919.0814 - mean_absolute_error: 3919.081 - ETA: 3s - loss: 3919.0492 - mean_absolute_error: 3919.049 - ETA: 3s - loss: 3919.0501 - mean_absolute_error: 3919.050 - ETA: 3s - loss: 3919.0896 - mean_absolute_error: 3919.089 - ETA: 3s - loss: 3918.8765 - mean_absolute_error: 3918.876 - ETA: 3s - loss: 3918.8351 - mean_absolute_error: 3918.835 - ETA: 3s - loss: 3918.7888 - mean_absolute_error: 3918.788 - ETA: 3s - loss: 3918.5320 - mean_absolute_error: 3918.532 - ETA: 3s - loss: 3918.4707 - mean_absolute_error: 3918.470 - ETA: 3s - loss: 3918.5378 - mean_absolute_error: 3918.537 - ETA: 3s - loss: 3918.2520 - mean_absolute_error: 3918.252 - ETA: 3s - loss: 3918.1511 - mean_absolute_error: 3918.151 - ETA: 3s - loss: 3918.2170 - mean_absolute_error: 3918.217 - ETA: 2s - loss: 3918.2005 - mean_absolute_error: 3918.200 - ETA: 2s - loss: 3918.0441 - mean_absolute_error: 3918.044 - ETA: 2s - loss: 3917.7868 - mean_absolute_error: 3917.786 - ETA: 2s - loss: 3917.7037 - mean_absolute_error: 3917.703 - ETA: 2s - loss: 3917.7149 - mean_absolute_error: 3917.714 - ETA: 2s - loss: 3917.5255 - mean_absolute_error: 3917.525 - ETA: 2s - loss: 3917.5746 - mean_absolute_error: 3917.574 - ETA: 2s - loss: 3917.7480 - mean_absolute_error: 3917.748 - ETA: 2s - loss: 3917.7232 - mean_absolute_error: 3917.723 - ETA: 2s - loss: 3917.6889 - mean_absolute_error: 3917.688 - ETA: 2s - loss: 3917.5301 - mean_absolute_error: 3917.530 - ETA: 2s - loss: 3917.5002 - mean_absolute_error: 3917.500 - ETA: 2s - loss: 3917.5406 - mean_absolute_error: 3917.540 - ETA: 2s - loss: 3917.2920 - mean_absolute_error: 3917.292 - ETA: 2s - loss: 3917.3631 - mean_absolute_error: 3917.363 - ETA: 2s - loss: 3917.1669 - mean_absolute_error: 3917.166 - ETA: 2s - loss: 3916.8138 - mean_absolute_error: 3916.813 - ETA: 1s - loss: 3916.8248 - mean_absolute_error: 3916.824 - ETA: 1s - loss: 3916.9361 - mean_absolute_error: 3916.936 - ETA: 1s - loss: 3916.7807 - mean_absolute_error: 3916.780 - ETA: 1s - loss: 3916.8600 - mean_absolute_error: 3916.860 - ETA: 1s - loss: 3916.8917 - mean_absolute_error: 3916.891 - ETA: 1s - loss: 3917.0839 - mean_absolute_error: 3917.083 - ETA: 1s - loss: 3917.1991 - mean_absolute_error: 3917.199 - ETA: 1s - loss: 3917.1660 - mean_absolute_error: 3917.166 - ETA: 1s - loss: 3917.0073 - mean_absolute_error: 3917.007 - ETA: 1s - loss: 3917.2242 - mean_absolute_error: 3917.224 - ETA: 1s - loss: 3917.1828 - mean_absolute_error: 3917.182 - ETA: 1s - loss: 3917.2654 - mean_absolute_error: 3917.265 - ETA: 1s - loss: 3917.1480 - mean_absolute_error: 3917.148 - ETA: 1s - loss: 3917.2356 - mean_absolute_error: 3917.235 - ETA: 1s - loss: 3917.3674 - mean_absolute_error: 3917.367 - ETA: 1s - loss: 3917.0261 - mean_absolute_error: 3917.026 - ETA: 1s - loss: 3917.2183 - mean_absolute_error: 3917.218 - ETA: 1s - loss: 3917.1384 - mean_absolute_error: 3917.138 - ETA: 1s - loss: 3917.3263 - mean_absolute_error: 3917.326 - ETA: 0s - loss: 3917.2843 - mean_absolute_error: 3917.284 - ETA: 0s - loss: 3917.2393 - mean_absolute_error: 3917.239 - ETA: 0s - loss: 3917.1939 - mean_absolute_error: 3917.193 - ETA: 0s - loss: 3917.1535 - mean_absolute_error: 3917.153 - ETA: 0s - loss: 3917.2749 - mean_absolute_error: 3917.274 - ETA: 0s - loss: 3917.1387 - mean_absolute_error: 3917.138 - ETA: 0s - loss: 3917.1329 - mean_absolute_error: 3917.132 - ETA: 0s - loss: 3916.9599 - mean_absolute_error: 3916.959 - ETA: 0s - loss: 3916.8866 - mean_absolute_error: 3916.886 - ETA: 0s - loss: 3917.0190 - mean_absolute_error: 3917.019 - ETA: 0s - loss: 3916.8587 - mean_absolute_error: 3916.858 - ETA: 0s - loss: 3916.5779 - mean_absolute_error: 3916.577 - ETA: 0s - loss: 3916.6140 - mean_absolute_error: 3916.614 - ETA: 0s - loss: 3916.6734 - mean_absolute_error: 3916.673 - ETA: 0s - loss: 3916.7743 - mean_absolute_error: 3916.774 - ETA: 0s - loss: 3916.6996 - mean_absolute_error: 3916.699 - ETA: 0s - loss: 3916.8544 - mean_absolute_error: 3916.854 - ETA: 0s - loss: 3917.0190 - mean_absolute_error: 3917.019 - ETA: 0s - loss: 3917.1880 - mean_absolute_error: 3917.188 - ETA: 0s - loss: 3916.8963 - mean_absolute_error: 3916.896 - ETA: 0s - loss: 3916.8919 - mean_absolute_error: 3916.8919\n",
      "Epoch 00001: val_loss improved from inf to 4165.78601, saving model to Weights-001--4165.78601.hdf5\n",
      "440054/440054 [==============================] - 71s 161us/step - loss: 3916.8413 - mean_absolute_error: 3916.8413 - val_loss: 4165.7860 - val_mean_absolute_error: 4165.7860\n"
     ]
    },
    {
     "data": {
      "text/plain": [
       "<tensorflow.python.keras.callbacks.History at 0x1ebb59c7d30>"
      ]
     },
     "execution_count": 137,
     "metadata": {},
     "output_type": "execute_result"
    }
   ],
   "source": [
    "NN_model.fit(X, y, epochs=1, batch_size=16, validation_split = 0.2, callbacks=callbacks_list)"
   ]
  },
  {
   "cell_type": "code",
   "execution_count": 138,
   "metadata": {},
   "outputs": [
    {
     "ename": "NotFoundError",
     "evalue": "Unsuccessful TensorSliceReader constructor: Failed to find any matching files for Weights-005--3903.65557.hdf5",
     "output_type": "error",
     "traceback": [
      "\u001b[1;31m---------------------------------------------------------------------------\u001b[0m",
      "\u001b[1;31mNotFoundError\u001b[0m                             Traceback (most recent call last)",
      "\u001b[1;32m<ipython-input-138-1c80fa4cef9a>\u001b[0m in \u001b[0;36m<module>\u001b[1;34m()\u001b[0m\n\u001b[0;32m      1\u001b[0m \u001b[1;31m# Load wights file of the best model :\u001b[0m\u001b[1;33m\u001b[0m\u001b[1;33m\u001b[0m\u001b[0m\n\u001b[0;32m      2\u001b[0m \u001b[0mwights_file\u001b[0m \u001b[1;33m=\u001b[0m \u001b[1;34m'Weights-005--3903.65557.hdf5'\u001b[0m \u001b[1;31m# choose the best checkpoint\u001b[0m\u001b[1;33m\u001b[0m\u001b[0m\n\u001b[1;32m----> 3\u001b[1;33m \u001b[0mNN_model\u001b[0m\u001b[1;33m.\u001b[0m\u001b[0mload_weights\u001b[0m\u001b[1;33m(\u001b[0m\u001b[0mwights_file\u001b[0m\u001b[1;33m)\u001b[0m \u001b[1;31m# load it\u001b[0m\u001b[1;33m\u001b[0m\u001b[0m\n\u001b[0m\u001b[0;32m      4\u001b[0m \u001b[0mNN_model\u001b[0m\u001b[1;33m.\u001b[0m\u001b[0mcompile\u001b[0m\u001b[1;33m(\u001b[0m\u001b[0mloss\u001b[0m\u001b[1;33m=\u001b[0m\u001b[1;34m'mean_absolute_error'\u001b[0m\u001b[1;33m,\u001b[0m \u001b[0moptimizer\u001b[0m\u001b[1;33m=\u001b[0m\u001b[1;34m'adam'\u001b[0m\u001b[1;33m,\u001b[0m \u001b[0mmetrics\u001b[0m\u001b[1;33m=\u001b[0m\u001b[1;33m[\u001b[0m\u001b[1;34m'mean_absolute_error'\u001b[0m\u001b[1;33m]\u001b[0m\u001b[1;33m)\u001b[0m\u001b[1;33m\u001b[0m\u001b[0m\n",
      "\u001b[1;32mC:\\ProgramData\\Anaconda3\\lib\\site-packages\\tensorflow\\python\\keras\\engine\\network.py\u001b[0m in \u001b[0;36mload_weights\u001b[1;34m(self, filepath, by_name)\u001b[0m\n\u001b[0;32m   1510\u001b[0m     \u001b[1;32melse\u001b[0m\u001b[1;33m:\u001b[0m\u001b[1;33m\u001b[0m\u001b[0m\n\u001b[0;32m   1511\u001b[0m       \u001b[1;32mtry\u001b[0m\u001b[1;33m:\u001b[0m\u001b[1;33m\u001b[0m\u001b[0m\n\u001b[1;32m-> 1512\u001b[1;33m         \u001b[0mpywrap_tensorflow\u001b[0m\u001b[1;33m.\u001b[0m\u001b[0mNewCheckpointReader\u001b[0m\u001b[1;33m(\u001b[0m\u001b[0mfilepath\u001b[0m\u001b[1;33m)\u001b[0m\u001b[1;33m\u001b[0m\u001b[0m\n\u001b[0m\u001b[0;32m   1513\u001b[0m         \u001b[0msave_format\u001b[0m \u001b[1;33m=\u001b[0m \u001b[1;34m'tf'\u001b[0m\u001b[1;33m\u001b[0m\u001b[0m\n\u001b[0;32m   1514\u001b[0m       \u001b[1;32mexcept\u001b[0m \u001b[0merrors_impl\u001b[0m\u001b[1;33m.\u001b[0m\u001b[0mDataLossError\u001b[0m\u001b[1;33m:\u001b[0m\u001b[1;33m\u001b[0m\u001b[0m\n",
      "\u001b[1;32mC:\\ProgramData\\Anaconda3\\lib\\site-packages\\tensorflow\\python\\pywrap_tensorflow_internal.py\u001b[0m in \u001b[0;36mNewCheckpointReader\u001b[1;34m(filepattern)\u001b[0m\n\u001b[0;32m    324\u001b[0m   \u001b[1;32mwith\u001b[0m \u001b[0merrors\u001b[0m\u001b[1;33m.\u001b[0m\u001b[0mraise_exception_on_not_ok_status\u001b[0m\u001b[1;33m(\u001b[0m\u001b[1;33m)\u001b[0m \u001b[1;32mas\u001b[0m \u001b[0mstatus\u001b[0m\u001b[1;33m:\u001b[0m\u001b[1;33m\u001b[0m\u001b[0m\n\u001b[0;32m    325\u001b[0m     \u001b[1;32mfrom\u001b[0m \u001b[0mtensorflow\u001b[0m\u001b[1;33m.\u001b[0m\u001b[0mpython\u001b[0m\u001b[1;33m.\u001b[0m\u001b[0mutil\u001b[0m \u001b[1;32mimport\u001b[0m \u001b[0mcompat\u001b[0m\u001b[1;33m\u001b[0m\u001b[0m\n\u001b[1;32m--> 326\u001b[1;33m     \u001b[1;32mreturn\u001b[0m \u001b[0mCheckpointReader\u001b[0m\u001b[1;33m(\u001b[0m\u001b[0mcompat\u001b[0m\u001b[1;33m.\u001b[0m\u001b[0mas_bytes\u001b[0m\u001b[1;33m(\u001b[0m\u001b[0mfilepattern\u001b[0m\u001b[1;33m)\u001b[0m\u001b[1;33m,\u001b[0m \u001b[0mstatus\u001b[0m\u001b[1;33m)\u001b[0m\u001b[1;33m\u001b[0m\u001b[0m\n\u001b[0m\u001b[0;32m    327\u001b[0m \u001b[1;33m\u001b[0m\u001b[0m\n\u001b[0;32m    328\u001b[0m \u001b[0mNewCheckpointReader\u001b[0m\u001b[1;33m.\u001b[0m\u001b[0m_tf_api_names\u001b[0m \u001b[1;33m=\u001b[0m \u001b[1;33m[\u001b[0m\u001b[1;34m'train.NewCheckpointReader'\u001b[0m\u001b[1;33m]\u001b[0m\u001b[1;33m\u001b[0m\u001b[0m\n",
      "\u001b[1;32mC:\\ProgramData\\Anaconda3\\lib\\site-packages\\tensorflow\\python\\framework\\errors_impl.py\u001b[0m in \u001b[0;36m__exit__\u001b[1;34m(self, type_arg, value_arg, traceback_arg)\u001b[0m\n\u001b[0;32m    526\u001b[0m             \u001b[1;32mNone\u001b[0m\u001b[1;33m,\u001b[0m \u001b[1;32mNone\u001b[0m\u001b[1;33m,\u001b[0m\u001b[1;33m\u001b[0m\u001b[0m\n\u001b[0;32m    527\u001b[0m             \u001b[0mcompat\u001b[0m\u001b[1;33m.\u001b[0m\u001b[0mas_text\u001b[0m\u001b[1;33m(\u001b[0m\u001b[0mc_api\u001b[0m\u001b[1;33m.\u001b[0m\u001b[0mTF_Message\u001b[0m\u001b[1;33m(\u001b[0m\u001b[0mself\u001b[0m\u001b[1;33m.\u001b[0m\u001b[0mstatus\u001b[0m\u001b[1;33m.\u001b[0m\u001b[0mstatus\u001b[0m\u001b[1;33m)\u001b[0m\u001b[1;33m)\u001b[0m\u001b[1;33m,\u001b[0m\u001b[1;33m\u001b[0m\u001b[0m\n\u001b[1;32m--> 528\u001b[1;33m             c_api.TF_GetCode(self.status.status))\n\u001b[0m\u001b[0;32m    529\u001b[0m     \u001b[1;31m# Delete the underlying status object from memory otherwise it stays alive\u001b[0m\u001b[1;33m\u001b[0m\u001b[1;33m\u001b[0m\u001b[0m\n\u001b[0;32m    530\u001b[0m     \u001b[1;31m# as there is a reference to status from this from the traceback due to\u001b[0m\u001b[1;33m\u001b[0m\u001b[1;33m\u001b[0m\u001b[0m\n",
      "\u001b[1;31mNotFoundError\u001b[0m: Unsuccessful TensorSliceReader constructor: Failed to find any matching files for Weights-005--3903.65557.hdf5"
     ]
    }
   ],
   "source": [
    "# Load wights file of the best model :\n",
    "wights_file = 'Weights-005--3903.65557.hdf5' # choose the best checkpoint \n",
    "NN_model.load_weights(wights_file) # load it\n",
    "NN_model.compile(loss='mean_absolute_error', optimizer='adam', metrics=['mean_absolute_error'])"
   ]
  },
  {
   "cell_type": "code",
   "execution_count": null,
   "metadata": {
    "collapsed": true
   },
   "outputs": [],
   "source": [
    "predictions = NN_model.predict(X_test)"
   ]
  },
  {
   "cell_type": "code",
   "execution_count": null,
   "metadata": {
    "collapsed": true
   },
   "outputs": [],
   "source": [
    "finalsolution = BlackFridayTestNew[['User_ID','Product_ID']]\n",
    "finalsolution['Purchase'] = predictions"
   ]
  },
  {
   "cell_type": "code",
   "execution_count": null,
   "metadata": {
    "collapsed": true
   },
   "outputs": [],
   "source": [
    "finalsolution.head()"
   ]
  },
  {
   "cell_type": "code",
   "execution_count": null,
   "metadata": {
    "collapsed": true
   },
   "outputs": [],
   "source": [
    "finalsolution.to_csv('finalsolution_TensorFlow.csv')"
   ]
  },
  {
   "cell_type": "markdown",
   "metadata": {
    "collapsed": true
   },
   "source": [
    "## XGBoost"
   ]
  },
  {
   "cell_type": "code",
   "execution_count": 101,
   "metadata": {
    "collapsed": true
   },
   "outputs": [],
   "source": [
    "import xgboost"
   ]
  },
  {
   "cell_type": "code",
   "execution_count": 102,
   "metadata": {
    "collapsed": true
   },
   "outputs": [],
   "source": [
    "xgb = xgboost.XGBRegressor(n_estimators=100, learning_rate=0.08, gamma=0, subsample=0.75,\n",
    "                           colsample_bytree=1, max_depth=7)"
   ]
  },
  {
   "cell_type": "code",
   "execution_count": 103,
   "metadata": {},
   "outputs": [
    {
     "name": "stdout",
     "output_type": "stream",
     "text": [
      "<class 'pandas.core.frame.DataFrame'>\n",
      "RangeIndex: 550068 entries, 0 to 550067\n",
      "Data columns (total 13 columns):\n",
      "User_ID                       550068 non-null int64\n",
      "Gender                        550068 non-null int32\n",
      "Age                           550068 non-null int32\n",
      "Occupation                    550068 non-null int64\n",
      "City_Category                 550068 non-null int32\n",
      "Stay_In_Current_City_Years    550068 non-null int32\n",
      "Marital_Status                550068 non-null int64\n",
      "Product_Category_1            550068 non-null int64\n",
      "Product_Category_2            550068 non-null int32\n",
      "Product_Category_3            550068 non-null int32\n",
      "Category_Count                550068 non-null int32\n",
      "Product_Score                 550068 non-null float64\n",
      "User_Score                    550068 non-null float64\n",
      "dtypes: float64(2), int32(7), int64(4)\n",
      "memory usage: 39.9 MB\n"
     ]
    }
   ],
   "source": [
    "X.info()"
   ]
  },
  {
   "cell_type": "code",
   "execution_count": 104,
   "metadata": {
    "scrolled": true
   },
   "outputs": [
    {
     "data": {
      "text/plain": [
       "XGBRegressor(base_score=0.5, booster='gbtree', colsample_bylevel=1,\n",
       "       colsample_bytree=1, gamma=0, learning_rate=0.08, max_delta_step=0,\n",
       "       max_depth=7, min_child_weight=1, missing=None, n_estimators=100,\n",
       "       n_jobs=1, nthread=None, objective='reg:linear', random_state=0,\n",
       "       reg_alpha=0, reg_lambda=1, scale_pos_weight=1, seed=None,\n",
       "       silent=True, subsample=0.75)"
      ]
     },
     "execution_count": 104,
     "metadata": {},
     "output_type": "execute_result"
    }
   ],
   "source": [
    "xgb.fit(X,y)"
   ]
  },
  {
   "cell_type": "code",
   "execution_count": 105,
   "metadata": {
    "collapsed": true
   },
   "outputs": [],
   "source": [
    "x_test = BlackFridayTestNew.drop(['Product_ID'], axis=1)"
   ]
  },
  {
   "cell_type": "code",
   "execution_count": 106,
   "metadata": {
    "collapsed": true
   },
   "outputs": [],
   "source": [
    "predictions = xgb.predict(x_test)"
   ]
  },
  {
   "cell_type": "code",
   "execution_count": 107,
   "metadata": {
    "collapsed": true
   },
   "outputs": [],
   "source": [
    "xgboostsolution = BlackFridayTestNew[['User_ID','Product_ID']]\n",
    "xgboostsolution['Purchase'] = predictions"
   ]
  },
  {
   "cell_type": "code",
   "execution_count": 108,
   "metadata": {},
   "outputs": [
    {
     "data": {
      "text/html": [
       "<div>\n",
       "<style>\n",
       "    .dataframe thead tr:only-child th {\n",
       "        text-align: right;\n",
       "    }\n",
       "\n",
       "    .dataframe thead th {\n",
       "        text-align: left;\n",
       "    }\n",
       "\n",
       "    .dataframe tbody tr th {\n",
       "        vertical-align: top;\n",
       "    }\n",
       "</style>\n",
       "<table border=\"1\" class=\"dataframe\">\n",
       "  <thead>\n",
       "    <tr style=\"text-align: right;\">\n",
       "      <th></th>\n",
       "      <th>User_ID</th>\n",
       "      <th>Product_ID</th>\n",
       "      <th>Purchase</th>\n",
       "    </tr>\n",
       "  </thead>\n",
       "  <tbody>\n",
       "    <tr>\n",
       "      <th>0</th>\n",
       "      <td>1000004</td>\n",
       "      <td>P00128942</td>\n",
       "      <td>10438.294530</td>\n",
       "    </tr>\n",
       "    <tr>\n",
       "      <th>1</th>\n",
       "      <td>1000009</td>\n",
       "      <td>P00113442</td>\n",
       "      <td>9713.420537</td>\n",
       "    </tr>\n",
       "    <tr>\n",
       "      <th>2</th>\n",
       "      <td>1000010</td>\n",
       "      <td>P00288442</td>\n",
       "      <td>8728.293292</td>\n",
       "    </tr>\n",
       "    <tr>\n",
       "      <th>3</th>\n",
       "      <td>1000010</td>\n",
       "      <td>P00145342</td>\n",
       "      <td>9012.943524</td>\n",
       "    </tr>\n",
       "    <tr>\n",
       "      <th>4</th>\n",
       "      <td>1000011</td>\n",
       "      <td>P00053842</td>\n",
       "      <td>10880.052661</td>\n",
       "    </tr>\n",
       "  </tbody>\n",
       "</table>\n",
       "</div>"
      ],
      "text/plain": [
       "   User_ID Product_ID      Purchase\n",
       "0  1000004  P00128942  10438.294530\n",
       "1  1000009  P00113442   9713.420537\n",
       "2  1000010  P00288442   8728.293292\n",
       "3  1000010  P00145342   9012.943524\n",
       "4  1000011  P00053842  10880.052661"
      ]
     },
     "execution_count": 108,
     "metadata": {},
     "output_type": "execute_result"
    }
   ],
   "source": [
    "finalsolution.head()"
   ]
  },
  {
   "cell_type": "code",
   "execution_count": 109,
   "metadata": {
    "collapsed": true
   },
   "outputs": [],
   "source": [
    "xgboostsolution.to_csv('finalsolution_XGBoost.csv')"
   ]
  },
  {
   "cell_type": "markdown",
   "metadata": {},
   "source": [
    "### rmse - 2779.something with \n",
    "### rank - 580 among 13000+ participants"
   ]
  },
  {
   "cell_type": "code",
   "execution_count": 73,
   "metadata": {},
   "outputs": [
    {
     "name": "stdout",
     "output_type": "stream",
     "text": [
      "Checking whether there is an H2O instance running at http://localhost:54321..... not found.\n",
      "Attempting to start a local H2O server...\n",
      "; Java HotSpot(TM) 64-Bit Server VM (build 25.192-b12, mixed mode)\n",
      "  Starting server from C:\\ProgramData\\Anaconda3\\lib\\site-packages\\h2o\\backend\\bin\\h2o.jar\n",
      "  Ice root: C:\\Users\\vivid\\AppData\\Local\\Temp\\tmpgmbbct3l\n",
      "  JVM stdout: C:\\Users\\vivid\\AppData\\Local\\Temp\\tmpgmbbct3l\\h2o_vivid_started_from_python.out\n",
      "  JVM stderr: C:\\Users\\vivid\\AppData\\Local\\Temp\\tmpgmbbct3l\\h2o_vivid_started_from_python.err\n",
      "  Server is running at http://127.0.0.1:54321\n",
      "Connecting to H2O server at http://127.0.0.1:54321... successful.\n"
     ]
    },
    {
     "data": {
      "text/html": [
       "<div style=\"overflow:auto\"><table style=\"width:50%\"><tr><td>H2O cluster uptime:</td>\n",
       "<td>01 secs</td></tr>\n",
       "<tr><td>H2O cluster timezone:</td>\n",
       "<td>America/New_York</td></tr>\n",
       "<tr><td>H2O data parsing timezone:</td>\n",
       "<td>UTC</td></tr>\n",
       "<tr><td>H2O cluster version:</td>\n",
       "<td>3.22.0.2</td></tr>\n",
       "<tr><td>H2O cluster version age:</td>\n",
       "<td>11 days </td></tr>\n",
       "<tr><td>H2O cluster name:</td>\n",
       "<td>H2O_from_python_vivid_fzd67x</td></tr>\n",
       "<tr><td>H2O cluster total nodes:</td>\n",
       "<td>1</td></tr>\n",
       "<tr><td>H2O cluster free memory:</td>\n",
       "<td>7.111 Gb</td></tr>\n",
       "<tr><td>H2O cluster total cores:</td>\n",
       "<td>4</td></tr>\n",
       "<tr><td>H2O cluster allowed cores:</td>\n",
       "<td>4</td></tr>\n",
       "<tr><td>H2O cluster status:</td>\n",
       "<td>accepting new members, healthy</td></tr>\n",
       "<tr><td>H2O connection url:</td>\n",
       "<td>http://127.0.0.1:54321</td></tr>\n",
       "<tr><td>H2O connection proxy:</td>\n",
       "<td>None</td></tr>\n",
       "<tr><td>H2O internal security:</td>\n",
       "<td>False</td></tr>\n",
       "<tr><td>H2O API Extensions:</td>\n",
       "<td>Algos, AutoML, Core V3, Core V4</td></tr>\n",
       "<tr><td>Python version:</td>\n",
       "<td>3.6.3 final</td></tr></table></div>"
      ],
      "text/plain": [
       "--------------------------  -------------------------------\n",
       "H2O cluster uptime:         01 secs\n",
       "H2O cluster timezone:       America/New_York\n",
       "H2O data parsing timezone:  UTC\n",
       "H2O cluster version:        3.22.0.2\n",
       "H2O cluster version age:    11 days\n",
       "H2O cluster name:           H2O_from_python_vivid_fzd67x\n",
       "H2O cluster total nodes:    1\n",
       "H2O cluster free memory:    7.111 Gb\n",
       "H2O cluster total cores:    4\n",
       "H2O cluster allowed cores:  4\n",
       "H2O cluster status:         accepting new members, healthy\n",
       "H2O connection url:         http://127.0.0.1:54321\n",
       "H2O connection proxy:\n",
       "H2O internal security:      False\n",
       "H2O API Extensions:         Algos, AutoML, Core V3, Core V4\n",
       "Python version:             3.6.3 final\n",
       "--------------------------  -------------------------------"
      ]
     },
     "metadata": {},
     "output_type": "display_data"
    }
   ],
   "source": [
    "import h2o\n",
    "\n",
    "# Number of threads, nthreads = -1, means use all cores on your machine\n",
    "# max_mem_size is the maximum memory (in GB) to allocate to H2O\n",
    "h2o.init(nthreads = -1, max_mem_size = 8)"
   ]
  },
  {
   "cell_type": "code",
   "execution_count": 74,
   "metadata": {
    "scrolled": false
   },
   "outputs": [
    {
     "name": "stdout",
     "output_type": "stream",
     "text": [
      "Parse progress: |█████████████████████████████████████████████████████████| 100%\n",
      "Parse progress: |█████████████████████████████████████████████████████████| 100%\n"
     ]
    }
   ],
   "source": [
    "train = h2o.import_file(\"BlackFridayTrainNew.csv\")\n",
    "test = h2o.import_file(\"BlackFridayTestNew.csv\")"
   ]
  },
  {
   "cell_type": "code",
   "execution_count": 76,
   "metadata": {
    "collapsed": true
   },
   "outputs": [],
   "source": [
    "from h2o.automl import H2OAutoML"
   ]
  },
  {
   "cell_type": "code",
   "execution_count": 79,
   "metadata": {
    "collapsed": true
   },
   "outputs": [],
   "source": [
    "x = train.columns\n",
    "y = 'Purchase'\n",
    "x.remove('Purchase')"
   ]
  },
  {
   "cell_type": "code",
   "execution_count": 80,
   "metadata": {},
   "outputs": [
    {
     "data": {
      "text/plain": [
       "['C1',\n",
       " 'User_ID',\n",
       " 'Product_ID',\n",
       " 'Gender',\n",
       " 'Age',\n",
       " 'Occupation',\n",
       " 'City_Category',\n",
       " 'Stay_In_Current_City_Years',\n",
       " 'Marital_Status',\n",
       " 'Product_Category_1',\n",
       " 'Product_Category_2',\n",
       " 'Product_Category_3',\n",
       " 'Category_Count',\n",
       " 'Product_Score',\n",
       " 'User_Score']"
      ]
     },
     "execution_count": 80,
     "metadata": {},
     "output_type": "execute_result"
    }
   ],
   "source": [
    "x"
   ]
  },
  {
   "cell_type": "code",
   "execution_count": 81,
   "metadata": {},
   "outputs": [
    {
     "name": "stdout",
     "output_type": "stream",
     "text": [
      "AutoML progress: |████████████████████████████████████████████████████████| 100%\n"
     ]
    }
   ],
   "source": [
    "aml = H2OAutoML(max_models= 5, seed=1)\n",
    "aml.train(x=x, y=y, training_frame=train)"
   ]
  },
  {
   "cell_type": "code",
   "execution_count": 82,
   "metadata": {
    "scrolled": true
   },
   "outputs": [
    {
     "name": "stdout",
     "output_type": "stream",
     "text": [
      "gbm prediction progress: |████████████████████████████████████████████████| 100%\n"
     ]
    },
    {
     "name": "stderr",
     "output_type": "stream",
     "text": [
      "C:\\ProgramData\\Anaconda3\\lib\\site-packages\\h2o\\job.py:69: UserWarning:\n",
      "\n",
      "Test/Validation dataset column 'Product_ID' has levels not trained on: [P00012642, P00013042, P00030342, P00038942, P00039042, P00042642, P00056942, P00058842, P00061642, P00062242, P00062542, P00063942, P00074942, P00077642, P00082142, P00082642, P00092742, P00100242, P00105742, P00106242, P00140842, P00156942, P00165542, P00166542, P00168242, P00172942, P00204642, P00227242, P00236842, P00239542, P00249942, P00253842, P00268942, P00270342, P00279042, P00294942, P00300142, P00306842, P00309842, P00312642, P00315342, P00322642, P00322842, P00336842, P00359842, P0099542]\n",
      "\n"
     ]
    }
   ],
   "source": [
    "preds = aml.leader.predict(test)"
   ]
  },
  {
   "cell_type": "code",
   "execution_count": 88,
   "metadata": {
    "scrolled": false
   },
   "outputs": [
    {
     "name": "stdout",
     "output_type": "stream",
     "text": [
      "Model Details\n",
      "=============\n",
      "H2OGradientBoostingEstimator :  Gradient Boosting Machine\n",
      "Model Key:  GBM_2_AutoML_20181203_151940\n",
      "\n",
      "\n",
      "ModelMetricsRegression: gbm\n",
      "** Reported on train data. **\n",
      "\n",
      "MSE: 6532575.379125178\n",
      "RMSE: 2555.8903300269317\n",
      "MAE: 1897.4499153815755\n",
      "RMSLE: NaN\n",
      "Mean Residual Deviance: 6532575.379125178\n",
      "\n",
      "ModelMetricsRegression: gbm\n",
      "** Reported on validation data. **\n",
      "\n",
      "MSE: 6826208.214071142\n",
      "RMSE: 2612.701325079302\n",
      "MAE: 1938.8103352650348\n",
      "RMSLE: NaN\n",
      "Mean Residual Deviance: 6826208.214071142\n",
      "\n",
      "ModelMetricsRegression: gbm\n",
      "** Reported on cross-validation data. **\n",
      "\n",
      "MSE: 6723164.146122221\n",
      "RMSE: 2592.9065054726175\n",
      "MAE: 1922.8079390311614\n",
      "RMSLE: NaN\n",
      "Mean Residual Deviance: 6723164.146122221\n",
      "Cross-Validation Metrics Summary: \n"
     ]
    },
    {
     "data": {
      "text/html": [
       "<div style=\"overflow:auto\"><table style=\"width:50%\"><tr><td><b></b></td>\n",
       "<td><b>mean</b></td>\n",
       "<td><b>sd</b></td>\n",
       "<td><b>cv_1_valid</b></td>\n",
       "<td><b>cv_2_valid</b></td>\n",
       "<td><b>cv_3_valid</b></td>\n",
       "<td><b>cv_4_valid</b></td>\n",
       "<td><b>cv_5_valid</b></td></tr>\n",
       "<tr><td>mae</td>\n",
       "<td>1922.808</td>\n",
       "<td>4.1943297</td>\n",
       "<td>1933.6583</td>\n",
       "<td>1916.7107</td>\n",
       "<td>1920.0469</td>\n",
       "<td>1924.2003</td>\n",
       "<td>1919.4235</td></tr>\n",
       "<tr><td>mean_residual_deviance</td>\n",
       "<td>6723164.0</td>\n",
       "<td>27690.582</td>\n",
       "<td>6789579.0</td>\n",
       "<td>6704467.0</td>\n",
       "<td>6683633.0</td>\n",
       "<td>6744673.0</td>\n",
       "<td>6693468.0</td></tr>\n",
       "<tr><td>mse</td>\n",
       "<td>6723164.0</td>\n",
       "<td>27690.582</td>\n",
       "<td>6789579.0</td>\n",
       "<td>6704467.0</td>\n",
       "<td>6683633.0</td>\n",
       "<td>6744673.0</td>\n",
       "<td>6693468.0</td></tr>\n",
       "<tr><td>r2</td>\n",
       "<td>0.7332429</td>\n",
       "<td>0.0010473</td>\n",
       "<td>0.7315218</td>\n",
       "<td>0.7348315</td>\n",
       "<td>0.7343926</td>\n",
       "<td>0.7313848</td>\n",
       "<td>0.734084</td></tr>\n",
       "<tr><td>residual_deviance</td>\n",
       "<td>6723164.0</td>\n",
       "<td>27690.582</td>\n",
       "<td>6789579.0</td>\n",
       "<td>6704467.0</td>\n",
       "<td>6683633.0</td>\n",
       "<td>6744673.0</td>\n",
       "<td>6693468.0</td></tr>\n",
       "<tr><td>rmse</td>\n",
       "<td>2592.8955</td>\n",
       "<td>5.33433</td>\n",
       "<td>2605.6821</td>\n",
       "<td>2589.2986</td>\n",
       "<td>2585.2725</td>\n",
       "<td>2597.0508</td>\n",
       "<td>2587.1738</td></tr>\n",
       "<tr><td>rmsle</td>\n",
       "<td>0.0</td>\n",
       "<td>NaN</td>\n",
       "<td>NaN</td>\n",
       "<td>NaN</td>\n",
       "<td>NaN</td>\n",
       "<td>NaN</td>\n",
       "<td>NaN</td></tr></table></div>"
      ],
      "text/plain": [
       "                        mean         sd          cv_1_valid    cv_2_valid    cv_3_valid    cv_4_valid    cv_5_valid\n",
       "----------------------  -----------  ----------  ------------  ------------  ------------  ------------  ------------\n",
       "mae                     1922.81      4.19433     1933.66       1916.71       1920.05       1924.2        1919.42\n",
       "mean_residual_deviance  6.72316e+06  27690.6     6.78958e+06   6.70447e+06   6.68363e+06   6.74467e+06   6.69347e+06\n",
       "mse                     6.72316e+06  27690.6     6.78958e+06   6.70447e+06   6.68363e+06   6.74467e+06   6.69347e+06\n",
       "r2                      0.733243     0.00104726  0.731522      0.734831      0.734393      0.731385      0.734084\n",
       "residual_deviance       6.72316e+06  27690.6     6.78958e+06   6.70447e+06   6.68363e+06   6.74467e+06   6.69347e+06\n",
       "rmse                    2592.9       5.33433     2605.68       2589.3        2585.27       2597.05       2587.17\n",
       "rmsle                   0            nan         nan           nan           nan           nan           nan"
      ]
     },
     "metadata": {},
     "output_type": "display_data"
    },
    {
     "name": "stdout",
     "output_type": "stream",
     "text": [
      "Scoring History: \n"
     ]
    },
    {
     "data": {
      "text/html": [
       "<div style=\"overflow:auto\"><table style=\"width:50%\"><tr><td><b></b></td>\n",
       "<td><b>timestamp</b></td>\n",
       "<td><b>duration</b></td>\n",
       "<td><b>number_of_trees</b></td>\n",
       "<td><b>training_rmse</b></td>\n",
       "<td><b>training_mae</b></td>\n",
       "<td><b>training_deviance</b></td>\n",
       "<td><b>validation_rmse</b></td>\n",
       "<td><b>validation_mae</b></td>\n",
       "<td><b>validation_deviance</b></td></tr>\n",
       "<tr><td></td>\n",
       "<td>2018-12-03 15:55:57</td>\n",
       "<td> 2 min 53.765 sec</td>\n",
       "<td>0.0</td>\n",
       "<td>5020.3211013</td>\n",
       "<td>4067.9847648</td>\n",
       "<td>25203623.9601907</td>\n",
       "<td>5047.6884131</td>\n",
       "<td>4090.1236340</td>\n",
       "<td>25479158.3156621</td></tr>\n",
       "<tr><td></td>\n",
       "<td>2018-12-03 15:55:58</td>\n",
       "<td> 2 min 55.024 sec</td>\n",
       "<td>5.0</td>\n",
       "<td>3880.9232210</td>\n",
       "<td>3073.8307506</td>\n",
       "<td>15061565.0473033</td>\n",
       "<td>3907.3808312</td>\n",
       "<td>3098.2221413</td>\n",
       "<td>15267624.9603562</td></tr>\n",
       "<tr><td></td>\n",
       "<td>2018-12-03 15:55:59</td>\n",
       "<td> 2 min 56.212 sec</td>\n",
       "<td>10.0</td>\n",
       "<td>3228.0604900</td>\n",
       "<td>2491.4599094</td>\n",
       "<td>10420374.5269248</td>\n",
       "<td>3253.9278499</td>\n",
       "<td>2513.8243903</td>\n",
       "<td>10588046.4524495</td></tr>\n",
       "<tr><td></td>\n",
       "<td>2018-12-03 15:56:01</td>\n",
       "<td> 2 min 57.393 sec</td>\n",
       "<td>15.0</td>\n",
       "<td>2978.4281829</td>\n",
       "<td>2273.3338660</td>\n",
       "<td>8871034.4408518</td>\n",
       "<td>3004.3430179</td>\n",
       "<td>2295.1264502</td>\n",
       "<td>9026076.9691795</td></tr>\n",
       "<tr><td></td>\n",
       "<td>2018-12-03 15:56:02</td>\n",
       "<td> 2 min 58.664 sec</td>\n",
       "<td>20.0</td>\n",
       "<td>2829.8676699</td>\n",
       "<td>2143.5676036</td>\n",
       "<td>8008151.0293037</td>\n",
       "<td>2855.3498285</td>\n",
       "<td>2164.0618579</td>\n",
       "<td>8153022.6433340</td></tr>\n",
       "<tr><td>---</td>\n",
       "<td>---</td>\n",
       "<td>---</td>\n",
       "<td>---</td>\n",
       "<td>---</td>\n",
       "<td>---</td>\n",
       "<td>---</td>\n",
       "<td>---</td>\n",
       "<td>---</td>\n",
       "<td>---</td></tr>\n",
       "<tr><td></td>\n",
       "<td>2018-12-03 15:56:22</td>\n",
       "<td> 3 min 18.633 sec</td>\n",
       "<td>115.0</td>\n",
       "<td>2555.8903300</td>\n",
       "<td>1897.4499154</td>\n",
       "<td>6532575.3791252</td>\n",
       "<td>2612.7013251</td>\n",
       "<td>1938.8103353</td>\n",
       "<td>6826208.2140711</td></tr>\n",
       "<tr><td></td>\n",
       "<td>2018-12-03 15:56:22</td>\n",
       "<td> 3 min 18.876 sec</td>\n",
       "<td>120.0</td>\n",
       "<td>2555.8903300</td>\n",
       "<td>1897.4499154</td>\n",
       "<td>6532575.3791252</td>\n",
       "<td>2612.7013251</td>\n",
       "<td>1938.8103353</td>\n",
       "<td>6826208.2140711</td></tr>\n",
       "<tr><td></td>\n",
       "<td>2018-12-03 15:56:22</td>\n",
       "<td> 3 min 19.114 sec</td>\n",
       "<td>125.0</td>\n",
       "<td>2555.8903300</td>\n",
       "<td>1897.4499154</td>\n",
       "<td>6532575.3791252</td>\n",
       "<td>2612.7013251</td>\n",
       "<td>1938.8103353</td>\n",
       "<td>6826208.2140711</td></tr>\n",
       "<tr><td></td>\n",
       "<td>2018-12-03 15:56:23</td>\n",
       "<td> 3 min 19.353 sec</td>\n",
       "<td>130.0</td>\n",
       "<td>2555.8903300</td>\n",
       "<td>1897.4499154</td>\n",
       "<td>6532575.3791252</td>\n",
       "<td>2612.7013251</td>\n",
       "<td>1938.8103353</td>\n",
       "<td>6826208.2140711</td></tr>\n",
       "<tr><td></td>\n",
       "<td>2018-12-03 15:56:23</td>\n",
       "<td> 3 min 19.550 sec</td>\n",
       "<td>134.0</td>\n",
       "<td>2555.8903300</td>\n",
       "<td>1897.4499154</td>\n",
       "<td>6532575.3791252</td>\n",
       "<td>2612.7013251</td>\n",
       "<td>1938.8103353</td>\n",
       "<td>6826208.2140711</td></tr></table></div>"
      ],
      "text/plain": [
       "     timestamp            duration          number_of_trees    training_rmse       training_mae        training_deviance    validation_rmse     validation_mae      validation_deviance\n",
       "---  -------------------  ----------------  -----------------  ------------------  ------------------  -------------------  ------------------  ------------------  ---------------------\n",
       "     2018-12-03 15:55:57  2 min 53.765 sec  0.0                5020.321101303253   4067.9847647996235  25203623.960190713   5047.688413091888   4090.1236340416517  25479158.315662105\n",
       "     2018-12-03 15:55:58  2 min 55.024 sec  5.0                3880.9232210008104  3073.830750562104   15061565.047303306   3907.380831241849   3098.222141288768   15267624.960356243\n",
       "     2018-12-03 15:55:59  2 min 56.212 sec  10.0               3228.0604899730083  2491.45990942238    10420374.52692478    3253.9278499145407  2513.8243903153243  10588046.452449465\n",
       "     2018-12-03 15:56:01  2 min 57.393 sec  15.0               2978.428182926651   2273.3338659670458  8871034.440851752    3004.343017895844   2295.1264502154672  9026076.969179505\n",
       "     2018-12-03 15:56:02  2 min 58.664 sec  20.0               2829.867669927999   2143.5676036222626  8008151.029303722    2855.349828538356   2164.0618578940175  8153022.643334019\n",
       "---  ---                  ---               ---                ---                 ---                 ---                  ---                 ---                 ---\n",
       "     2018-12-03 15:56:22  3 min 18.633 sec  115.0              2555.8903300269317  1897.4499153815755  6532575.379125178    2612.701325079302   1938.8103352650348  6826208.214071142\n",
       "     2018-12-03 15:56:22  3 min 18.876 sec  120.0              2555.8903300269317  1897.4499153815755  6532575.379125178    2612.701325079302   1938.8103352650348  6826208.214071142\n",
       "     2018-12-03 15:56:22  3 min 19.114 sec  125.0              2555.8903300269317  1897.4499153815755  6532575.379125178    2612.701325079302   1938.8103352650348  6826208.214071142\n",
       "     2018-12-03 15:56:23  3 min 19.353 sec  130.0              2555.8903300269317  1897.4499153815755  6532575.379125178    2612.701325079302   1938.8103352650348  6826208.214071142\n",
       "     2018-12-03 15:56:23  3 min 19.550 sec  134.0              2555.8903300269317  1897.4499153815755  6532575.379125178    2612.701325079302   1938.8103352650348  6826208.214071142"
      ]
     },
     "metadata": {},
     "output_type": "display_data"
    },
    {
     "name": "stdout",
     "output_type": "stream",
     "text": [
      "\n",
      "See the whole table with table.as_data_frame()\n",
      "Variable Importances: \n"
     ]
    },
    {
     "data": {
      "text/html": [
       "<div style=\"overflow:auto\"><table style=\"width:50%\"><tr><td><b>variable</b></td>\n",
       "<td><b>relative_importance</b></td>\n",
       "<td><b>scaled_importance</b></td>\n",
       "<td><b>percentage</b></td></tr>\n",
       "<tr><td>Product_Category_1</td>\n",
       "<td>32603851718656.0000000</td>\n",
       "<td>1.0</td>\n",
       "<td>0.7702031</td></tr>\n",
       "<tr><td>Product_Score</td>\n",
       "<td>3225105989632.0000000</td>\n",
       "<td>0.0989179</td>\n",
       "<td>0.0761869</td></tr>\n",
       "<tr><td>Product_ID</td>\n",
       "<td>2815588040704.0000000</td>\n",
       "<td>0.0863575</td>\n",
       "<td>0.0665128</td></tr>\n",
       "<tr><td>Product_Category_3</td>\n",
       "<td>1271207428096.0000000</td>\n",
       "<td>0.0389895</td>\n",
       "<td>0.0300298</td></tr>\n",
       "<tr><td>Product_Category_2</td>\n",
       "<td>705914077184.0000000</td>\n",
       "<td>0.0216512</td>\n",
       "<td>0.0166759</td></tr>\n",
       "<tr><td>User_Score</td>\n",
       "<td>413632561152.0000000</td>\n",
       "<td>0.0126866</td>\n",
       "<td>0.0097713</td></tr>\n",
       "<tr><td>C1</td>\n",
       "<td>359006535680.0000000</td>\n",
       "<td>0.0110112</td>\n",
       "<td>0.0084808</td></tr>\n",
       "<tr><td>User_ID</td>\n",
       "<td>279450681344.0000000</td>\n",
       "<td>0.0085711</td>\n",
       "<td>0.0066015</td></tr>\n",
       "<tr><td>Category_Count</td>\n",
       "<td>178585583616.0000000</td>\n",
       "<td>0.0054774</td>\n",
       "<td>0.0042187</td></tr>\n",
       "<tr><td>Occupation</td>\n",
       "<td>141283786752.0000000</td>\n",
       "<td>0.0043333</td>\n",
       "<td>0.0033376</td></tr>\n",
       "<tr><td>Age</td>\n",
       "<td>132518682624.0000000</td>\n",
       "<td>0.0040645</td>\n",
       "<td>0.0031305</td></tr>\n",
       "<tr><td>Stay_In_Current_City_Years</td>\n",
       "<td>77670170624.0000000</td>\n",
       "<td>0.0023822</td>\n",
       "<td>0.0018348</td></tr>\n",
       "<tr><td>City_Category</td>\n",
       "<td>58489020416.0000000</td>\n",
       "<td>0.0017939</td>\n",
       "<td>0.0013817</td></tr>\n",
       "<tr><td>Gender</td>\n",
       "<td>40578707456.0000000</td>\n",
       "<td>0.0012446</td>\n",
       "<td>0.0009586</td></tr>\n",
       "<tr><td>Marital_Status</td>\n",
       "<td>28618297344.0000000</td>\n",
       "<td>0.0008778</td>\n",
       "<td>0.0006761</td></tr></table></div>"
      ],
      "text/plain": [
       "variable                    relative_importance    scaled_importance    percentage\n",
       "--------------------------  ---------------------  -------------------  ------------\n",
       "Product_Category_1          3.26039e+13            1                    0.770203\n",
       "Product_Score               3.22511e+12            0.0989179            0.0761869\n",
       "Product_ID                  2.81559e+12            0.0863575            0.0665128\n",
       "Product_Category_3          1.27121e+12            0.0389895            0.0300298\n",
       "Product_Category_2          7.05914e+11            0.0216512            0.0166759\n",
       "User_Score                  4.13633e+11            0.0126866            0.00977127\n",
       "C1                          3.59007e+11            0.0110112            0.00848084\n",
       "User_ID                     2.79451e+11            0.00857109           0.00660148\n",
       "Category_Count              1.78586e+11            0.00547744           0.00421874\n",
       "Occupation                  1.41284e+11            0.00433335           0.00333756\n",
       "Age                         1.32519e+11            0.00406451           0.0031305\n",
       "Stay_In_Current_City_Years  7.76702e+10            0.00238224           0.00183481\n",
       "City_Category               5.8489e+10             0.00179393           0.00138169\n",
       "Gender                      4.05787e+10            0.0012446            0.000958594\n",
       "Marital_Status              2.86183e+10            0.000877758          0.000676052"
      ]
     },
     "metadata": {},
     "output_type": "display_data"
    },
    {
     "data": {
      "text/plain": []
     },
     "execution_count": 88,
     "metadata": {},
     "output_type": "execute_result"
    }
   ],
   "source": [
    "aml.leader"
   ]
  },
  {
   "cell_type": "code",
   "execution_count": 89,
   "metadata": {},
   "outputs": [
    {
     "data": {
      "text/html": [
       "<table>\n",
       "<thead>\n",
       "<tr><th>model_id                                           </th><th style=\"text-align: right;\">  mean_residual_deviance</th><th style=\"text-align: right;\">   rmse</th><th style=\"text-align: right;\">        mse</th><th style=\"text-align: right;\">    mae</th><th style=\"text-align: right;\">     rmsle</th></tr>\n",
       "</thead>\n",
       "<tbody>\n",
       "<tr><td>GBM_2_AutoML_20181203_151940                       </td><td style=\"text-align: right;\">             6.72316e+06</td><td style=\"text-align: right;\">2592.91</td><td style=\"text-align: right;\">6.72316e+06</td><td style=\"text-align: right;\">1922.81</td><td style=\"text-align: right;\">nan       </td></tr>\n",
       "<tr><td>GBM_1_AutoML_20181203_151940                       </td><td style=\"text-align: right;\">             6.8175e+06 </td><td style=\"text-align: right;\">2611.04</td><td style=\"text-align: right;\">6.8175e+06 </td><td style=\"text-align: right;\">1936.83</td><td style=\"text-align: right;\">nan       </td></tr>\n",
       "<tr><td>DRF_1_AutoML_20181203_151940                       </td><td style=\"text-align: right;\">             7.08744e+06</td><td style=\"text-align: right;\">2662.22</td><td style=\"text-align: right;\">7.08744e+06</td><td style=\"text-align: right;\">1972.79</td><td style=\"text-align: right;\">  0.346743</td></tr>\n",
       "<tr><td>StackedEnsemble_AllModels_AutoML_20181203_151940   </td><td style=\"text-align: right;\">             7.12559e+06</td><td style=\"text-align: right;\">2669.38</td><td style=\"text-align: right;\">7.12559e+06</td><td style=\"text-align: right;\">2005.89</td><td style=\"text-align: right;\">  0.426528</td></tr>\n",
       "<tr><td>XRT_1_AutoML_20181203_151940                       </td><td style=\"text-align: right;\">             7.20138e+06</td><td style=\"text-align: right;\">2683.54</td><td style=\"text-align: right;\">7.20138e+06</td><td style=\"text-align: right;\">1998.28</td><td style=\"text-align: right;\">  0.354257</td></tr>\n",
       "<tr><td>StackedEnsemble_BestOfFamily_AutoML_20181203_151940</td><td style=\"text-align: right;\">             7.36988e+06</td><td style=\"text-align: right;\">2714.75</td><td style=\"text-align: right;\">7.36988e+06</td><td style=\"text-align: right;\">2051.74</td><td style=\"text-align: right;\">  0.448205</td></tr>\n",
       "<tr><td>GLM_grid_1_AutoML_20181203_151940_model_1          </td><td style=\"text-align: right;\">             2.52033e+07</td><td style=\"text-align: right;\">5020.29</td><td style=\"text-align: right;\">2.52033e+07</td><td style=\"text-align: right;\">4067.96</td><td style=\"text-align: right;\">  0.764076</td></tr>\n",
       "</tbody>\n",
       "</table>"
      ]
     },
     "metadata": {},
     "output_type": "display_data"
    },
    {
     "data": {
      "text/plain": []
     },
     "execution_count": 89,
     "metadata": {},
     "output_type": "execute_result"
    }
   ],
   "source": [
    "aml.leaderboard"
   ]
  },
  {
   "cell_type": "code",
   "execution_count": 83,
   "metadata": {
    "collapsed": true
   },
   "outputs": [],
   "source": [
    "y_pred = preds.as_data_frame()"
   ]
  },
  {
   "cell_type": "code",
   "execution_count": 84,
   "metadata": {},
   "outputs": [
    {
     "data": {
      "text/html": [
       "<div>\n",
       "<style>\n",
       "    .dataframe thead tr:only-child th {\n",
       "        text-align: right;\n",
       "    }\n",
       "\n",
       "    .dataframe thead th {\n",
       "        text-align: left;\n",
       "    }\n",
       "\n",
       "    .dataframe tbody tr th {\n",
       "        vertical-align: top;\n",
       "    }\n",
       "</style>\n",
       "<table border=\"1\" class=\"dataframe\">\n",
       "  <thead>\n",
       "    <tr style=\"text-align: right;\">\n",
       "      <th></th>\n",
       "      <th>predict</th>\n",
       "    </tr>\n",
       "  </thead>\n",
       "  <tbody>\n",
       "    <tr>\n",
       "      <th>0</th>\n",
       "      <td>16527.482427</td>\n",
       "    </tr>\n",
       "    <tr>\n",
       "      <th>1</th>\n",
       "      <td>11236.480297</td>\n",
       "    </tr>\n",
       "    <tr>\n",
       "      <th>2</th>\n",
       "      <td>6519.440419</td>\n",
       "    </tr>\n",
       "    <tr>\n",
       "      <th>3</th>\n",
       "      <td>2845.092719</td>\n",
       "    </tr>\n",
       "    <tr>\n",
       "      <th>4</th>\n",
       "      <td>2788.020899</td>\n",
       "    </tr>\n",
       "  </tbody>\n",
       "</table>\n",
       "</div>"
      ],
      "text/plain": [
       "        predict\n",
       "0  16527.482427\n",
       "1  11236.480297\n",
       "2   6519.440419\n",
       "3   2845.092719\n",
       "4   2788.020899"
      ]
     },
     "execution_count": 84,
     "metadata": {},
     "output_type": "execute_result"
    }
   ],
   "source": [
    "y_pred.head()"
   ]
  },
  {
   "cell_type": "code",
   "execution_count": 85,
   "metadata": {
    "collapsed": true
   },
   "outputs": [],
   "source": [
    "finalsolution = BlackFridayTestNew[['User_ID','Product_ID']]\n",
    "finalsolution['Purchase'] = y_pred"
   ]
  },
  {
   "cell_type": "code",
   "execution_count": 86,
   "metadata": {
    "collapsed": true
   },
   "outputs": [],
   "source": [
    "finalsolution.to_csv('finalsolution_H2O.csv')"
   ]
  },
  {
   "cell_type": "markdown",
   "metadata": {
    "collapsed": true
   },
   "source": [
    "### Rank\t\t498\t\tScore\t2662.3541039426\tSubmission Trend\t\n"
   ]
  },
  {
   "cell_type": "code",
   "execution_count": null,
   "metadata": {
    "collapsed": true
   },
   "outputs": [],
   "source": []
  }
 ],
 "metadata": {
  "kernelspec": {
   "display_name": "Python 3",
   "language": "python",
   "name": "python3"
  },
  "language_info": {
   "codemirror_mode": {
    "name": "ipython",
    "version": 3
   },
   "file_extension": ".py",
   "mimetype": "text/x-python",
   "name": "python",
   "nbconvert_exporter": "python",
   "pygments_lexer": "ipython3",
   "version": "3.6.5"
  }
 },
 "nbformat": 4,
 "nbformat_minor": 2
}
